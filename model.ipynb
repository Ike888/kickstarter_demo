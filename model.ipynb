{
 "cells": [
  {
   "cell_type": "code",
   "execution_count": 44,
   "source": [
    "import numpy as np\n",
    "import pandas as pd\n",
    "from scipy.stats import iqr\n",
    "import matplotlib.pyplot as plt\n",
    "import matplotlib\n",
    "import seaborn as sns\n",
    "\n",
    "from sklearn.preprocessing import OneHotEncoder, LabelEncoder\n",
    "from sklearn.model_selection import train_test_split\n",
    "from sklearn.linear_model import LogisticRegression\n",
    "from sklearn.ensemble import RandomForestClassifier, GradientBoostingClassifier\n",
    "from sklearn.metrics import confusion_matrix\n",
    "from sklearn import tree, metrics\n",
    "import sklearn.metrics as metrics\n",
    "from sklearn.model_selection import RandomizedSearchCV\n",
    "from sklearn.inspection import permutation_importance\n",
    "from xgboost import XGBClassifier"
   ],
   "outputs": [],
   "metadata": {}
  },
  {
   "cell_type": "code",
   "execution_count": 9,
   "source": [
    "df = pd.read_csv('ks-projects-201801.csv')\n",
    "\n",
    "df.head()"
   ],
   "outputs": [
    {
     "output_type": "execute_result",
     "data": {
      "text/html": [
       "<div>\n",
       "<style scoped>\n",
       "    .dataframe tbody tr th:only-of-type {\n",
       "        vertical-align: middle;\n",
       "    }\n",
       "\n",
       "    .dataframe tbody tr th {\n",
       "        vertical-align: top;\n",
       "    }\n",
       "\n",
       "    .dataframe thead th {\n",
       "        text-align: right;\n",
       "    }\n",
       "</style>\n",
       "<table border=\"1\" class=\"dataframe\">\n",
       "  <thead>\n",
       "    <tr style=\"text-align: right;\">\n",
       "      <th></th>\n",
       "      <th>ID</th>\n",
       "      <th>name</th>\n",
       "      <th>category</th>\n",
       "      <th>main_category</th>\n",
       "      <th>currency</th>\n",
       "      <th>deadline</th>\n",
       "      <th>goal</th>\n",
       "      <th>launched</th>\n",
       "      <th>pledged</th>\n",
       "      <th>state</th>\n",
       "      <th>backers</th>\n",
       "      <th>country</th>\n",
       "      <th>usd pledged</th>\n",
       "      <th>usd_pledged_real</th>\n",
       "      <th>usd_goal_real</th>\n",
       "    </tr>\n",
       "  </thead>\n",
       "  <tbody>\n",
       "    <tr>\n",
       "      <th>0</th>\n",
       "      <td>1000002330</td>\n",
       "      <td>The Songs of Adelaide &amp; Abullah</td>\n",
       "      <td>Poetry</td>\n",
       "      <td>Publishing</td>\n",
       "      <td>GBP</td>\n",
       "      <td>2015-10-09</td>\n",
       "      <td>1000.0</td>\n",
       "      <td>2015-08-11 12:12:28</td>\n",
       "      <td>0.0</td>\n",
       "      <td>failed</td>\n",
       "      <td>0</td>\n",
       "      <td>GB</td>\n",
       "      <td>0.0</td>\n",
       "      <td>0.0</td>\n",
       "      <td>1533.95</td>\n",
       "    </tr>\n",
       "    <tr>\n",
       "      <th>1</th>\n",
       "      <td>1000003930</td>\n",
       "      <td>Greeting From Earth: ZGAC Arts Capsule For ET</td>\n",
       "      <td>Narrative Film</td>\n",
       "      <td>Film &amp; Video</td>\n",
       "      <td>USD</td>\n",
       "      <td>2017-11-01</td>\n",
       "      <td>30000.0</td>\n",
       "      <td>2017-09-02 04:43:57</td>\n",
       "      <td>2421.0</td>\n",
       "      <td>failed</td>\n",
       "      <td>15</td>\n",
       "      <td>US</td>\n",
       "      <td>100.0</td>\n",
       "      <td>2421.0</td>\n",
       "      <td>30000.00</td>\n",
       "    </tr>\n",
       "    <tr>\n",
       "      <th>2</th>\n",
       "      <td>1000004038</td>\n",
       "      <td>Where is Hank?</td>\n",
       "      <td>Narrative Film</td>\n",
       "      <td>Film &amp; Video</td>\n",
       "      <td>USD</td>\n",
       "      <td>2013-02-26</td>\n",
       "      <td>45000.0</td>\n",
       "      <td>2013-01-12 00:20:50</td>\n",
       "      <td>220.0</td>\n",
       "      <td>failed</td>\n",
       "      <td>3</td>\n",
       "      <td>US</td>\n",
       "      <td>220.0</td>\n",
       "      <td>220.0</td>\n",
       "      <td>45000.00</td>\n",
       "    </tr>\n",
       "    <tr>\n",
       "      <th>3</th>\n",
       "      <td>1000007540</td>\n",
       "      <td>ToshiCapital Rekordz Needs Help to Complete Album</td>\n",
       "      <td>Music</td>\n",
       "      <td>Music</td>\n",
       "      <td>USD</td>\n",
       "      <td>2012-04-16</td>\n",
       "      <td>5000.0</td>\n",
       "      <td>2012-03-17 03:24:11</td>\n",
       "      <td>1.0</td>\n",
       "      <td>failed</td>\n",
       "      <td>1</td>\n",
       "      <td>US</td>\n",
       "      <td>1.0</td>\n",
       "      <td>1.0</td>\n",
       "      <td>5000.00</td>\n",
       "    </tr>\n",
       "    <tr>\n",
       "      <th>4</th>\n",
       "      <td>1000011046</td>\n",
       "      <td>Community Film Project: The Art of Neighborhoo...</td>\n",
       "      <td>Film &amp; Video</td>\n",
       "      <td>Film &amp; Video</td>\n",
       "      <td>USD</td>\n",
       "      <td>2015-08-29</td>\n",
       "      <td>19500.0</td>\n",
       "      <td>2015-07-04 08:35:03</td>\n",
       "      <td>1283.0</td>\n",
       "      <td>canceled</td>\n",
       "      <td>14</td>\n",
       "      <td>US</td>\n",
       "      <td>1283.0</td>\n",
       "      <td>1283.0</td>\n",
       "      <td>19500.00</td>\n",
       "    </tr>\n",
       "  </tbody>\n",
       "</table>\n",
       "</div>"
      ],
      "text/plain": [
       "           ID                                               name  \\\n",
       "0  1000002330                    The Songs of Adelaide & Abullah   \n",
       "1  1000003930      Greeting From Earth: ZGAC Arts Capsule For ET   \n",
       "2  1000004038                                     Where is Hank?   \n",
       "3  1000007540  ToshiCapital Rekordz Needs Help to Complete Album   \n",
       "4  1000011046  Community Film Project: The Art of Neighborhoo...   \n",
       "\n",
       "         category main_category currency    deadline     goal  \\\n",
       "0          Poetry    Publishing      GBP  2015-10-09   1000.0   \n",
       "1  Narrative Film  Film & Video      USD  2017-11-01  30000.0   \n",
       "2  Narrative Film  Film & Video      USD  2013-02-26  45000.0   \n",
       "3           Music         Music      USD  2012-04-16   5000.0   \n",
       "4    Film & Video  Film & Video      USD  2015-08-29  19500.0   \n",
       "\n",
       "              launched  pledged     state  backers country  usd pledged  \\\n",
       "0  2015-08-11 12:12:28      0.0    failed        0      GB          0.0   \n",
       "1  2017-09-02 04:43:57   2421.0    failed       15      US        100.0   \n",
       "2  2013-01-12 00:20:50    220.0    failed        3      US        220.0   \n",
       "3  2012-03-17 03:24:11      1.0    failed        1      US          1.0   \n",
       "4  2015-07-04 08:35:03   1283.0  canceled       14      US       1283.0   \n",
       "\n",
       "   usd_pledged_real  usd_goal_real  \n",
       "0               0.0        1533.95  \n",
       "1            2421.0       30000.00  \n",
       "2             220.0       45000.00  \n",
       "3               1.0        5000.00  \n",
       "4            1283.0       19500.00  "
      ]
     },
     "metadata": {},
     "execution_count": 9
    }
   ],
   "metadata": {}
  },
  {
   "cell_type": "code",
   "execution_count": 10,
   "source": [
    "df.info()"
   ],
   "outputs": [
    {
     "output_type": "stream",
     "name": "stdout",
     "text": [
      "<class 'pandas.core.frame.DataFrame'>\n",
      "RangeIndex: 378661 entries, 0 to 378660\n",
      "Data columns (total 15 columns):\n",
      " #   Column            Non-Null Count   Dtype  \n",
      "---  ------            --------------   -----  \n",
      " 0   ID                378661 non-null  int64  \n",
      " 1   name              378657 non-null  object \n",
      " 2   category          378661 non-null  object \n",
      " 3   main_category     378661 non-null  object \n",
      " 4   currency          378661 non-null  object \n",
      " 5   deadline          378661 non-null  object \n",
      " 6   goal              378661 non-null  float64\n",
      " 7   launched          378661 non-null  object \n",
      " 8   pledged           378661 non-null  float64\n",
      " 9   state             378661 non-null  object \n",
      " 10  backers           378661 non-null  int64  \n",
      " 11  country           378661 non-null  object \n",
      " 12  usd pledged       374864 non-null  float64\n",
      " 13  usd_pledged_real  378661 non-null  float64\n",
      " 14  usd_goal_real     378661 non-null  float64\n",
      "dtypes: float64(5), int64(2), object(8)\n",
      "memory usage: 43.3+ MB\n"
     ]
    }
   ],
   "metadata": {}
  },
  {
   "cell_type": "code",
   "execution_count": 11,
   "source": [
    "for col in df:\n",
    "    print(df[col].unique())"
   ],
   "outputs": [
    {
     "output_type": "stream",
     "name": "stdout",
     "text": [
      "[1000002330 1000003930 1000004038 ...  999986353  999987933  999988282]\n",
      "['The Songs of Adelaide & Abullah'\n",
      " 'Greeting From Earth: ZGAC Arts Capsule For ET' 'Where is Hank?' ...\n",
      " 'Walls of Remedy- New lesbian Romantic Comedy feature unlike any other!!'\n",
      " 'BioDefense Education Kit' 'Nou Renmen Ayiti!  We Love Haiti!']\n",
      "['Poetry' 'Narrative Film' 'Music' 'Film & Video' 'Restaurants' 'Food'\n",
      " 'Drinks' 'Product Design' 'Documentary' 'Nonfiction' 'Indie Rock'\n",
      " 'Crafts' 'Games' 'Tabletop Games' 'Design' 'Comic Books' 'Art Books'\n",
      " 'Fashion' 'Childrenswear' 'Theater' 'Comics' 'DIY' 'Webseries'\n",
      " 'Animation' 'Food Trucks' 'Public Art' 'Illustration' 'Photography' 'Pop'\n",
      " 'People' 'Art' 'Family' 'Fiction' 'Accessories' 'Rock' 'Hardware'\n",
      " 'Software' 'Weaving' 'Gadgets' 'Web' 'Jazz' 'Ready-to-wear' 'Festivals'\n",
      " 'Video Games' 'Anthologies' 'Publishing' 'Shorts' 'Electronic Music'\n",
      " 'Radio & Podcasts' 'Apps' 'Cookbooks' 'Apparel' 'Metal' 'Comedy'\n",
      " 'Hip-Hop' 'Periodicals' 'Dance' 'Technology' 'Painting' 'World Music'\n",
      " 'Photobooks' 'Drama' 'Architecture' 'Young Adult' 'Latin' 'Mobile Games'\n",
      " 'Flight' 'Fine Art' 'Action' 'Playing Cards' 'Makerspaces' 'Punk'\n",
      " 'Thrillers' \"Children's Books\" 'Audio' 'Performance Art' 'Ceramics'\n",
      " 'Vegan' 'Graphic Novels' 'Fabrication Tools' 'Performances' 'Sculpture'\n",
      " 'Sound' 'Stationery' 'Print' \"Farmer's Markets\" 'Events'\n",
      " 'Classical Music' 'Graphic Design' 'Spaces' 'Country & Folk' 'Wearables'\n",
      " 'Mixed Media' 'Journalism' 'Movie Theaters' 'Animals' 'Digital Art'\n",
      " 'Horror' 'Knitting' 'Small Batch' 'Installations' 'Community Gardens'\n",
      " 'DIY Electronics' 'Embroidery' 'Camera Equipment' 'Jewelry' 'Farms'\n",
      " 'Conceptual Art' 'Fantasy' 'Webcomics' 'Experimental' 'Science Fiction'\n",
      " 'Puzzles' 'R&B' 'Music Videos' 'Calendars' 'Video' 'Plays' 'Blues'\n",
      " 'Bacon' 'Faith' 'Live Games' 'Woodworking' 'Places' 'Footwear'\n",
      " '3D Printing' 'Academic' 'Zines' 'Musical' 'Workshops' 'Photo'\n",
      " 'Immersive' 'Letterpress' 'Gaming Hardware' 'Candles' 'Television'\n",
      " 'Space Exploration' 'Couture' 'Nature' 'Robots' 'Typography' 'Crochet'\n",
      " 'Translations' 'Textiles' 'Pottery' 'Interactive Design' 'Video Art'\n",
      " 'Quilts' 'Glass' 'Pet Fashion' 'Printing' 'Romance' 'Civic Design' 'Kids'\n",
      " 'Literary Journals' 'Taxidermy' 'Literary Spaces' 'Chiptune'\n",
      " 'Residencies']\n",
      "['Publishing' 'Film & Video' 'Music' 'Food' 'Design' 'Crafts' 'Games'\n",
      " 'Comics' 'Fashion' 'Theater' 'Art' 'Photography' 'Technology' 'Dance'\n",
      " 'Journalism']\n",
      "['GBP' 'USD' 'CAD' 'AUD' 'NOK' 'EUR' 'MXN' 'SEK' 'NZD' 'CHF' 'DKK' 'HKD'\n",
      " 'SGD' 'JPY']\n",
      "['2015-10-09' '2017-11-01' '2013-02-26' ... '2009-07-26' '2009-07-30'\n",
      " '2009-12-28']\n",
      "[  1000.  30000.  45000. ... 186037.  33975.  28559.]\n",
      "['2015-08-11 12:12:28' '2017-09-02 04:43:57' '2013-01-12 00:20:50' ...\n",
      " '2010-07-01 19:40:30' '2016-01-13 18:13:53' '2011-07-19 09:07:47']\n",
      "[    0.    2421.     220.   ... 42647.   13861.5   1732.02]\n",
      "['failed' 'canceled' 'successful' 'live' 'undefined' 'suspended']\n",
      "[   0   15    3 ... 5828 7855 2314]\n",
      "['GB' 'US' 'CA' 'AU' 'NO' 'IT' 'DE' 'IE' 'MX' 'ES' 'N,0\"' 'SE' 'FR' 'NL'\n",
      " 'NZ' 'CH' 'AT' 'DK' 'BE' 'HK' 'LU' 'SG' 'JP']\n",
      "[   0.    100.    220.   ... 1732.02 5019.92 2698.97]\n",
      "[   0.   2421.    220.   ... 1732.02 4983.69 2875.83]\n",
      "[ 1533.95 30000.   45000.   ... 28559.   82207.27 25566.05]\n"
     ]
    }
   ],
   "metadata": {}
  },
  {
   "cell_type": "code",
   "execution_count": 12,
   "source": [
    "df['state'].value_counts(normalize=True)\n",
    "\n",
    "df['state'].value_counts()"
   ],
   "outputs": [
    {
     "output_type": "execute_result",
     "data": {
      "text/plain": [
       "failed        197719\n",
       "successful    133956\n",
       "canceled       38779\n",
       "undefined       3562\n",
       "live            2799\n",
       "suspended       1846\n",
       "Name: state, dtype: int64"
      ]
     },
     "metadata": {},
     "execution_count": 12
    }
   ],
   "metadata": {}
  },
  {
   "cell_type": "code",
   "execution_count": 13,
   "source": [
    "def wrangle(file_path):\n",
    "    \n",
    "    #reading in data, parsing the two date columns\n",
    "    df = pd.read_csv(file_path, parse_dates=['deadline', 'launched'])\n",
    "\n",
    "    #dropping any live campaigns\n",
    "    df = df.query('state != \"live\"')\n",
    "\n",
    "    #creating new column 'success' will have a 1 if state is succesfull, else 0\n",
    "    df.loc[df['state'] == 'successful', 'success'] = 1\n",
    "    df.loc[df['state'] != 'successful', 'success'] = 0\n",
    "\n",
    "    \n",
    "    #creating new columns for the dates\n",
    "    df = df.assign(hour=df.launched.dt.hour,\n",
    "               day=df.launched.dt.day,\n",
    "               month=df.launched.dt.month,\n",
    "               year=df.launched.dt.year)\n",
    "               \n",
    "    return df\n",
    "\n",
    "df = wrangle(\"ks-projects-201801.csv\");"
   ],
   "outputs": [
    {
     "output_type": "stream",
     "name": "stderr",
     "text": [
      "/home/hj/.local/share/virtualenvs/Kickstarter-aZ_5KkIK/lib/python3.9/site-packages/pandas/core/indexing.py:1684: SettingWithCopyWarning: \n",
      "A value is trying to be set on a copy of a slice from a DataFrame.\n",
      "Try using .loc[row_indexer,col_indexer] = value instead\n",
      "\n",
      "See the caveats in the documentation: https://pandas.pydata.org/pandas-docs/stable/user_guide/indexing.html#returning-a-view-versus-a-copy\n",
      "  self.obj[key] = infer_fill_value(value)\n",
      "/home/hj/.local/share/virtualenvs/Kickstarter-aZ_5KkIK/lib/python3.9/site-packages/pandas/core/indexing.py:1817: SettingWithCopyWarning: \n",
      "A value is trying to be set on a copy of a slice from a DataFrame.\n",
      "Try using .loc[row_indexer,col_indexer] = value instead\n",
      "\n",
      "See the caveats in the documentation: https://pandas.pydata.org/pandas-docs/stable/user_guide/indexing.html#returning-a-view-versus-a-copy\n",
      "  self._setitem_single_column(loc, value, pi)\n"
     ]
    }
   ],
   "metadata": {}
  },
  {
   "cell_type": "code",
   "execution_count": 14,
   "source": [
    "df.head()"
   ],
   "outputs": [
    {
     "output_type": "execute_result",
     "data": {
      "text/html": [
       "<div>\n",
       "<style scoped>\n",
       "    .dataframe tbody tr th:only-of-type {\n",
       "        vertical-align: middle;\n",
       "    }\n",
       "\n",
       "    .dataframe tbody tr th {\n",
       "        vertical-align: top;\n",
       "    }\n",
       "\n",
       "    .dataframe thead th {\n",
       "        text-align: right;\n",
       "    }\n",
       "</style>\n",
       "<table border=\"1\" class=\"dataframe\">\n",
       "  <thead>\n",
       "    <tr style=\"text-align: right;\">\n",
       "      <th></th>\n",
       "      <th>ID</th>\n",
       "      <th>name</th>\n",
       "      <th>category</th>\n",
       "      <th>main_category</th>\n",
       "      <th>currency</th>\n",
       "      <th>deadline</th>\n",
       "      <th>goal</th>\n",
       "      <th>launched</th>\n",
       "      <th>pledged</th>\n",
       "      <th>state</th>\n",
       "      <th>backers</th>\n",
       "      <th>country</th>\n",
       "      <th>usd pledged</th>\n",
       "      <th>usd_pledged_real</th>\n",
       "      <th>usd_goal_real</th>\n",
       "      <th>success</th>\n",
       "      <th>hour</th>\n",
       "      <th>day</th>\n",
       "      <th>month</th>\n",
       "      <th>year</th>\n",
       "    </tr>\n",
       "  </thead>\n",
       "  <tbody>\n",
       "    <tr>\n",
       "      <th>0</th>\n",
       "      <td>1000002330</td>\n",
       "      <td>The Songs of Adelaide &amp; Abullah</td>\n",
       "      <td>Poetry</td>\n",
       "      <td>Publishing</td>\n",
       "      <td>GBP</td>\n",
       "      <td>2015-10-09</td>\n",
       "      <td>1000.0</td>\n",
       "      <td>2015-08-11 12:12:28</td>\n",
       "      <td>0.0</td>\n",
       "      <td>failed</td>\n",
       "      <td>0</td>\n",
       "      <td>GB</td>\n",
       "      <td>0.0</td>\n",
       "      <td>0.0</td>\n",
       "      <td>1533.95</td>\n",
       "      <td>0.0</td>\n",
       "      <td>12</td>\n",
       "      <td>11</td>\n",
       "      <td>8</td>\n",
       "      <td>2015</td>\n",
       "    </tr>\n",
       "    <tr>\n",
       "      <th>1</th>\n",
       "      <td>1000003930</td>\n",
       "      <td>Greeting From Earth: ZGAC Arts Capsule For ET</td>\n",
       "      <td>Narrative Film</td>\n",
       "      <td>Film &amp; Video</td>\n",
       "      <td>USD</td>\n",
       "      <td>2017-11-01</td>\n",
       "      <td>30000.0</td>\n",
       "      <td>2017-09-02 04:43:57</td>\n",
       "      <td>2421.0</td>\n",
       "      <td>failed</td>\n",
       "      <td>15</td>\n",
       "      <td>US</td>\n",
       "      <td>100.0</td>\n",
       "      <td>2421.0</td>\n",
       "      <td>30000.00</td>\n",
       "      <td>0.0</td>\n",
       "      <td>4</td>\n",
       "      <td>2</td>\n",
       "      <td>9</td>\n",
       "      <td>2017</td>\n",
       "    </tr>\n",
       "    <tr>\n",
       "      <th>2</th>\n",
       "      <td>1000004038</td>\n",
       "      <td>Where is Hank?</td>\n",
       "      <td>Narrative Film</td>\n",
       "      <td>Film &amp; Video</td>\n",
       "      <td>USD</td>\n",
       "      <td>2013-02-26</td>\n",
       "      <td>45000.0</td>\n",
       "      <td>2013-01-12 00:20:50</td>\n",
       "      <td>220.0</td>\n",
       "      <td>failed</td>\n",
       "      <td>3</td>\n",
       "      <td>US</td>\n",
       "      <td>220.0</td>\n",
       "      <td>220.0</td>\n",
       "      <td>45000.00</td>\n",
       "      <td>0.0</td>\n",
       "      <td>0</td>\n",
       "      <td>12</td>\n",
       "      <td>1</td>\n",
       "      <td>2013</td>\n",
       "    </tr>\n",
       "    <tr>\n",
       "      <th>3</th>\n",
       "      <td>1000007540</td>\n",
       "      <td>ToshiCapital Rekordz Needs Help to Complete Album</td>\n",
       "      <td>Music</td>\n",
       "      <td>Music</td>\n",
       "      <td>USD</td>\n",
       "      <td>2012-04-16</td>\n",
       "      <td>5000.0</td>\n",
       "      <td>2012-03-17 03:24:11</td>\n",
       "      <td>1.0</td>\n",
       "      <td>failed</td>\n",
       "      <td>1</td>\n",
       "      <td>US</td>\n",
       "      <td>1.0</td>\n",
       "      <td>1.0</td>\n",
       "      <td>5000.00</td>\n",
       "      <td>0.0</td>\n",
       "      <td>3</td>\n",
       "      <td>17</td>\n",
       "      <td>3</td>\n",
       "      <td>2012</td>\n",
       "    </tr>\n",
       "    <tr>\n",
       "      <th>4</th>\n",
       "      <td>1000011046</td>\n",
       "      <td>Community Film Project: The Art of Neighborhoo...</td>\n",
       "      <td>Film &amp; Video</td>\n",
       "      <td>Film &amp; Video</td>\n",
       "      <td>USD</td>\n",
       "      <td>2015-08-29</td>\n",
       "      <td>19500.0</td>\n",
       "      <td>2015-07-04 08:35:03</td>\n",
       "      <td>1283.0</td>\n",
       "      <td>canceled</td>\n",
       "      <td>14</td>\n",
       "      <td>US</td>\n",
       "      <td>1283.0</td>\n",
       "      <td>1283.0</td>\n",
       "      <td>19500.00</td>\n",
       "      <td>0.0</td>\n",
       "      <td>8</td>\n",
       "      <td>4</td>\n",
       "      <td>7</td>\n",
       "      <td>2015</td>\n",
       "    </tr>\n",
       "  </tbody>\n",
       "</table>\n",
       "</div>"
      ],
      "text/plain": [
       "           ID                                               name  \\\n",
       "0  1000002330                    The Songs of Adelaide & Abullah   \n",
       "1  1000003930      Greeting From Earth: ZGAC Arts Capsule For ET   \n",
       "2  1000004038                                     Where is Hank?   \n",
       "3  1000007540  ToshiCapital Rekordz Needs Help to Complete Album   \n",
       "4  1000011046  Community Film Project: The Art of Neighborhoo...   \n",
       "\n",
       "         category main_category currency   deadline     goal  \\\n",
       "0          Poetry    Publishing      GBP 2015-10-09   1000.0   \n",
       "1  Narrative Film  Film & Video      USD 2017-11-01  30000.0   \n",
       "2  Narrative Film  Film & Video      USD 2013-02-26  45000.0   \n",
       "3           Music         Music      USD 2012-04-16   5000.0   \n",
       "4    Film & Video  Film & Video      USD 2015-08-29  19500.0   \n",
       "\n",
       "             launched  pledged     state  backers country  usd pledged  \\\n",
       "0 2015-08-11 12:12:28      0.0    failed        0      GB          0.0   \n",
       "1 2017-09-02 04:43:57   2421.0    failed       15      US        100.0   \n",
       "2 2013-01-12 00:20:50    220.0    failed        3      US        220.0   \n",
       "3 2012-03-17 03:24:11      1.0    failed        1      US          1.0   \n",
       "4 2015-07-04 08:35:03   1283.0  canceled       14      US       1283.0   \n",
       "\n",
       "   usd_pledged_real  usd_goal_real  success  hour  day  month  year  \n",
       "0               0.0        1533.95      0.0    12   11      8  2015  \n",
       "1            2421.0       30000.00      0.0     4    2      9  2017  \n",
       "2             220.0       45000.00      0.0     0   12      1  2013  \n",
       "3               1.0        5000.00      0.0     3   17      3  2012  \n",
       "4            1283.0       19500.00      0.0     8    4      7  2015  "
      ]
     },
     "metadata": {},
     "execution_count": 14
    }
   ],
   "metadata": {}
  },
  {
   "cell_type": "code",
   "execution_count": 15,
   "source": [
    "# get top 10 most frequent names\n",
    "n=10\n",
    "df['name'].value_counts()[:n].index.tolist()"
   ],
   "outputs": [
    {
     "output_type": "execute_result",
     "data": {
      "text/plain": [
       "['New EP/Music Development',\n",
       " 'Canceled (Canceled)',\n",
       " 'Music Video',\n",
       " 'N/A (Canceled)',\n",
       " 'Debut Album',\n",
       " 'New EP / Music Development',\n",
       " 'Cancelled (Canceled)',\n",
       " 'Reflections',\n",
       " 'The Journey',\n",
       " 'The Awakening']"
      ]
     },
     "metadata": {},
     "execution_count": 15
    }
   ],
   "metadata": {}
  },
  {
   "cell_type": "code",
   "execution_count": 17,
   "source": [
    "df.describe()"
   ],
   "outputs": [
    {
     "output_type": "execute_result",
     "data": {
      "text/html": [
       "<div>\n",
       "<style scoped>\n",
       "    .dataframe tbody tr th:only-of-type {\n",
       "        vertical-align: middle;\n",
       "    }\n",
       "\n",
       "    .dataframe tbody tr th {\n",
       "        vertical-align: top;\n",
       "    }\n",
       "\n",
       "    .dataframe thead th {\n",
       "        text-align: right;\n",
       "    }\n",
       "</style>\n",
       "<table border=\"1\" class=\"dataframe\">\n",
       "  <thead>\n",
       "    <tr style=\"text-align: right;\">\n",
       "      <th></th>\n",
       "      <th>ID</th>\n",
       "      <th>goal</th>\n",
       "      <th>pledged</th>\n",
       "      <th>backers</th>\n",
       "      <th>usd pledged</th>\n",
       "      <th>usd_pledged_real</th>\n",
       "      <th>usd_goal_real</th>\n",
       "      <th>success</th>\n",
       "      <th>hour</th>\n",
       "      <th>day</th>\n",
       "      <th>month</th>\n",
       "      <th>year</th>\n",
       "    </tr>\n",
       "  </thead>\n",
       "  <tbody>\n",
       "    <tr>\n",
       "      <th>count</th>\n",
       "      <td>3.758620e+05</td>\n",
       "      <td>3.758620e+05</td>\n",
       "      <td>3.758620e+05</td>\n",
       "      <td>375862.000000</td>\n",
       "      <td>3.720660e+05</td>\n",
       "      <td>3.758620e+05</td>\n",
       "      <td>3.758620e+05</td>\n",
       "      <td>375862.000000</td>\n",
       "      <td>375862.000000</td>\n",
       "      <td>375862.000000</td>\n",
       "      <td>375862.000000</td>\n",
       "      <td>375862.000000</td>\n",
       "    </tr>\n",
       "    <tr>\n",
       "      <th>mean</th>\n",
       "      <td>1.074660e+09</td>\n",
       "      <td>4.887465e+04</td>\n",
       "      <td>9.687431e+03</td>\n",
       "      <td>105.896866</td>\n",
       "      <td>7.080215e+03</td>\n",
       "      <td>9.082678e+03</td>\n",
       "      <td>4.532720e+04</td>\n",
       "      <td>0.356397</td>\n",
       "      <td>13.091637</td>\n",
       "      <td>15.294741</td>\n",
       "      <td>6.425403</td>\n",
       "      <td>2014.227014</td>\n",
       "    </tr>\n",
       "    <tr>\n",
       "      <th>std</th>\n",
       "      <td>6.191365e+08</td>\n",
       "      <td>1.176595e+06</td>\n",
       "      <td>9.588649e+04</td>\n",
       "      <td>909.952393</td>\n",
       "      <td>7.893105e+04</td>\n",
       "      <td>9.127075e+04</td>\n",
       "      <td>1.145865e+06</td>\n",
       "      <td>0.478935</td>\n",
       "      <td>7.712252</td>\n",
       "      <td>8.809024</td>\n",
       "      <td>3.310220</td>\n",
       "      <td>1.925235</td>\n",
       "    </tr>\n",
       "    <tr>\n",
       "      <th>min</th>\n",
       "      <td>5.971000e+03</td>\n",
       "      <td>1.000000e-02</td>\n",
       "      <td>0.000000e+00</td>\n",
       "      <td>0.000000</td>\n",
       "      <td>0.000000e+00</td>\n",
       "      <td>0.000000e+00</td>\n",
       "      <td>1.000000e-02</td>\n",
       "      <td>0.000000</td>\n",
       "      <td>0.000000</td>\n",
       "      <td>1.000000</td>\n",
       "      <td>1.000000</td>\n",
       "      <td>1970.000000</td>\n",
       "    </tr>\n",
       "    <tr>\n",
       "      <th>25%</th>\n",
       "      <td>5.380103e+08</td>\n",
       "      <td>2.000000e+03</td>\n",
       "      <td>3.000000e+01</td>\n",
       "      <td>2.000000</td>\n",
       "      <td>1.800000e+01</td>\n",
       "      <td>3.100000e+01</td>\n",
       "      <td>2.000000e+03</td>\n",
       "      <td>0.000000</td>\n",
       "      <td>5.000000</td>\n",
       "      <td>8.000000</td>\n",
       "      <td>4.000000</td>\n",
       "      <td>2013.000000</td>\n",
       "    </tr>\n",
       "    <tr>\n",
       "      <th>50%</th>\n",
       "      <td>1.075277e+09</td>\n",
       "      <td>5.100000e+03</td>\n",
       "      <td>6.250000e+02</td>\n",
       "      <td>12.000000</td>\n",
       "      <td>4.000000e+02</td>\n",
       "      <td>6.274500e+02</td>\n",
       "      <td>5.480000e+03</td>\n",
       "      <td>0.000000</td>\n",
       "      <td>16.000000</td>\n",
       "      <td>15.000000</td>\n",
       "      <td>6.000000</td>\n",
       "      <td>2014.000000</td>\n",
       "    </tr>\n",
       "    <tr>\n",
       "      <th>75%</th>\n",
       "      <td>1.610139e+09</td>\n",
       "      <td>1.600000e+04</td>\n",
       "      <td>4.090000e+03</td>\n",
       "      <td>56.000000</td>\n",
       "      <td>3.056957e+03</td>\n",
       "      <td>4.064462e+03</td>\n",
       "      <td>1.550000e+04</td>\n",
       "      <td>1.000000</td>\n",
       "      <td>20.000000</td>\n",
       "      <td>23.000000</td>\n",
       "      <td>9.000000</td>\n",
       "      <td>2016.000000</td>\n",
       "    </tr>\n",
       "    <tr>\n",
       "      <th>max</th>\n",
       "      <td>2.147476e+09</td>\n",
       "      <td>1.000000e+08</td>\n",
       "      <td>2.033899e+07</td>\n",
       "      <td>219382.000000</td>\n",
       "      <td>2.033899e+07</td>\n",
       "      <td>2.033899e+07</td>\n",
       "      <td>1.663614e+08</td>\n",
       "      <td>1.000000</td>\n",
       "      <td>23.000000</td>\n",
       "      <td>31.000000</td>\n",
       "      <td>12.000000</td>\n",
       "      <td>2018.000000</td>\n",
       "    </tr>\n",
       "  </tbody>\n",
       "</table>\n",
       "</div>"
      ],
      "text/plain": [
       "                 ID          goal       pledged        backers   usd pledged  \\\n",
       "count  3.758620e+05  3.758620e+05  3.758620e+05  375862.000000  3.720660e+05   \n",
       "mean   1.074660e+09  4.887465e+04  9.687431e+03     105.896866  7.080215e+03   \n",
       "std    6.191365e+08  1.176595e+06  9.588649e+04     909.952393  7.893105e+04   \n",
       "min    5.971000e+03  1.000000e-02  0.000000e+00       0.000000  0.000000e+00   \n",
       "25%    5.380103e+08  2.000000e+03  3.000000e+01       2.000000  1.800000e+01   \n",
       "50%    1.075277e+09  5.100000e+03  6.250000e+02      12.000000  4.000000e+02   \n",
       "75%    1.610139e+09  1.600000e+04  4.090000e+03      56.000000  3.056957e+03   \n",
       "max    2.147476e+09  1.000000e+08  2.033899e+07  219382.000000  2.033899e+07   \n",
       "\n",
       "       usd_pledged_real  usd_goal_real        success           hour  \\\n",
       "count      3.758620e+05   3.758620e+05  375862.000000  375862.000000   \n",
       "mean       9.082678e+03   4.532720e+04       0.356397      13.091637   \n",
       "std        9.127075e+04   1.145865e+06       0.478935       7.712252   \n",
       "min        0.000000e+00   1.000000e-02       0.000000       0.000000   \n",
       "25%        3.100000e+01   2.000000e+03       0.000000       5.000000   \n",
       "50%        6.274500e+02   5.480000e+03       0.000000      16.000000   \n",
       "75%        4.064462e+03   1.550000e+04       1.000000      20.000000   \n",
       "max        2.033899e+07   1.663614e+08       1.000000      23.000000   \n",
       "\n",
       "                 day          month           year  \n",
       "count  375862.000000  375862.000000  375862.000000  \n",
       "mean       15.294741       6.425403    2014.227014  \n",
       "std         8.809024       3.310220       1.925235  \n",
       "min         1.000000       1.000000    1970.000000  \n",
       "25%         8.000000       4.000000    2013.000000  \n",
       "50%        15.000000       6.000000    2014.000000  \n",
       "75%        23.000000       9.000000    2016.000000  \n",
       "max        31.000000      12.000000    2018.000000  "
      ]
     },
     "metadata": {},
     "execution_count": 17
    }
   ],
   "metadata": {}
  },
  {
   "cell_type": "code",
   "execution_count": 18,
   "source": [
    "Q1 = df['usd_pledged_real'].quantile(0.25)\n",
    "Q3 = df['usd_pledged_real'].quantile(0.75)\n",
    "IQR = Q3 - Q1"
   ],
   "outputs": [],
   "metadata": {}
  },
  {
   "cell_type": "code",
   "execution_count": 19,
   "source": [
    "filtered = df.query('(@Q1 - 1.5 * @IQR) <= usd_pledged_real <= (@Q3 + 1.5 * @IQR)')\n",
    "filtered.info()"
   ],
   "outputs": [
    {
     "output_type": "stream",
     "name": "stdout",
     "text": [
      "<class 'pandas.core.frame.DataFrame'>\n",
      "Int64Index: 325819 entries, 0 to 378660\n",
      "Data columns (total 20 columns):\n",
      " #   Column            Non-Null Count   Dtype         \n",
      "---  ------            --------------   -----         \n",
      " 0   ID                325819 non-null  int64         \n",
      " 1   name              325815 non-null  object        \n",
      " 2   category          325819 non-null  object        \n",
      " 3   main_category     325819 non-null  object        \n",
      " 4   currency          325819 non-null  object        \n",
      " 5   deadline          325819 non-null  datetime64[ns]\n",
      " 6   goal              325819 non-null  float64       \n",
      " 7   launched          325819 non-null  datetime64[ns]\n",
      " 8   pledged           325819 non-null  float64       \n",
      " 9   state             325819 non-null  object        \n",
      " 10  backers           325819 non-null  int64         \n",
      " 11  country           325819 non-null  object        \n",
      " 12  usd pledged       322029 non-null  float64       \n",
      " 13  usd_pledged_real  325819 non-null  float64       \n",
      " 14  usd_goal_real     325819 non-null  float64       \n",
      " 15  success           325819 non-null  float64       \n",
      " 16  hour              325819 non-null  int64         \n",
      " 17  day               325819 non-null  int64         \n",
      " 18  month             325819 non-null  int64         \n",
      " 19  year              325819 non-null  int64         \n",
      "dtypes: datetime64[ns](2), float64(6), int64(6), object(6)\n",
      "memory usage: 52.2+ MB\n"
     ]
    }
   ],
   "metadata": {}
  },
  {
   "cell_type": "code",
   "execution_count": 20,
   "source": [
    "\n",
    "print(filtered.skew())"
   ],
   "outputs": [
    {
     "output_type": "stream",
     "name": "stdout",
     "text": [
      "ID                  -0.001749\n",
      "goal                67.339900\n",
      "pledged             65.931051\n",
      "backers              5.061855\n",
      "usd pledged          2.129705\n",
      "usd_pledged_real     1.839102\n",
      "usd_goal_real       74.778366\n",
      "success              0.980646\n",
      "hour                -0.396098\n",
      "day                  0.059938\n",
      "month                0.007826\n",
      "year                -0.628928\n",
      "dtype: float64\n"
     ]
    },
    {
     "output_type": "stream",
     "name": "stderr",
     "text": [
      "/tmp/ipykernel_4667/3295711747.py:1: FutureWarning: Dropping of nuisance columns in DataFrame reductions (with 'numeric_only=None') is deprecated; in a future version this will raise TypeError.  Select only valid columns before calling the reduction.\n",
      "  print(filtered.skew())\n"
     ]
    }
   ],
   "metadata": {}
  },
  {
   "cell_type": "code",
   "execution_count": 22,
   "source": [
    "filtered['category'].nunique()"
   ],
   "outputs": [
    {
     "output_type": "execute_result",
     "data": {
      "text/plain": [
       "159"
      ]
     },
     "metadata": {},
     "execution_count": 22
    }
   ],
   "metadata": {}
  },
  {
   "cell_type": "code",
   "execution_count": 23,
   "source": [
    "df['state'].value_counts()"
   ],
   "outputs": [
    {
     "output_type": "execute_result",
     "data": {
      "text/plain": [
       "failed        197719\n",
       "successful    133956\n",
       "canceled       38779\n",
       "undefined       3562\n",
       "suspended       1846\n",
       "Name: state, dtype: int64"
      ]
     },
     "metadata": {},
     "execution_count": 23
    }
   ],
   "metadata": {}
  },
  {
   "cell_type": "code",
   "execution_count": 24,
   "source": [
    "def seasons(date_ranges):\n",
    "  season = \"\"\n",
    "  if date_ranges is pd.NaT:\n",
    "    return \"NAN\"\n",
    "  else:\n",
    "    #print(date_ranges)\n",
    "    str_date_range = date_ranges.strftime(\"%m-%d\")\n",
    "    #print(date_ranges.strftime(\"%m-%d\"))\n",
    "    #print(date_ranges.strftime(\"%m-%d\") > \"08-26\")\n",
    "    if str_date_range >= \"12-21\" or str_date_range <= \"03-20\":\n",
    "      season = \"Winter\"\n",
    "    if str_date_range >= \"03-21\" and str_date_range <=\"06-20\":\n",
    "      season = \"Spring\"\n",
    "    if str_date_range >=\"06-21\" and str_date_range <=\"09-20\":\n",
    "      season = \"Summer\"\n",
    "    if str_date_range >=\"09-21\" and str_date_range <=\"12-20\":\n",
    "      season = \"Fall\"\n",
    "    return season\n",
    "    \n",
    "filtered['launch_season'] = filtered['launched'].apply(seasons)\n",
    "filtered['deadline_season'] = filtered['deadline'].apply(seasons)"
   ],
   "outputs": [
    {
     "output_type": "stream",
     "name": "stderr",
     "text": [
      "/tmp/ipykernel_4667/4159332542.py:20: SettingWithCopyWarning: \n",
      "A value is trying to be set on a copy of a slice from a DataFrame.\n",
      "Try using .loc[row_indexer,col_indexer] = value instead\n",
      "\n",
      "See the caveats in the documentation: https://pandas.pydata.org/pandas-docs/stable/user_guide/indexing.html#returning-a-view-versus-a-copy\n",
      "  filtered['launch_season'] = filtered['launched'].apply(seasons)\n",
      "/tmp/ipykernel_4667/4159332542.py:21: SettingWithCopyWarning: \n",
      "A value is trying to be set on a copy of a slice from a DataFrame.\n",
      "Try using .loc[row_indexer,col_indexer] = value instead\n",
      "\n",
      "See the caveats in the documentation: https://pandas.pydata.org/pandas-docs/stable/user_guide/indexing.html#returning-a-view-versus-a-copy\n",
      "  filtered['deadline_season'] = filtered['deadline'].apply(seasons)\n"
     ]
    }
   ],
   "metadata": {}
  },
  {
   "cell_type": "code",
   "execution_count": 25,
   "source": [
    "def season_encoder(values):\n",
    "  inter = 0\n",
    "  if values == \"Spring\":\n",
    "    inter = 1\n",
    "  elif values == \"Summer\":\n",
    "    inter = 2\n",
    "  elif values == \"Fall\":\n",
    "    inter = 3\n",
    "  elif values == \"Winter\":\n",
    "    inter = 4\n",
    "  else:\n",
    "    inter = \"NAN\"\n",
    "  return inter\n",
    "\n",
    "filtered['launch_season_encode'] = filtered['launch_season'].apply(season_encoder)\n",
    "filtered['deadline_season_encode'] = filtered['deadline_season'].apply(season_encoder)"
   ],
   "outputs": [
    {
     "output_type": "stream",
     "name": "stderr",
     "text": [
      "/tmp/ipykernel_4667/3274264081.py:15: SettingWithCopyWarning: \n",
      "A value is trying to be set on a copy of a slice from a DataFrame.\n",
      "Try using .loc[row_indexer,col_indexer] = value instead\n",
      "\n",
      "See the caveats in the documentation: https://pandas.pydata.org/pandas-docs/stable/user_guide/indexing.html#returning-a-view-versus-a-copy\n",
      "  filtered['launch_season_encode'] = filtered['launch_season'].apply(season_encoder)\n",
      "/tmp/ipykernel_4667/3274264081.py:16: SettingWithCopyWarning: \n",
      "A value is trying to be set on a copy of a slice from a DataFrame.\n",
      "Try using .loc[row_indexer,col_indexer] = value instead\n",
      "\n",
      "See the caveats in the documentation: https://pandas.pydata.org/pandas-docs/stable/user_guide/indexing.html#returning-a-view-versus-a-copy\n",
      "  filtered['deadline_season_encode'] = filtered['deadline_season'].apply(season_encoder)\n"
     ]
    }
   ],
   "metadata": {}
  },
  {
   "cell_type": "code",
   "execution_count": 26,
   "source": [
    "filtered['launched'] = pd.to_datetime(filtered['launched'])\n",
    "filtered['deadline'] = pd.to_datetime(filtered['deadline'])\n",
    "filtered['duration'] = filtered['deadline'] - filtered['launched']\n",
    "filtered['duration'] = filtered['duration'].dt.days"
   ],
   "outputs": [
    {
     "output_type": "stream",
     "name": "stderr",
     "text": [
      "/tmp/ipykernel_4667/4004875353.py:1: SettingWithCopyWarning: \n",
      "A value is trying to be set on a copy of a slice from a DataFrame.\n",
      "Try using .loc[row_indexer,col_indexer] = value instead\n",
      "\n",
      "See the caveats in the documentation: https://pandas.pydata.org/pandas-docs/stable/user_guide/indexing.html#returning-a-view-versus-a-copy\n",
      "  filtered['launched'] = pd.to_datetime(filtered['launched'])\n",
      "/tmp/ipykernel_4667/4004875353.py:2: SettingWithCopyWarning: \n",
      "A value is trying to be set on a copy of a slice from a DataFrame.\n",
      "Try using .loc[row_indexer,col_indexer] = value instead\n",
      "\n",
      "See the caveats in the documentation: https://pandas.pydata.org/pandas-docs/stable/user_guide/indexing.html#returning-a-view-versus-a-copy\n",
      "  filtered['deadline'] = pd.to_datetime(filtered['deadline'])\n",
      "/tmp/ipykernel_4667/4004875353.py:3: SettingWithCopyWarning: \n",
      "A value is trying to be set on a copy of a slice from a DataFrame.\n",
      "Try using .loc[row_indexer,col_indexer] = value instead\n",
      "\n",
      "See the caveats in the documentation: https://pandas.pydata.org/pandas-docs/stable/user_guide/indexing.html#returning-a-view-versus-a-copy\n",
      "  filtered['duration'] = filtered['deadline'] - filtered['launched']\n",
      "/tmp/ipykernel_4667/4004875353.py:4: SettingWithCopyWarning: \n",
      "A value is trying to be set on a copy of a slice from a DataFrame.\n",
      "Try using .loc[row_indexer,col_indexer] = value instead\n",
      "\n",
      "See the caveats in the documentation: https://pandas.pydata.org/pandas-docs/stable/user_guide/indexing.html#returning-a-view-versus-a-copy\n",
      "  filtered['duration'] = filtered['duration'].dt.days\n"
     ]
    }
   ],
   "metadata": {}
  },
  {
   "cell_type": "code",
   "execution_count": 27,
   "source": [
    "filtered.head()"
   ],
   "outputs": [
    {
     "output_type": "execute_result",
     "data": {
      "text/html": [
       "<div>\n",
       "<style scoped>\n",
       "    .dataframe tbody tr th:only-of-type {\n",
       "        vertical-align: middle;\n",
       "    }\n",
       "\n",
       "    .dataframe tbody tr th {\n",
       "        vertical-align: top;\n",
       "    }\n",
       "\n",
       "    .dataframe thead th {\n",
       "        text-align: right;\n",
       "    }\n",
       "</style>\n",
       "<table border=\"1\" class=\"dataframe\">\n",
       "  <thead>\n",
       "    <tr style=\"text-align: right;\">\n",
       "      <th></th>\n",
       "      <th>ID</th>\n",
       "      <th>name</th>\n",
       "      <th>category</th>\n",
       "      <th>main_category</th>\n",
       "      <th>currency</th>\n",
       "      <th>deadline</th>\n",
       "      <th>goal</th>\n",
       "      <th>launched</th>\n",
       "      <th>pledged</th>\n",
       "      <th>state</th>\n",
       "      <th>...</th>\n",
       "      <th>success</th>\n",
       "      <th>hour</th>\n",
       "      <th>day</th>\n",
       "      <th>month</th>\n",
       "      <th>year</th>\n",
       "      <th>launch_season</th>\n",
       "      <th>deadline_season</th>\n",
       "      <th>launch_season_encode</th>\n",
       "      <th>deadline_season_encode</th>\n",
       "      <th>duration</th>\n",
       "    </tr>\n",
       "  </thead>\n",
       "  <tbody>\n",
       "    <tr>\n",
       "      <th>0</th>\n",
       "      <td>1000002330</td>\n",
       "      <td>The Songs of Adelaide &amp; Abullah</td>\n",
       "      <td>Poetry</td>\n",
       "      <td>Publishing</td>\n",
       "      <td>GBP</td>\n",
       "      <td>2015-10-09</td>\n",
       "      <td>1000.0</td>\n",
       "      <td>2015-08-11 12:12:28</td>\n",
       "      <td>0.0</td>\n",
       "      <td>failed</td>\n",
       "      <td>...</td>\n",
       "      <td>0.0</td>\n",
       "      <td>12</td>\n",
       "      <td>11</td>\n",
       "      <td>8</td>\n",
       "      <td>2015</td>\n",
       "      <td>Summer</td>\n",
       "      <td>Fall</td>\n",
       "      <td>2</td>\n",
       "      <td>3</td>\n",
       "      <td>58</td>\n",
       "    </tr>\n",
       "    <tr>\n",
       "      <th>1</th>\n",
       "      <td>1000003930</td>\n",
       "      <td>Greeting From Earth: ZGAC Arts Capsule For ET</td>\n",
       "      <td>Narrative Film</td>\n",
       "      <td>Film &amp; Video</td>\n",
       "      <td>USD</td>\n",
       "      <td>2017-11-01</td>\n",
       "      <td>30000.0</td>\n",
       "      <td>2017-09-02 04:43:57</td>\n",
       "      <td>2421.0</td>\n",
       "      <td>failed</td>\n",
       "      <td>...</td>\n",
       "      <td>0.0</td>\n",
       "      <td>4</td>\n",
       "      <td>2</td>\n",
       "      <td>9</td>\n",
       "      <td>2017</td>\n",
       "      <td>Summer</td>\n",
       "      <td>Fall</td>\n",
       "      <td>2</td>\n",
       "      <td>3</td>\n",
       "      <td>59</td>\n",
       "    </tr>\n",
       "    <tr>\n",
       "      <th>2</th>\n",
       "      <td>1000004038</td>\n",
       "      <td>Where is Hank?</td>\n",
       "      <td>Narrative Film</td>\n",
       "      <td>Film &amp; Video</td>\n",
       "      <td>USD</td>\n",
       "      <td>2013-02-26</td>\n",
       "      <td>45000.0</td>\n",
       "      <td>2013-01-12 00:20:50</td>\n",
       "      <td>220.0</td>\n",
       "      <td>failed</td>\n",
       "      <td>...</td>\n",
       "      <td>0.0</td>\n",
       "      <td>0</td>\n",
       "      <td>12</td>\n",
       "      <td>1</td>\n",
       "      <td>2013</td>\n",
       "      <td>Winter</td>\n",
       "      <td>Winter</td>\n",
       "      <td>4</td>\n",
       "      <td>4</td>\n",
       "      <td>44</td>\n",
       "    </tr>\n",
       "    <tr>\n",
       "      <th>3</th>\n",
       "      <td>1000007540</td>\n",
       "      <td>ToshiCapital Rekordz Needs Help to Complete Album</td>\n",
       "      <td>Music</td>\n",
       "      <td>Music</td>\n",
       "      <td>USD</td>\n",
       "      <td>2012-04-16</td>\n",
       "      <td>5000.0</td>\n",
       "      <td>2012-03-17 03:24:11</td>\n",
       "      <td>1.0</td>\n",
       "      <td>failed</td>\n",
       "      <td>...</td>\n",
       "      <td>0.0</td>\n",
       "      <td>3</td>\n",
       "      <td>17</td>\n",
       "      <td>3</td>\n",
       "      <td>2012</td>\n",
       "      <td>Winter</td>\n",
       "      <td>Spring</td>\n",
       "      <td>4</td>\n",
       "      <td>1</td>\n",
       "      <td>29</td>\n",
       "    </tr>\n",
       "    <tr>\n",
       "      <th>4</th>\n",
       "      <td>1000011046</td>\n",
       "      <td>Community Film Project: The Art of Neighborhoo...</td>\n",
       "      <td>Film &amp; Video</td>\n",
       "      <td>Film &amp; Video</td>\n",
       "      <td>USD</td>\n",
       "      <td>2015-08-29</td>\n",
       "      <td>19500.0</td>\n",
       "      <td>2015-07-04 08:35:03</td>\n",
       "      <td>1283.0</td>\n",
       "      <td>canceled</td>\n",
       "      <td>...</td>\n",
       "      <td>0.0</td>\n",
       "      <td>8</td>\n",
       "      <td>4</td>\n",
       "      <td>7</td>\n",
       "      <td>2015</td>\n",
       "      <td>Summer</td>\n",
       "      <td>Summer</td>\n",
       "      <td>2</td>\n",
       "      <td>2</td>\n",
       "      <td>55</td>\n",
       "    </tr>\n",
       "  </tbody>\n",
       "</table>\n",
       "<p>5 rows × 25 columns</p>\n",
       "</div>"
      ],
      "text/plain": [
       "           ID                                               name  \\\n",
       "0  1000002330                    The Songs of Adelaide & Abullah   \n",
       "1  1000003930      Greeting From Earth: ZGAC Arts Capsule For ET   \n",
       "2  1000004038                                     Where is Hank?   \n",
       "3  1000007540  ToshiCapital Rekordz Needs Help to Complete Album   \n",
       "4  1000011046  Community Film Project: The Art of Neighborhoo...   \n",
       "\n",
       "         category main_category currency   deadline     goal  \\\n",
       "0          Poetry    Publishing      GBP 2015-10-09   1000.0   \n",
       "1  Narrative Film  Film & Video      USD 2017-11-01  30000.0   \n",
       "2  Narrative Film  Film & Video      USD 2013-02-26  45000.0   \n",
       "3           Music         Music      USD 2012-04-16   5000.0   \n",
       "4    Film & Video  Film & Video      USD 2015-08-29  19500.0   \n",
       "\n",
       "             launched  pledged     state  ...  success hour  day  month  year  \\\n",
       "0 2015-08-11 12:12:28      0.0    failed  ...      0.0   12   11      8  2015   \n",
       "1 2017-09-02 04:43:57   2421.0    failed  ...      0.0    4    2      9  2017   \n",
       "2 2013-01-12 00:20:50    220.0    failed  ...      0.0    0   12      1  2013   \n",
       "3 2012-03-17 03:24:11      1.0    failed  ...      0.0    3   17      3  2012   \n",
       "4 2015-07-04 08:35:03   1283.0  canceled  ...      0.0    8    4      7  2015   \n",
       "\n",
       "   launch_season  deadline_season  launch_season_encode  \\\n",
       "0         Summer             Fall                     2   \n",
       "1         Summer             Fall                     2   \n",
       "2         Winter           Winter                     4   \n",
       "3         Winter           Spring                     4   \n",
       "4         Summer           Summer                     2   \n",
       "\n",
       "   deadline_season_encode  duration  \n",
       "0                       3        58  \n",
       "1                       3        59  \n",
       "2                       4        44  \n",
       "3                       1        29  \n",
       "4                       2        55  \n",
       "\n",
       "[5 rows x 25 columns]"
      ]
     },
     "metadata": {},
     "execution_count": 27
    }
   ],
   "metadata": {}
  },
  {
   "cell_type": "code",
   "execution_count": 28,
   "source": [
    "\n",
    "#choosing categorical features to be in the model\n",
    "cat_features = ['country', 'currency', 'main_category']\n",
    "\n",
    "#label encoding and creating new dataframe with encoded columns\n",
    "encoder = LabelEncoder()\n",
    "encoded = filtered[cat_features].apply(encoder.fit_transform)\n",
    "encoded.head()"
   ],
   "outputs": [
    {
     "output_type": "execute_result",
     "data": {
      "text/html": [
       "<div>\n",
       "<style scoped>\n",
       "    .dataframe tbody tr th:only-of-type {\n",
       "        vertical-align: middle;\n",
       "    }\n",
       "\n",
       "    .dataframe tbody tr th {\n",
       "        vertical-align: top;\n",
       "    }\n",
       "\n",
       "    .dataframe thead th {\n",
       "        text-align: right;\n",
       "    }\n",
       "</style>\n",
       "<table border=\"1\" class=\"dataframe\">\n",
       "  <thead>\n",
       "    <tr style=\"text-align: right;\">\n",
       "      <th></th>\n",
       "      <th>country</th>\n",
       "      <th>currency</th>\n",
       "      <th>main_category</th>\n",
       "    </tr>\n",
       "  </thead>\n",
       "  <tbody>\n",
       "    <tr>\n",
       "      <th>0</th>\n",
       "      <td>9</td>\n",
       "      <td>5</td>\n",
       "      <td>12</td>\n",
       "    </tr>\n",
       "    <tr>\n",
       "      <th>1</th>\n",
       "      <td>22</td>\n",
       "      <td>13</td>\n",
       "      <td>6</td>\n",
       "    </tr>\n",
       "    <tr>\n",
       "      <th>2</th>\n",
       "      <td>22</td>\n",
       "      <td>13</td>\n",
       "      <td>6</td>\n",
       "    </tr>\n",
       "    <tr>\n",
       "      <th>3</th>\n",
       "      <td>22</td>\n",
       "      <td>13</td>\n",
       "      <td>10</td>\n",
       "    </tr>\n",
       "    <tr>\n",
       "      <th>4</th>\n",
       "      <td>22</td>\n",
       "      <td>13</td>\n",
       "      <td>6</td>\n",
       "    </tr>\n",
       "  </tbody>\n",
       "</table>\n",
       "</div>"
      ],
      "text/plain": [
       "   country  currency  main_category\n",
       "0        9         5             12\n",
       "1       22        13              6\n",
       "2       22        13              6\n",
       "3       22        13             10\n",
       "4       22        13              6"
      ]
     },
     "metadata": {},
     "execution_count": 28
    }
   ],
   "metadata": {}
  },
  {
   "cell_type": "code",
   "execution_count": 30,
   "source": [
    "data_features = ['goal', 'month', 'year', 'success', 'duration']\n",
    "baseline = filtered[data_features].join(encoded)\n",
    "baseline.head()"
   ],
   "outputs": [
    {
     "output_type": "execute_result",
     "data": {
      "text/html": [
       "<div>\n",
       "<style scoped>\n",
       "    .dataframe tbody tr th:only-of-type {\n",
       "        vertical-align: middle;\n",
       "    }\n",
       "\n",
       "    .dataframe tbody tr th {\n",
       "        vertical-align: top;\n",
       "    }\n",
       "\n",
       "    .dataframe thead th {\n",
       "        text-align: right;\n",
       "    }\n",
       "</style>\n",
       "<table border=\"1\" class=\"dataframe\">\n",
       "  <thead>\n",
       "    <tr style=\"text-align: right;\">\n",
       "      <th></th>\n",
       "      <th>goal</th>\n",
       "      <th>month</th>\n",
       "      <th>year</th>\n",
       "      <th>success</th>\n",
       "      <th>duration</th>\n",
       "      <th>country</th>\n",
       "      <th>currency</th>\n",
       "      <th>main_category</th>\n",
       "    </tr>\n",
       "  </thead>\n",
       "  <tbody>\n",
       "    <tr>\n",
       "      <th>0</th>\n",
       "      <td>1000.0</td>\n",
       "      <td>8</td>\n",
       "      <td>2015</td>\n",
       "      <td>0.0</td>\n",
       "      <td>58</td>\n",
       "      <td>9</td>\n",
       "      <td>5</td>\n",
       "      <td>12</td>\n",
       "    </tr>\n",
       "    <tr>\n",
       "      <th>1</th>\n",
       "      <td>30000.0</td>\n",
       "      <td>9</td>\n",
       "      <td>2017</td>\n",
       "      <td>0.0</td>\n",
       "      <td>59</td>\n",
       "      <td>22</td>\n",
       "      <td>13</td>\n",
       "      <td>6</td>\n",
       "    </tr>\n",
       "    <tr>\n",
       "      <th>2</th>\n",
       "      <td>45000.0</td>\n",
       "      <td>1</td>\n",
       "      <td>2013</td>\n",
       "      <td>0.0</td>\n",
       "      <td>44</td>\n",
       "      <td>22</td>\n",
       "      <td>13</td>\n",
       "      <td>6</td>\n",
       "    </tr>\n",
       "    <tr>\n",
       "      <th>3</th>\n",
       "      <td>5000.0</td>\n",
       "      <td>3</td>\n",
       "      <td>2012</td>\n",
       "      <td>0.0</td>\n",
       "      <td>29</td>\n",
       "      <td>22</td>\n",
       "      <td>13</td>\n",
       "      <td>10</td>\n",
       "    </tr>\n",
       "    <tr>\n",
       "      <th>4</th>\n",
       "      <td>19500.0</td>\n",
       "      <td>7</td>\n",
       "      <td>2015</td>\n",
       "      <td>0.0</td>\n",
       "      <td>55</td>\n",
       "      <td>22</td>\n",
       "      <td>13</td>\n",
       "      <td>6</td>\n",
       "    </tr>\n",
       "  </tbody>\n",
       "</table>\n",
       "</div>"
      ],
      "text/plain": [
       "      goal  month  year  success  duration  country  currency  main_category\n",
       "0   1000.0      8  2015      0.0        58        9         5             12\n",
       "1  30000.0      9  2017      0.0        59       22        13              6\n",
       "2  45000.0      1  2013      0.0        44       22        13              6\n",
       "3   5000.0      3  2012      0.0        29       22        13             10\n",
       "4  19500.0      7  2015      0.0        55       22        13              6"
      ]
     },
     "metadata": {},
     "execution_count": 30
    }
   ],
   "metadata": {}
  },
  {
   "cell_type": "code",
   "execution_count": 31,
   "source": [
    "#creating new columns to show time since last project was launched\n",
    "def time_since_last_project(series):\n",
    "\n",
    "    return series.diff().dt.total_seconds() / 3600\n",
    "\n",
    "ks = filtered[['category', 'launched']].sort_values('launched')\n",
    "time_dif = ks.groupby('category').transform(time_since_last_project)\n",
    "time_dif = time_dif.fillna(time_dif.max())\n",
    "\n",
    "\n",
    "baseline = baseline.join(time_dif.rename({'launched': 'time_since_last_project'}, axis=1))\n",
    "baseline.head()"
   ],
   "outputs": [
    {
     "output_type": "execute_result",
     "data": {
      "text/html": [
       "<div>\n",
       "<style scoped>\n",
       "    .dataframe tbody tr th:only-of-type {\n",
       "        vertical-align: middle;\n",
       "    }\n",
       "\n",
       "    .dataframe tbody tr th {\n",
       "        vertical-align: top;\n",
       "    }\n",
       "\n",
       "    .dataframe thead th {\n",
       "        text-align: right;\n",
       "    }\n",
       "</style>\n",
       "<table border=\"1\" class=\"dataframe\">\n",
       "  <thead>\n",
       "    <tr style=\"text-align: right;\">\n",
       "      <th></th>\n",
       "      <th>goal</th>\n",
       "      <th>month</th>\n",
       "      <th>year</th>\n",
       "      <th>success</th>\n",
       "      <th>duration</th>\n",
       "      <th>country</th>\n",
       "      <th>currency</th>\n",
       "      <th>main_category</th>\n",
       "      <th>time_since_last_project</th>\n",
       "    </tr>\n",
       "  </thead>\n",
       "  <tbody>\n",
       "    <tr>\n",
       "      <th>0</th>\n",
       "      <td>1000.0</td>\n",
       "      <td>8</td>\n",
       "      <td>2015</td>\n",
       "      <td>0.0</td>\n",
       "      <td>58</td>\n",
       "      <td>9</td>\n",
       "      <td>5</td>\n",
       "      <td>12</td>\n",
       "      <td>18.606111</td>\n",
       "    </tr>\n",
       "    <tr>\n",
       "      <th>1</th>\n",
       "      <td>30000.0</td>\n",
       "      <td>9</td>\n",
       "      <td>2017</td>\n",
       "      <td>0.0</td>\n",
       "      <td>59</td>\n",
       "      <td>22</td>\n",
       "      <td>13</td>\n",
       "      <td>6</td>\n",
       "      <td>5.592778</td>\n",
       "    </tr>\n",
       "    <tr>\n",
       "      <th>2</th>\n",
       "      <td>45000.0</td>\n",
       "      <td>1</td>\n",
       "      <td>2013</td>\n",
       "      <td>0.0</td>\n",
       "      <td>44</td>\n",
       "      <td>22</td>\n",
       "      <td>13</td>\n",
       "      <td>6</td>\n",
       "      <td>1.313611</td>\n",
       "    </tr>\n",
       "    <tr>\n",
       "      <th>3</th>\n",
       "      <td>5000.0</td>\n",
       "      <td>3</td>\n",
       "      <td>2012</td>\n",
       "      <td>0.0</td>\n",
       "      <td>29</td>\n",
       "      <td>22</td>\n",
       "      <td>13</td>\n",
       "      <td>10</td>\n",
       "      <td>0.635000</td>\n",
       "    </tr>\n",
       "    <tr>\n",
       "      <th>4</th>\n",
       "      <td>19500.0</td>\n",
       "      <td>7</td>\n",
       "      <td>2015</td>\n",
       "      <td>0.0</td>\n",
       "      <td>55</td>\n",
       "      <td>22</td>\n",
       "      <td>13</td>\n",
       "      <td>6</td>\n",
       "      <td>16.661389</td>\n",
       "    </tr>\n",
       "  </tbody>\n",
       "</table>\n",
       "</div>"
      ],
      "text/plain": [
       "      goal  month  year  success  duration  country  currency  main_category  \\\n",
       "0   1000.0      8  2015      0.0        58        9         5             12   \n",
       "1  30000.0      9  2017      0.0        59       22        13              6   \n",
       "2  45000.0      1  2013      0.0        44       22        13              6   \n",
       "3   5000.0      3  2012      0.0        29       22        13             10   \n",
       "4  19500.0      7  2015      0.0        55       22        13              6   \n",
       "\n",
       "   time_since_last_project  \n",
       "0                18.606111  \n",
       "1                 5.592778  \n",
       "2                 1.313611  \n",
       "3                 0.635000  \n",
       "4                16.661389  "
      ]
     },
     "metadata": {},
     "execution_count": 31
    }
   ],
   "metadata": {}
  },
  {
   "cell_type": "code",
   "execution_count": 32,
   "source": [
    "\n",
    "baseline_index = filtered['name']\n",
    "baseline = baseline.join(baseline_index).set_index('name')\n",
    "baseline.head()"
   ],
   "outputs": [
    {
     "output_type": "execute_result",
     "data": {
      "text/html": [
       "<div>\n",
       "<style scoped>\n",
       "    .dataframe tbody tr th:only-of-type {\n",
       "        vertical-align: middle;\n",
       "    }\n",
       "\n",
       "    .dataframe tbody tr th {\n",
       "        vertical-align: top;\n",
       "    }\n",
       "\n",
       "    .dataframe thead th {\n",
       "        text-align: right;\n",
       "    }\n",
       "</style>\n",
       "<table border=\"1\" class=\"dataframe\">\n",
       "  <thead>\n",
       "    <tr style=\"text-align: right;\">\n",
       "      <th></th>\n",
       "      <th>goal</th>\n",
       "      <th>month</th>\n",
       "      <th>year</th>\n",
       "      <th>success</th>\n",
       "      <th>duration</th>\n",
       "      <th>country</th>\n",
       "      <th>currency</th>\n",
       "      <th>main_category</th>\n",
       "      <th>time_since_last_project</th>\n",
       "    </tr>\n",
       "    <tr>\n",
       "      <th>name</th>\n",
       "      <th></th>\n",
       "      <th></th>\n",
       "      <th></th>\n",
       "      <th></th>\n",
       "      <th></th>\n",
       "      <th></th>\n",
       "      <th></th>\n",
       "      <th></th>\n",
       "      <th></th>\n",
       "    </tr>\n",
       "  </thead>\n",
       "  <tbody>\n",
       "    <tr>\n",
       "      <th>The Songs of Adelaide &amp; Abullah</th>\n",
       "      <td>1000.0</td>\n",
       "      <td>8</td>\n",
       "      <td>2015</td>\n",
       "      <td>0.0</td>\n",
       "      <td>58</td>\n",
       "      <td>9</td>\n",
       "      <td>5</td>\n",
       "      <td>12</td>\n",
       "      <td>18.606111</td>\n",
       "    </tr>\n",
       "    <tr>\n",
       "      <th>Greeting From Earth: ZGAC Arts Capsule For ET</th>\n",
       "      <td>30000.0</td>\n",
       "      <td>9</td>\n",
       "      <td>2017</td>\n",
       "      <td>0.0</td>\n",
       "      <td>59</td>\n",
       "      <td>22</td>\n",
       "      <td>13</td>\n",
       "      <td>6</td>\n",
       "      <td>5.592778</td>\n",
       "    </tr>\n",
       "    <tr>\n",
       "      <th>Where is Hank?</th>\n",
       "      <td>45000.0</td>\n",
       "      <td>1</td>\n",
       "      <td>2013</td>\n",
       "      <td>0.0</td>\n",
       "      <td>44</td>\n",
       "      <td>22</td>\n",
       "      <td>13</td>\n",
       "      <td>6</td>\n",
       "      <td>1.313611</td>\n",
       "    </tr>\n",
       "    <tr>\n",
       "      <th>ToshiCapital Rekordz Needs Help to Complete Album</th>\n",
       "      <td>5000.0</td>\n",
       "      <td>3</td>\n",
       "      <td>2012</td>\n",
       "      <td>0.0</td>\n",
       "      <td>29</td>\n",
       "      <td>22</td>\n",
       "      <td>13</td>\n",
       "      <td>10</td>\n",
       "      <td>0.635000</td>\n",
       "    </tr>\n",
       "    <tr>\n",
       "      <th>Community Film Project: The Art of Neighborhood Filmmaking</th>\n",
       "      <td>19500.0</td>\n",
       "      <td>7</td>\n",
       "      <td>2015</td>\n",
       "      <td>0.0</td>\n",
       "      <td>55</td>\n",
       "      <td>22</td>\n",
       "      <td>13</td>\n",
       "      <td>6</td>\n",
       "      <td>16.661389</td>\n",
       "    </tr>\n",
       "  </tbody>\n",
       "</table>\n",
       "</div>"
      ],
      "text/plain": [
       "                                                       goal  month  year  \\\n",
       "name                                                                       \n",
       "The Songs of Adelaide & Abullah                      1000.0      8  2015   \n",
       "Greeting From Earth: ZGAC Arts Capsule For ET       30000.0      9  2017   \n",
       "Where is Hank?                                      45000.0      1  2013   \n",
       "ToshiCapital Rekordz Needs Help to Complete Album    5000.0      3  2012   \n",
       "Community Film Project: The Art of Neighborhood...  19500.0      7  2015   \n",
       "\n",
       "                                                    success  duration  \\\n",
       "name                                                                    \n",
       "The Songs of Adelaide & Abullah                         0.0        58   \n",
       "Greeting From Earth: ZGAC Arts Capsule For ET           0.0        59   \n",
       "Where is Hank?                                          0.0        44   \n",
       "ToshiCapital Rekordz Needs Help to Complete Album       0.0        29   \n",
       "Community Film Project: The Art of Neighborhood...      0.0        55   \n",
       "\n",
       "                                                    country  currency  \\\n",
       "name                                                                    \n",
       "The Songs of Adelaide & Abullah                           9         5   \n",
       "Greeting From Earth: ZGAC Arts Capsule For ET            22        13   \n",
       "Where is Hank?                                           22        13   \n",
       "ToshiCapital Rekordz Needs Help to Complete Album        22        13   \n",
       "Community Film Project: The Art of Neighborhood...       22        13   \n",
       "\n",
       "                                                    main_category  \\\n",
       "name                                                                \n",
       "The Songs of Adelaide & Abullah                                12   \n",
       "Greeting From Earth: ZGAC Arts Capsule For ET                   6   \n",
       "Where is Hank?                                                  6   \n",
       "ToshiCapital Rekordz Needs Help to Complete Album              10   \n",
       "Community Film Project: The Art of Neighborhood...              6   \n",
       "\n",
       "                                                    time_since_last_project  \n",
       "name                                                                         \n",
       "The Songs of Adelaide & Abullah                                   18.606111  \n",
       "Greeting From Earth: ZGAC Arts Capsule For ET                      5.592778  \n",
       "Where is Hank?                                                     1.313611  \n",
       "ToshiCapital Rekordz Needs Help to Complete Album                  0.635000  \n",
       "Community Film Project: The Art of Neighborhood...                16.661389  "
      ]
     },
     "metadata": {},
     "execution_count": 32
    }
   ],
   "metadata": {}
  },
  {
   "cell_type": "code",
   "execution_count": 33,
   "source": [
    "\n",
    "#creates a csv\n",
    "baseline.to_csv(r'ks-projects-201801.csv')"
   ],
   "outputs": [],
   "metadata": {}
  },
  {
   "cell_type": "code",
   "execution_count": 34,
   "source": [
    "baseline.corr()"
   ],
   "outputs": [
    {
     "output_type": "execute_result",
     "data": {
      "text/html": [
       "<div>\n",
       "<style scoped>\n",
       "    .dataframe tbody tr th:only-of-type {\n",
       "        vertical-align: middle;\n",
       "    }\n",
       "\n",
       "    .dataframe tbody tr th {\n",
       "        vertical-align: top;\n",
       "    }\n",
       "\n",
       "    .dataframe thead th {\n",
       "        text-align: right;\n",
       "    }\n",
       "</style>\n",
       "<table border=\"1\" class=\"dataframe\">\n",
       "  <thead>\n",
       "    <tr style=\"text-align: right;\">\n",
       "      <th></th>\n",
       "      <th>goal</th>\n",
       "      <th>month</th>\n",
       "      <th>year</th>\n",
       "      <th>success</th>\n",
       "      <th>duration</th>\n",
       "      <th>country</th>\n",
       "      <th>currency</th>\n",
       "      <th>main_category</th>\n",
       "      <th>time_since_last_project</th>\n",
       "    </tr>\n",
       "  </thead>\n",
       "  <tbody>\n",
       "    <tr>\n",
       "      <th>goal</th>\n",
       "      <td>1.000000</td>\n",
       "      <td>0.000797</td>\n",
       "      <td>0.016796</td>\n",
       "      <td>-0.023244</td>\n",
       "      <td>0.004253</td>\n",
       "      <td>-0.004311</td>\n",
       "      <td>-0.005344</td>\n",
       "      <td>0.004119</td>\n",
       "      <td>-0.000751</td>\n",
       "    </tr>\n",
       "    <tr>\n",
       "      <th>month</th>\n",
       "      <td>0.000797</td>\n",
       "      <td>1.000000</td>\n",
       "      <td>-0.092671</td>\n",
       "      <td>-0.017650</td>\n",
       "      <td>-0.010660</td>\n",
       "      <td>-0.024936</td>\n",
       "      <td>-0.026769</td>\n",
       "      <td>0.000834</td>\n",
       "      <td>-0.003996</td>\n",
       "    </tr>\n",
       "    <tr>\n",
       "      <th>year</th>\n",
       "      <td>0.016796</td>\n",
       "      <td>-0.092671</td>\n",
       "      <td>1.000000</td>\n",
       "      <td>-0.121966</td>\n",
       "      <td>-0.134405</td>\n",
       "      <td>-0.277945</td>\n",
       "      <td>-0.281491</td>\n",
       "      <td>-0.016819</td>\n",
       "      <td>-0.054128</td>\n",
       "    </tr>\n",
       "    <tr>\n",
       "      <th>success</th>\n",
       "      <td>-0.023244</td>\n",
       "      <td>-0.017650</td>\n",
       "      <td>-0.121966</td>\n",
       "      <td>1.000000</td>\n",
       "      <td>-0.027508</td>\n",
       "      <td>0.056698</td>\n",
       "      <td>0.058443</td>\n",
       "      <td>-0.034544</td>\n",
       "      <td>0.023932</td>\n",
       "    </tr>\n",
       "    <tr>\n",
       "      <th>duration</th>\n",
       "      <td>0.004253</td>\n",
       "      <td>-0.010660</td>\n",
       "      <td>-0.134405</td>\n",
       "      <td>-0.027508</td>\n",
       "      <td>1.000000</td>\n",
       "      <td>0.005764</td>\n",
       "      <td>0.005461</td>\n",
       "      <td>0.007314</td>\n",
       "      <td>0.175723</td>\n",
       "    </tr>\n",
       "    <tr>\n",
       "      <th>country</th>\n",
       "      <td>-0.004311</td>\n",
       "      <td>-0.024936</td>\n",
       "      <td>-0.277945</td>\n",
       "      <td>0.056698</td>\n",
       "      <td>0.005764</td>\n",
       "      <td>1.000000</td>\n",
       "      <td>0.978728</td>\n",
       "      <td>-0.014598</td>\n",
       "      <td>0.008577</td>\n",
       "    </tr>\n",
       "    <tr>\n",
       "      <th>currency</th>\n",
       "      <td>-0.005344</td>\n",
       "      <td>-0.026769</td>\n",
       "      <td>-0.281491</td>\n",
       "      <td>0.058443</td>\n",
       "      <td>0.005461</td>\n",
       "      <td>0.978728</td>\n",
       "      <td>1.000000</td>\n",
       "      <td>-0.013972</td>\n",
       "      <td>0.008485</td>\n",
       "    </tr>\n",
       "    <tr>\n",
       "      <th>main_category</th>\n",
       "      <td>0.004119</td>\n",
       "      <td>0.000834</td>\n",
       "      <td>-0.016819</td>\n",
       "      <td>-0.034544</td>\n",
       "      <td>0.007314</td>\n",
       "      <td>-0.014598</td>\n",
       "      <td>-0.013972</td>\n",
       "      <td>1.000000</td>\n",
       "      <td>-0.001144</td>\n",
       "    </tr>\n",
       "    <tr>\n",
       "      <th>time_since_last_project</th>\n",
       "      <td>-0.000751</td>\n",
       "      <td>-0.003996</td>\n",
       "      <td>-0.054128</td>\n",
       "      <td>0.023932</td>\n",
       "      <td>0.175723</td>\n",
       "      <td>0.008577</td>\n",
       "      <td>0.008485</td>\n",
       "      <td>-0.001144</td>\n",
       "      <td>1.000000</td>\n",
       "    </tr>\n",
       "  </tbody>\n",
       "</table>\n",
       "</div>"
      ],
      "text/plain": [
       "                             goal     month      year   success  duration  \\\n",
       "goal                     1.000000  0.000797  0.016796 -0.023244  0.004253   \n",
       "month                    0.000797  1.000000 -0.092671 -0.017650 -0.010660   \n",
       "year                     0.016796 -0.092671  1.000000 -0.121966 -0.134405   \n",
       "success                 -0.023244 -0.017650 -0.121966  1.000000 -0.027508   \n",
       "duration                 0.004253 -0.010660 -0.134405 -0.027508  1.000000   \n",
       "country                 -0.004311 -0.024936 -0.277945  0.056698  0.005764   \n",
       "currency                -0.005344 -0.026769 -0.281491  0.058443  0.005461   \n",
       "main_category            0.004119  0.000834 -0.016819 -0.034544  0.007314   \n",
       "time_since_last_project -0.000751 -0.003996 -0.054128  0.023932  0.175723   \n",
       "\n",
       "                          country  currency  main_category  \\\n",
       "goal                    -0.004311 -0.005344       0.004119   \n",
       "month                   -0.024936 -0.026769       0.000834   \n",
       "year                    -0.277945 -0.281491      -0.016819   \n",
       "success                  0.056698  0.058443      -0.034544   \n",
       "duration                 0.005764  0.005461       0.007314   \n",
       "country                  1.000000  0.978728      -0.014598   \n",
       "currency                 0.978728  1.000000      -0.013972   \n",
       "main_category           -0.014598 -0.013972       1.000000   \n",
       "time_since_last_project  0.008577  0.008485      -0.001144   \n",
       "\n",
       "                         time_since_last_project  \n",
       "goal                                   -0.000751  \n",
       "month                                  -0.003996  \n",
       "year                                   -0.054128  \n",
       "success                                 0.023932  \n",
       "duration                                0.175723  \n",
       "country                                 0.008577  \n",
       "currency                                0.008485  \n",
       "main_category                          -0.001144  \n",
       "time_since_last_project                 1.000000  "
      ]
     },
     "metadata": {},
     "execution_count": 34
    }
   ],
   "metadata": {}
  },
  {
   "cell_type": "code",
   "execution_count": 35,
   "source": [
    "target = 'success'\n",
    "X = baseline.drop(columns=target)\n",
    "y = baseline[target]"
   ],
   "outputs": [],
   "metadata": {}
  },
  {
   "cell_type": "code",
   "execution_count": 36,
   "source": [
    "X_train, X_val, y_train, y_val = train_test_split(X,y, test_size = .2, random_state = 42)"
   ],
   "outputs": [],
   "metadata": {}
  },
  {
   "cell_type": "code",
   "execution_count": 37,
   "source": [
    "y_train.value_counts()\n"
   ],
   "outputs": [
    {
     "output_type": "execute_result",
     "data": {
      "text/plain": [
       "0.0    187635\n",
       "1.0     73020\n",
       "Name: success, dtype: int64"
      ]
     },
     "metadata": {},
     "execution_count": 37
    }
   ],
   "metadata": {}
  },
  {
   "cell_type": "code",
   "execution_count": 38,
   "source": [
    "y_val.value_counts()\n"
   ],
   "outputs": [
    {
     "output_type": "execute_result",
     "data": {
      "text/plain": [
       "0.0    46995\n",
       "1.0    18169\n",
       "Name: success, dtype: int64"
      ]
     },
     "metadata": {},
     "execution_count": 38
    }
   ],
   "metadata": {}
  },
  {
   "cell_type": "code",
   "execution_count": 39,
   "source": [
    "baseline_acc = y_train.value_counts(normalize=True)\n",
    "print(baseline_acc)"
   ],
   "outputs": [
    {
     "output_type": "stream",
     "name": "stdout",
     "text": [
      "0.0    0.71986\n",
      "1.0    0.28014\n",
      "Name: success, dtype: float64\n"
     ]
    }
   ],
   "metadata": {}
  },
  {
   "cell_type": "code",
   "execution_count": 45,
   "source": [
    "model = XGBClassifier(label_encoder = False, random_state=42, n_estimators=50, n_jobs=-1, max_depth=15)\n",
    "model.fit(X_train, y_train)"
   ],
   "outputs": [
    {
     "output_type": "stream",
     "name": "stderr",
     "text": [
      "/home/hj/.local/share/virtualenvs/Kickstarter-aZ_5KkIK/lib/python3.9/site-packages/xgboost/sklearn.py:1146: UserWarning: The use of label encoder in XGBClassifier is deprecated and will be removed in a future release. To remove this warning, do the following: 1) Pass option use_label_encoder=False when constructing XGBClassifier object; and 2) Encode your labels (y) as integers starting with 0, i.e. 0, 1, 2, ..., [num_class - 1].\n",
      "  warnings.warn(label_encoder_deprecation_msg, UserWarning)\n"
     ]
    },
    {
     "output_type": "stream",
     "name": "stdout",
     "text": [
      "[13:33:27] WARNING: ../src/learner.cc:573: \n",
      "Parameters: { \"label_encoder\" } might not be used.\n",
      "\n",
      "  This may not be accurate due to some parameters are only used in language bindings but\n",
      "  passed down to XGBoost core.  Or some parameters are not used but slip through this\n",
      "  verification. Please open an issue if you find above cases.\n",
      "\n",
      "\n",
      "[13:33:27] WARNING: ../src/learner.cc:1095: Starting in XGBoost 1.3.0, the default evaluation metric used with the objective 'binary:logistic' was changed from 'error' to 'logloss'. Explicitly set eval_metric if you'd like to restore the old behavior.\n"
     ]
    },
    {
     "output_type": "execute_result",
     "data": {
      "text/plain": [
       "XGBClassifier(base_score=0.5, booster='gbtree', colsample_bylevel=1,\n",
       "              colsample_bynode=1, colsample_bytree=1, gamma=0, gpu_id=-1,\n",
       "              importance_type='gain', interaction_constraints='',\n",
       "              label_encoder=False, learning_rate=0.300000012, max_delta_step=0,\n",
       "              max_depth=15, min_child_weight=1, missing=nan,\n",
       "              monotone_constraints='()', n_estimators=50, n_jobs=-1,\n",
       "              num_parallel_tree=1, random_state=42, reg_alpha=0, reg_lambda=1,\n",
       "              scale_pos_weight=1, subsample=1, tree_method='exact',\n",
       "              validate_parameters=1, verbosity=None)"
      ]
     },
     "metadata": {},
     "execution_count": 45
    }
   ],
   "metadata": {}
  },
  {
   "cell_type": "code",
   "execution_count": 46,
   "source": [
    "param_distributions = {\n",
    "    'randomforestclassifier__criterion':['gini','entropy'],\n",
    "    'randomforestclassifier__n_estimators':range(1,320),\n",
    "}\n",
    "search = RandomizedSearchCV(model,\n",
    "                            param_distributions=param_distributions,\n",
    "                            n_iter=50,\n",
    "                            cv=3,\n",
    "                            scoring='accuracy',\n",
    "                            verbose=10,\n",
    "                            return_train_score=True,\n",
    "                            random_state = 58,\n",
    "                            \n",
    "                            n_jobs=-1\n",
    "                            )\n",
    "search.fit(X_train,y_train);"
   ],
   "outputs": [
    {
     "output_type": "stream",
     "name": "stdout",
     "text": [
      "Fitting 3 folds for each of 50 candidates, totalling 150 fits\n",
      "[CV 1/3; 1/50] START randomforestclassifier__criterion=entropy, randomforestclassifier__n_estimators=62\n",
      "[13:34:13] WARNING: ../src/learner.cc:573: \n",
      "Parameters: { \"label_encoder\", \"randomforestclassifier__criterion\", \"randomforestclassifier__n_estimators\" } might not be used.\n",
      "\n",
      "  This may not be accurate due to some parameters are only used in language bindings but\n",
      "  passed down to XGBoost core.  Or some parameters are not used but slip through this\n",
      "  verification. Please open an issue if you find above cases.\n",
      "\n",
      "\n"
     ]
    },
    {
     "output_type": "stream",
     "name": "stderr",
     "text": [
      "/home/hj/.local/share/virtualenvs/Kickstarter-aZ_5KkIK/lib/python3.9/site-packages/xgboost/sklearn.py:1146: UserWarning: The use of label encoder in XGBClassifier is deprecated and will be removed in a future release. To remove this warning, do the following: 1) Pass option use_label_encoder=False when constructing XGBClassifier object; and 2) Encode your labels (y) as integers starting with 0, i.e. 0, 1, 2, ..., [num_class - 1].\n",
      "  warnings.warn(label_encoder_deprecation_msg, UserWarning)\n"
     ]
    },
    {
     "output_type": "stream",
     "name": "stdout",
     "text": [
      "[CV 2/3; 1/50] START randomforestclassifier__criterion=entropy, randomforestclassifier__n_estimators=62\n"
     ]
    },
    {
     "output_type": "stream",
     "name": "stderr",
     "text": [
      "/home/hj/.local/share/virtualenvs/Kickstarter-aZ_5KkIK/lib/python3.9/site-packages/xgboost/sklearn.py:1146: UserWarning: The use of label encoder in XGBClassifier is deprecated and will be removed in a future release. To remove this warning, do the following: 1) Pass option use_label_encoder=False when constructing XGBClassifier object; and 2) Encode your labels (y) as integers starting with 0, i.e. 0, 1, 2, ..., [num_class - 1].\n",
      "  warnings.warn(label_encoder_deprecation_msg, UserWarning)\n"
     ]
    },
    {
     "output_type": "stream",
     "name": "stdout",
     "text": [
      "[13:34:13] WARNING: ../src/learner.cc:573: \n",
      "Parameters: { \"label_encoder\", \"randomforestclassifier__criterion\", \"randomforestclassifier__n_estimators\" } might not be used.\n",
      "\n",
      "  This may not be accurate due to some parameters are only used in language bindings but\n",
      "  passed down to XGBoost core.  Or some parameters are not used but slip through this\n",
      "  verification. Please open an issue if you find above cases.\n",
      "\n",
      "\n",
      "[13:34:14] WARNING: ../src/learner.cc:1095: Starting in XGBoost 1.3.0, the default evaluation metric used with the objective 'binary:logistic' was changed from 'error' to 'logloss'. Explicitly set eval_metric if you'd like to restore the old behavior.\n",
      "[CV 3/3; 1/50] START randomforestclassifier__criterion=entropy, randomforestclassifier__n_estimators=62\n"
     ]
    },
    {
     "output_type": "stream",
     "name": "stderr",
     "text": [
      "/home/hj/.local/share/virtualenvs/Kickstarter-aZ_5KkIK/lib/python3.9/site-packages/xgboost/sklearn.py:1146: UserWarning: The use of label encoder in XGBClassifier is deprecated and will be removed in a future release. To remove this warning, do the following: 1) Pass option use_label_encoder=False when constructing XGBClassifier object; and 2) Encode your labels (y) as integers starting with 0, i.e. 0, 1, 2, ..., [num_class - 1].\n",
      "  warnings.warn(label_encoder_deprecation_msg, UserWarning)\n"
     ]
    },
    {
     "output_type": "stream",
     "name": "stdout",
     "text": [
      "[13:34:14] WARNING: ../src/learner.cc:573: \n",
      "Parameters: { \"label_encoder\", \"randomforestclassifier__criterion\", \"randomforestclassifier__n_estimators\" } might not be used.\n",
      "\n",
      "  This may not be accurate due to some parameters are only used in language bindings but\n",
      "  passed down to XGBoost core.  Or some parameters are not used but slip through this\n",
      "  verification. Please open an issue if you find above cases.\n",
      "\n",
      "\n",
      "[CV 1/3; 2/50] START randomforestclassifier__criterion=entropy, randomforestclassifier__n_estimators=164\n"
     ]
    },
    {
     "output_type": "stream",
     "name": "stderr",
     "text": [
      "/home/hj/.local/share/virtualenvs/Kickstarter-aZ_5KkIK/lib/python3.9/site-packages/xgboost/sklearn.py:1146: UserWarning: The use of label encoder in XGBClassifier is deprecated and will be removed in a future release. To remove this warning, do the following: 1) Pass option use_label_encoder=False when constructing XGBClassifier object; and 2) Encode your labels (y) as integers starting with 0, i.e. 0, 1, 2, ..., [num_class - 1].\n",
      "  warnings.warn(label_encoder_deprecation_msg, UserWarning)\n"
     ]
    },
    {
     "output_type": "stream",
     "name": "stdout",
     "text": [
      "[13:34:15] WARNING: ../src/learner.cc:573: \n",
      "Parameters: { \"label_encoder\", \"randomforestclassifier__criterion\", \"randomforestclassifier__n_estimators\" } might not be used.\n",
      "\n",
      "  This may not be accurate due to some parameters are only used in language bindings but\n",
      "  passed down to XGBoost core.  Or some parameters are not used but slip through this\n",
      "  verification. Please open an issue if you find above cases.\n",
      "\n",
      "\n",
      "[13:34:15] WARNING: ../src/learner.cc:1095: Starting in XGBoost 1.3.0, the default evaluation metric used with the objective 'binary:logistic' was changed from 'error' to 'logloss'. Explicitly set eval_metric if you'd like to restore the old behavior.\n",
      "[CV 2/3; 2/50] START randomforestclassifier__criterion=entropy, randomforestclassifier__n_estimators=164\n"
     ]
    },
    {
     "output_type": "stream",
     "name": "stderr",
     "text": [
      "/home/hj/.local/share/virtualenvs/Kickstarter-aZ_5KkIK/lib/python3.9/site-packages/xgboost/sklearn.py:1146: UserWarning: The use of label encoder in XGBClassifier is deprecated and will be removed in a future release. To remove this warning, do the following: 1) Pass option use_label_encoder=False when constructing XGBClassifier object; and 2) Encode your labels (y) as integers starting with 0, i.e. 0, 1, 2, ..., [num_class - 1].\n",
      "  warnings.warn(label_encoder_deprecation_msg, UserWarning)\n"
     ]
    },
    {
     "output_type": "stream",
     "name": "stdout",
     "text": [
      "[13:34:16] WARNING: ../src/learner.cc:573: \n",
      "Parameters: { \"label_encoder\", \"randomforestclassifier__criterion\", \"randomforestclassifier__n_estimators\" } might not be used.\n",
      "\n",
      "  This may not be accurate due to some parameters are only used in language bindings but\n",
      "  passed down to XGBoost core.  Or some parameters are not used but slip through this\n",
      "  verification. Please open an issue if you find above cases.\n",
      "\n",
      "\n",
      "[13:34:16] WARNING: ../src/learner.cc:1095: Starting in XGBoost 1.3.0, the default evaluation metric used with the objective 'binary:logistic' was changed from 'error' to 'logloss'. Explicitly set eval_metric if you'd like to restore the old behavior.\n",
      "[13:34:17] WARNING: ../src/learner.cc:1095: Starting in XGBoost 1.3.0, the default evaluation metric used with the objective 'binary:logistic' was changed from 'error' to 'logloss'. Explicitly set eval_metric if you'd like to restore the old behavior.\n",
      "[CV 3/3; 2/50] START randomforestclassifier__criterion=entropy, randomforestclassifier__n_estimators=164\n"
     ]
    },
    {
     "output_type": "stream",
     "name": "stderr",
     "text": [
      "/home/hj/.local/share/virtualenvs/Kickstarter-aZ_5KkIK/lib/python3.9/site-packages/xgboost/sklearn.py:1146: UserWarning: The use of label encoder in XGBClassifier is deprecated and will be removed in a future release. To remove this warning, do the following: 1) Pass option use_label_encoder=False when constructing XGBClassifier object; and 2) Encode your labels (y) as integers starting with 0, i.e. 0, 1, 2, ..., [num_class - 1].\n",
      "  warnings.warn(label_encoder_deprecation_msg, UserWarning)\n"
     ]
    },
    {
     "output_type": "stream",
     "name": "stdout",
     "text": [
      "[13:34:17] WARNING: ../src/learner.cc:573: \n",
      "Parameters: { \"label_encoder\", \"randomforestclassifier__criterion\", \"randomforestclassifier__n_estimators\" } might not be used.\n",
      "\n",
      "  This may not be accurate due to some parameters are only used in language bindings but\n",
      "  passed down to XGBoost core.  Or some parameters are not used but slip through this\n",
      "  verification. Please open an issue if you find above cases.\n",
      "\n",
      "\n",
      "[CV 1/3; 3/50] START randomforestclassifier__criterion=gini, randomforestclassifier__n_estimators=290\n",
      "[13:34:19] WARNING: ../src/learner.cc:1095: Starting in XGBoost 1.3.0, the default evaluation metric used with the objective 'binary:logistic' was changed from 'error' to 'logloss'. Explicitly set eval_metric if you'd like to restore the old behavior.\n"
     ]
    },
    {
     "output_type": "stream",
     "name": "stderr",
     "text": [
      "/home/hj/.local/share/virtualenvs/Kickstarter-aZ_5KkIK/lib/python3.9/site-packages/xgboost/sklearn.py:1146: UserWarning: The use of label encoder in XGBClassifier is deprecated and will be removed in a future release. To remove this warning, do the following: 1) Pass option use_label_encoder=False when constructing XGBClassifier object; and 2) Encode your labels (y) as integers starting with 0, i.e. 0, 1, 2, ..., [num_class - 1].\n",
      "  warnings.warn(label_encoder_deprecation_msg, UserWarning)\n"
     ]
    },
    {
     "output_type": "stream",
     "name": "stdout",
     "text": [
      "[13:34:19] WARNING: ../src/learner.cc:573: \n",
      "Parameters: { \"label_encoder\", \"randomforestclassifier__criterion\", \"randomforestclassifier__n_estimators\" } might not be used.\n",
      "\n",
      "  This may not be accurate due to some parameters are only used in language bindings but\n",
      "  passed down to XGBoost core.  Or some parameters are not used but slip through this\n",
      "  verification. Please open an issue if you find above cases.\n",
      "\n",
      "\n",
      "[13:34:21] WARNING: ../src/learner.cc:1095: Starting in XGBoost 1.3.0, the default evaluation metric used with the objective 'binary:logistic' was changed from 'error' to 'logloss'. Explicitly set eval_metric if you'd like to restore the old behavior.\n",
      "[CV 2/3; 3/50] START randomforestclassifier__criterion=gini, randomforestclassifier__n_estimators=290\n"
     ]
    },
    {
     "output_type": "stream",
     "name": "stderr",
     "text": [
      "/home/hj/.local/share/virtualenvs/Kickstarter-aZ_5KkIK/lib/python3.9/site-packages/xgboost/sklearn.py:1146: UserWarning: The use of label encoder in XGBClassifier is deprecated and will be removed in a future release. To remove this warning, do the following: 1) Pass option use_label_encoder=False when constructing XGBClassifier object; and 2) Encode your labels (y) as integers starting with 0, i.e. 0, 1, 2, ..., [num_class - 1].\n",
      "  warnings.warn(label_encoder_deprecation_msg, UserWarning)\n"
     ]
    },
    {
     "output_type": "stream",
     "name": "stdout",
     "text": [
      "[13:34:21] WARNING: ../src/learner.cc:573: \n",
      "Parameters: { \"label_encoder\", \"randomforestclassifier__criterion\", \"randomforestclassifier__n_estimators\" } might not be used.\n",
      "\n",
      "  This may not be accurate due to some parameters are only used in language bindings but\n",
      "  passed down to XGBoost core.  Or some parameters are not used but slip through this\n",
      "  verification. Please open an issue if you find above cases.\n",
      "\n",
      "\n",
      "[13:34:23] WARNING: ../src/learner.cc:1095: Starting in XGBoost 1.3.0, the default evaluation metric used with the objective 'binary:logistic' was changed from 'error' to 'logloss'. Explicitly set eval_metric if you'd like to restore the old behavior.\n",
      "[13:34:25] WARNING: ../src/learner.cc:1095: Starting in XGBoost 1.3.0, the default evaluation metric used with the objective 'binary:logistic' was changed from 'error' to 'logloss'. Explicitly set eval_metric if you'd like to restore the old behavior.\n",
      "[CV 1/3; 1/50] END randomforestclassifier__criterion=entropy, randomforestclassifier__n_estimators=62;, score=(train=0.912, test=0.757) total time= 2.8min\n",
      "[CV 3/3; 3/50] START randomforestclassifier__criterion=gini, randomforestclassifier__n_estimators=290\n"
     ]
    },
    {
     "output_type": "stream",
     "name": "stderr",
     "text": [
      "/home/hj/.local/share/virtualenvs/Kickstarter-aZ_5KkIK/lib/python3.9/site-packages/xgboost/sklearn.py:1146: UserWarning: The use of label encoder in XGBClassifier is deprecated and will be removed in a future release. To remove this warning, do the following: 1) Pass option use_label_encoder=False when constructing XGBClassifier object; and 2) Encode your labels (y) as integers starting with 0, i.e. 0, 1, 2, ..., [num_class - 1].\n",
      "  warnings.warn(label_encoder_deprecation_msg, UserWarning)\n"
     ]
    },
    {
     "output_type": "stream",
     "name": "stdout",
     "text": [
      "[13:37:01] WARNING: ../src/learner.cc:573: \n",
      "Parameters: { \"label_encoder\", \"randomforestclassifier__criterion\", \"randomforestclassifier__n_estimators\" } might not be used.\n",
      "\n",
      "  This may not be accurate due to some parameters are only used in language bindings but\n",
      "  passed down to XGBoost core.  Or some parameters are not used but slip through this\n",
      "  verification. Please open an issue if you find above cases.\n",
      "\n",
      "\n",
      "[13:37:05] WARNING: ../src/learner.cc:1095: Starting in XGBoost 1.3.0, the default evaluation metric used with the objective 'binary:logistic' was changed from 'error' to 'logloss'. Explicitly set eval_metric if you'd like to restore the old behavior.\n",
      "[CV 1/3; 2/50] END randomforestclassifier__criterion=entropy, randomforestclassifier__n_estimators=164;, score=(train=0.912, test=0.757) total time= 2.8min\n"
     ]
    },
    {
     "output_type": "stream",
     "name": "stderr",
     "text": [
      "/home/hj/.local/share/virtualenvs/Kickstarter-aZ_5KkIK/lib/python3.9/site-packages/xgboost/sklearn.py:1146: UserWarning: The use of label encoder in XGBClassifier is deprecated and will be removed in a future release. To remove this warning, do the following: 1) Pass option use_label_encoder=False when constructing XGBClassifier object; and 2) Encode your labels (y) as integers starting with 0, i.e. 0, 1, 2, ..., [num_class - 1].\n",
      "  warnings.warn(label_encoder_deprecation_msg, UserWarning)\n"
     ]
    },
    {
     "output_type": "stream",
     "name": "stdout",
     "text": [
      "[CV 1/3; 4/50] START randomforestclassifier__criterion=entropy, randomforestclassifier__n_estimators=210\n",
      "[13:37:07] WARNING: ../src/learner.cc:573: \n",
      "Parameters: { \"label_encoder\", \"randomforestclassifier__criterion\", \"randomforestclassifier__n_estimators\" } might not be used.\n",
      "\n",
      "  This may not be accurate due to some parameters are only used in language bindings but\n",
      "  passed down to XGBoost core.  Or some parameters are not used but slip through this\n",
      "  verification. Please open an issue if you find above cases.\n",
      "\n",
      "\n",
      "[13:37:11] WARNING: ../src/learner.cc:1095: Starting in XGBoost 1.3.0, the default evaluation metric used with the objective 'binary:logistic' was changed from 'error' to 'logloss'. Explicitly set eval_metric if you'd like to restore the old behavior.\n",
      "[CV 3/3; 2/50] END randomforestclassifier__criterion=entropy, randomforestclassifier__n_estimators=164;, score=(train=0.911, test=0.755) total time= 3.0min\n",
      "[CV 2/3; 4/50] START randomforestclassifier__criterion=entropy, randomforestclassifier__n_estimators=210\n",
      "[13:37:17] WARNING: ../src/learner.cc:573: \n",
      "Parameters: { \"label_encoder\", \"randomforestclassifier__criterion\", \"randomforestclassifier__n_estimators\" } might not be used.\n",
      "\n",
      "  This may not be accurate due to some parameters are only used in language bindings but\n",
      "  passed down to XGBoost core.  Or some parameters are not used but slip through this\n",
      "  verification. Please open an issue if you find above cases.\n",
      "\n",
      "\n"
     ]
    },
    {
     "output_type": "stream",
     "name": "stderr",
     "text": [
      "/home/hj/.local/share/virtualenvs/Kickstarter-aZ_5KkIK/lib/python3.9/site-packages/xgboost/sklearn.py:1146: UserWarning: The use of label encoder in XGBClassifier is deprecated and will be removed in a future release. To remove this warning, do the following: 1) Pass option use_label_encoder=False when constructing XGBClassifier object; and 2) Encode your labels (y) as integers starting with 0, i.e. 0, 1, 2, ..., [num_class - 1].\n",
      "  warnings.warn(label_encoder_deprecation_msg, UserWarning)\n"
     ]
    },
    {
     "output_type": "stream",
     "name": "stdout",
     "text": [
      "[CV 2/3; 1/50] END randomforestclassifier__criterion=entropy, randomforestclassifier__n_estimators=62;, score=(train=0.912, test=0.759) total time= 3.1min[CV 2/3; 3/50] END randomforestclassifier__criterion=gini, randomforestclassifier__n_estimators=290;, score=(train=0.912, test=0.759) total time= 2.9min\n",
      "\n",
      "[CV 3/3; 1/50] END randomforestclassifier__criterion=entropy, randomforestclassifier__n_estimators=62;, score=(train=0.911, test=0.755) total time= 3.1min\n",
      "[CV 3/3; 4/50] START randomforestclassifier__criterion=entropy, randomforestclassifier__n_estimators=210\n"
     ]
    },
    {
     "output_type": "stream",
     "name": "stderr",
     "text": [
      "/home/hj/.local/share/virtualenvs/Kickstarter-aZ_5KkIK/lib/python3.9/site-packages/xgboost/sklearn.py:1146: UserWarning: The use of label encoder in XGBClassifier is deprecated and will be removed in a future release. To remove this warning, do the following: 1) Pass option use_label_encoder=False when constructing XGBClassifier object; and 2) Encode your labels (y) as integers starting with 0, i.e. 0, 1, 2, ..., [num_class - 1].\n",
      "  warnings.warn(label_encoder_deprecation_msg, UserWarning)\n"
     ]
    },
    {
     "output_type": "stream",
     "name": "stdout",
     "text": [
      "[13:37:19] WARNING: ../src/learner.cc:573: \n",
      "Parameters: { \"label_encoder\", \"randomforestclassifier__criterion\", \"randomforestclassifier__n_estimators\" } might not be used.\n",
      "\n",
      "  This may not be accurate due to some parameters are only used in language bindings but\n",
      "  passed down to XGBoost core.  Or some parameters are not used but slip through this\n",
      "  verification. Please open an issue if you find above cases.\n",
      "\n",
      "\n",
      "[CV 1/3; 5/50] START randomforestclassifier__criterion=entropy, randomforestclassifier__n_estimators=178\n",
      "[13:37:21] WARNING: ../src/learner.cc:1095: Starting in XGBoost 1.3.0, the default evaluation metric used with the objective 'binary:logistic' was changed from 'error' to 'logloss'. Explicitly set eval_metric if you'd like to restore the old behavior.\n"
     ]
    },
    {
     "output_type": "stream",
     "name": "stderr",
     "text": [
      "/home/hj/.local/share/virtualenvs/Kickstarter-aZ_5KkIK/lib/python3.9/site-packages/xgboost/sklearn.py:1146: UserWarning: The use of label encoder in XGBClassifier is deprecated and will be removed in a future release. To remove this warning, do the following: 1) Pass option use_label_encoder=False when constructing XGBClassifier object; and 2) Encode your labels (y) as integers starting with 0, i.e. 0, 1, 2, ..., [num_class - 1].\n",
      "  warnings.warn(label_encoder_deprecation_msg, UserWarning)\n"
     ]
    },
    {
     "output_type": "stream",
     "name": "stdout",
     "text": [
      "[13:37:21] WARNING: ../src/learner.cc:573: \n",
      "Parameters: { \"label_encoder\", \"randomforestclassifier__criterion\", \"randomforestclassifier__n_estimators\" } might not be used.\n",
      "\n",
      "  This may not be accurate due to some parameters are only used in language bindings but\n",
      "  passed down to XGBoost core.  Or some parameters are not used but slip through this\n",
      "  verification. Please open an issue if you find above cases.\n",
      "\n",
      "\n",
      "[CV 2/3; 2/50] END randomforestclassifier__criterion=entropy, randomforestclassifier__n_estimators=164;, score=(train=0.912, test=0.759) total time= 3.1min\n",
      "[13:37:23] WARNING: ../src/learner.cc:1095: Starting in XGBoost 1.3.0, the default evaluation metric used with the objective 'binary:logistic' was changed from 'error' to 'logloss'. Explicitly set eval_metric if you'd like to restore the old behavior.\n",
      "[CV 2/3; 5/50] START randomforestclassifier__criterion=entropy, randomforestclassifier__n_estimators=178\n"
     ]
    },
    {
     "output_type": "stream",
     "name": "stderr",
     "text": [
      "/home/hj/.local/share/virtualenvs/Kickstarter-aZ_5KkIK/lib/python3.9/site-packages/xgboost/sklearn.py:1146: UserWarning: The use of label encoder in XGBClassifier is deprecated and will be removed in a future release. To remove this warning, do the following: 1) Pass option use_label_encoder=False when constructing XGBClassifier object; and 2) Encode your labels (y) as integers starting with 0, i.e. 0, 1, 2, ..., [num_class - 1].\n",
      "  warnings.warn(label_encoder_deprecation_msg, UserWarning)\n"
     ]
    },
    {
     "output_type": "stream",
     "name": "stdout",
     "text": [
      "[13:37:24] WARNING: ../src/learner.cc:573: \n",
      "Parameters: { \"label_encoder\", \"randomforestclassifier__criterion\", \"randomforestclassifier__n_estimators\" } might not be used.\n",
      "\n",
      "  This may not be accurate due to some parameters are only used in language bindings but\n",
      "  passed down to XGBoost core.  Or some parameters are not used but slip through this\n",
      "  verification. Please open an issue if you find above cases.\n",
      "\n",
      "\n",
      "[13:37:25] WARNING: ../src/learner.cc:1095: Starting in XGBoost 1.3.0, the default evaluation metric used with the objective 'binary:logistic' was changed from 'error' to 'logloss'. Explicitly set eval_metric if you'd like to restore the old behavior.\n",
      "[CV 3/3; 5/50] START randomforestclassifier__criterion=entropy, randomforestclassifier__n_estimators=178\n"
     ]
    },
    {
     "output_type": "stream",
     "name": "stderr",
     "text": [
      "/home/hj/.local/share/virtualenvs/Kickstarter-aZ_5KkIK/lib/python3.9/site-packages/xgboost/sklearn.py:1146: UserWarning: The use of label encoder in XGBClassifier is deprecated and will be removed in a future release. To remove this warning, do the following: 1) Pass option use_label_encoder=False when constructing XGBClassifier object; and 2) Encode your labels (y) as integers starting with 0, i.e. 0, 1, 2, ..., [num_class - 1].\n",
      "  warnings.warn(label_encoder_deprecation_msg, UserWarning)\n"
     ]
    },
    {
     "output_type": "stream",
     "name": "stdout",
     "text": [
      "[13:37:26] WARNING: ../src/learner.cc:573: \n",
      "Parameters: { \"label_encoder\", \"randomforestclassifier__criterion\", \"randomforestclassifier__n_estimators\" } might not be used.\n",
      "\n",
      "  This may not be accurate due to some parameters are only used in language bindings but\n",
      "  passed down to XGBoost core.  Or some parameters are not used but slip through this\n",
      "  verification. Please open an issue if you find above cases.\n",
      "\n",
      "\n",
      "[CV 1/3; 3/50] END randomforestclassifier__criterion=gini, randomforestclassifier__n_estimators=290;, score=(train=0.912, test=0.757) total time= 3.1min\n",
      "[CV 1/3; 6/50] START randomforestclassifier__criterion=entropy, randomforestclassifier__n_estimators=317\n",
      "[13:37:29] WARNING: ../src/learner.cc:1095: Starting in XGBoost 1.3.0, the default evaluation metric used with the objective 'binary:logistic' was changed from 'error' to 'logloss'. Explicitly set eval_metric if you'd like to restore the old behavior.\n",
      "[13:37:29] WARNING: ../src/learner.cc:573: \n",
      "Parameters: { \"label_encoder\", \"randomforestclassifier__criterion\", \"randomforestclassifier__n_estimators\" } might not be used.\n",
      "\n",
      "  This may not be accurate due to some parameters are only used in language bindings but\n",
      "  passed down to XGBoost core.  Or some parameters are not used but slip through this\n",
      "  verification. Please open an issue if you find above cases.\n",
      "\n",
      "\n"
     ]
    },
    {
     "output_type": "stream",
     "name": "stderr",
     "text": [
      "/home/hj/.local/share/virtualenvs/Kickstarter-aZ_5KkIK/lib/python3.9/site-packages/xgboost/sklearn.py:1146: UserWarning: The use of label encoder in XGBClassifier is deprecated and will be removed in a future release. To remove this warning, do the following: 1) Pass option use_label_encoder=False when constructing XGBClassifier object; and 2) Encode your labels (y) as integers starting with 0, i.e. 0, 1, 2, ..., [num_class - 1].\n",
      "  warnings.warn(label_encoder_deprecation_msg, UserWarning)\n"
     ]
    },
    {
     "output_type": "stream",
     "name": "stdout",
     "text": [
      "[13:37:30] WARNING: ../src/learner.cc:1095: Starting in XGBoost 1.3.0, the default evaluation metric used with the objective 'binary:logistic' was changed from 'error' to 'logloss'. Explicitly set eval_metric if you'd like to restore the old behavior.\n",
      "[13:37:34] WARNING: ../src/learner.cc:1095: Starting in XGBoost 1.3.0, the default evaluation metric used with the objective 'binary:logistic' was changed from 'error' to 'logloss'. Explicitly set eval_metric if you'd like to restore the old behavior.\n",
      "[CV 3/3; 3/50] END randomforestclassifier__criterion=gini, randomforestclassifier__n_estimators=290;, score=(train=0.911, test=0.755) total time= 3.2min\n"
     ]
    },
    {
     "output_type": "stream",
     "name": "stderr",
     "text": [
      "/home/hj/.local/share/virtualenvs/Kickstarter-aZ_5KkIK/lib/python3.9/site-packages/xgboost/sklearn.py:1146: UserWarning: The use of label encoder in XGBClassifier is deprecated and will be removed in a future release. To remove this warning, do the following: 1) Pass option use_label_encoder=False when constructing XGBClassifier object; and 2) Encode your labels (y) as integers starting with 0, i.e. 0, 1, 2, ..., [num_class - 1].\n",
      "  warnings.warn(label_encoder_deprecation_msg, UserWarning)\n"
     ]
    },
    {
     "output_type": "stream",
     "name": "stdout",
     "text": [
      "[CV 2/3; 6/50] START randomforestclassifier__criterion=entropy, randomforestclassifier__n_estimators=317\n",
      "[13:40:15] WARNING: ../src/learner.cc:573: \n",
      "Parameters: { \"label_encoder\", \"randomforestclassifier__criterion\", \"randomforestclassifier__n_estimators\" } might not be used.\n",
      "\n",
      "  This may not be accurate due to some parameters are only used in language bindings but\n",
      "  passed down to XGBoost core.  Or some parameters are not used but slip through this\n",
      "  verification. Please open an issue if you find above cases.\n",
      "\n",
      "\n",
      "[CV 1/3; 4/50] END randomforestclassifier__criterion=entropy, randomforestclassifier__n_estimators=210;, score=(train=0.912, test=0.757) total time= 3.2min\n",
      "[13:40:20] WARNING: ../src/learner.cc:1095: Starting in XGBoost 1.3.0, the default evaluation metric used with the objective 'binary:logistic' was changed from 'error' to 'logloss'. Explicitly set eval_metric if you'd like to restore the old behavior.\n"
     ]
    },
    {
     "output_type": "stream",
     "name": "stderr",
     "text": [
      "/home/hj/.local/share/virtualenvs/Kickstarter-aZ_5KkIK/lib/python3.9/site-packages/xgboost/sklearn.py:1146: UserWarning: The use of label encoder in XGBClassifier is deprecated and will be removed in a future release. To remove this warning, do the following: 1) Pass option use_label_encoder=False when constructing XGBClassifier object; and 2) Encode your labels (y) as integers starting with 0, i.e. 0, 1, 2, ..., [num_class - 1].\n",
      "  warnings.warn(label_encoder_deprecation_msg, UserWarning)\n"
     ]
    },
    {
     "output_type": "stream",
     "name": "stdout",
     "text": [
      "[CV 3/3; 6/50] START randomforestclassifier__criterion=entropy, randomforestclassifier__n_estimators=317\n",
      "[13:40:21] WARNING: ../src/learner.cc:573: \n",
      "Parameters: { \"label_encoder\", \"randomforestclassifier__criterion\", \"randomforestclassifier__n_estimators\" } might not be used.\n",
      "\n",
      "  This may not be accurate due to some parameters are only used in language bindings but\n",
      "  passed down to XGBoost core.  Or some parameters are not used but slip through this\n",
      "  verification. Please open an issue if you find above cases.\n",
      "\n",
      "\n",
      "[13:40:24] WARNING: ../src/learner.cc:1095: Starting in XGBoost 1.3.0, the default evaluation metric used with the objective 'binary:logistic' was changed from 'error' to 'logloss'. Explicitly set eval_metric if you'd like to restore the old behavior.\n",
      "[CV 2/3; 4/50] END randomforestclassifier__criterion=entropy, randomforestclassifier__n_estimators=210;, score=(train=0.912, test=0.759) total time= 3.2min\n"
     ]
    },
    {
     "output_type": "stream",
     "name": "stderr",
     "text": [
      "/home/hj/.local/share/virtualenvs/Kickstarter-aZ_5KkIK/lib/python3.9/site-packages/xgboost/sklearn.py:1146: UserWarning: The use of label encoder in XGBClassifier is deprecated and will be removed in a future release. To remove this warning, do the following: 1) Pass option use_label_encoder=False when constructing XGBClassifier object; and 2) Encode your labels (y) as integers starting with 0, i.e. 0, 1, 2, ..., [num_class - 1].\n",
      "  warnings.warn(label_encoder_deprecation_msg, UserWarning)\n"
     ]
    },
    {
     "output_type": "stream",
     "name": "stdout",
     "text": [
      "[CV 1/3; 7/50] START randomforestclassifier__criterion=gini, randomforestclassifier__n_estimators=82\n",
      "[13:40:29] WARNING: ../src/learner.cc:573: \n",
      "Parameters: { \"label_encoder\", \"randomforestclassifier__criterion\", \"randomforestclassifier__n_estimators\" } might not be used.\n",
      "\n",
      "  This may not be accurate due to some parameters are only used in language bindings but\n",
      "  passed down to XGBoost core.  Or some parameters are not used but slip through this\n",
      "  verification. Please open an issue if you find above cases.\n",
      "\n",
      "\n",
      "[CV 1/3; 5/50] END randomforestclassifier__criterion=entropy, randomforestclassifier__n_estimators=178;, score=(train=0.912, test=0.757) total time= 3.1min\n",
      "[CV 2/3; 7/50] START randomforestclassifier__criterion=gini, randomforestclassifier__n_estimators=82\n"
     ]
    },
    {
     "output_type": "stream",
     "name": "stderr",
     "text": [
      "/home/hj/.local/share/virtualenvs/Kickstarter-aZ_5KkIK/lib/python3.9/site-packages/xgboost/sklearn.py:1146: UserWarning: The use of label encoder in XGBClassifier is deprecated and will be removed in a future release. To remove this warning, do the following: 1) Pass option use_label_encoder=False when constructing XGBClassifier object; and 2) Encode your labels (y) as integers starting with 0, i.e. 0, 1, 2, ..., [num_class - 1].\n",
      "  warnings.warn(label_encoder_deprecation_msg, UserWarning)\n"
     ]
    },
    {
     "output_type": "stream",
     "name": "stdout",
     "text": [
      "[13:40:32] WARNING: ../src/learner.cc:573: \n",
      "Parameters: { \"label_encoder\", \"randomforestclassifier__criterion\", \"randomforestclassifier__n_estimators\" } might not be used.\n",
      "\n",
      "  This may not be accurate due to some parameters are only used in language bindings but\n",
      "  passed down to XGBoost core.  Or some parameters are not used but slip through this\n",
      "  verification. Please open an issue if you find above cases.\n",
      "\n",
      "\n",
      "[CV 3/3; 4/50] END randomforestclassifier__criterion=entropy, randomforestclassifier__n_estimators=210;, score=(train=0.911, test=0.755) total time= 3.2min\n",
      "[13:40:34] WARNING: ../src/learner.cc:1095: Starting in XGBoost 1.3.0, the default evaluation metric used with the objective 'binary:logistic' was changed from 'error' to 'logloss'. Explicitly set eval_metric if you'd like to restore the old behavior.\n",
      "[CV 3/3; 7/50] START randomforestclassifier__criterion=gini, randomforestclassifier__n_estimators=82\n"
     ]
    },
    {
     "output_type": "stream",
     "name": "stderr",
     "text": [
      "/home/hj/.local/share/virtualenvs/Kickstarter-aZ_5KkIK/lib/python3.9/site-packages/xgboost/sklearn.py:1146: UserWarning: The use of label encoder in XGBClassifier is deprecated and will be removed in a future release. To remove this warning, do the following: 1) Pass option use_label_encoder=False when constructing XGBClassifier object; and 2) Encode your labels (y) as integers starting with 0, i.e. 0, 1, 2, ..., [num_class - 1].\n",
      "  warnings.warn(label_encoder_deprecation_msg, UserWarning)\n"
     ]
    },
    {
     "output_type": "stream",
     "name": "stdout",
     "text": [
      "[13:40:34] WARNING: ../src/learner.cc:573: \n",
      "Parameters: { \"label_encoder\", \"randomforestclassifier__criterion\", \"randomforestclassifier__n_estimators\" } might not be used.\n",
      "\n",
      "  This may not be accurate due to some parameters are only used in language bindings but\n",
      "  passed down to XGBoost core.  Or some parameters are not used but slip through this\n",
      "  verification. Please open an issue if you find above cases.\n",
      "\n",
      "\n",
      "[13:40:36] WARNING: ../src/learner.cc:1095: Starting in XGBoost 1.3.0, the default evaluation metric used with the objective 'binary:logistic' was changed from 'error' to 'logloss'. Explicitly set eval_metric if you'd like to restore the old behavior.\n",
      "[CV 2/3; 5/50] END randomforestclassifier__criterion=entropy, randomforestclassifier__n_estimators=178;, score=(train=0.912, test=0.759) total time= 3.2min\n",
      "[13:40:39] WARNING: ../src/learner.cc:1095: Starting in XGBoost 1.3.0, the default evaluation metric used with the objective 'binary:logistic' was changed from 'error' to 'logloss'. Explicitly set eval_metric if you'd like to restore the old behavior.\n",
      "[CV 1/3; 8/50] START randomforestclassifier__criterion=entropy, randomforestclassifier__n_estimators=254\n",
      "[13:40:39] WARNING: ../src/learner.cc:573: \n",
      "Parameters: { \"label_encoder\", \"randomforestclassifier__criterion\", \"randomforestclassifier__n_estimators\" } might not be used.\n",
      "\n",
      "  This may not be accurate due to some parameters are only used in language bindings but\n",
      "  passed down to XGBoost core.  Or some parameters are not used but slip through this\n",
      "  verification. Please open an issue if you find above cases.\n",
      "\n",
      "\n"
     ]
    },
    {
     "output_type": "stream",
     "name": "stderr",
     "text": [
      "/home/hj/.local/share/virtualenvs/Kickstarter-aZ_5KkIK/lib/python3.9/site-packages/xgboost/sklearn.py:1146: UserWarning: The use of label encoder in XGBClassifier is deprecated and will be removed in a future release. To remove this warning, do the following: 1) Pass option use_label_encoder=False when constructing XGBClassifier object; and 2) Encode your labels (y) as integers starting with 0, i.e. 0, 1, 2, ..., [num_class - 1].\n",
      "  warnings.warn(label_encoder_deprecation_msg, UserWarning)\n"
     ]
    },
    {
     "output_type": "stream",
     "name": "stdout",
     "text": [
      "[CV 1/3; 6/50] END randomforestclassifier__criterion=entropy, randomforestclassifier__n_estimators=317;, score=(train=0.912, test=0.757) total time= 3.2min\n",
      "[CV 2/3; 8/50] START randomforestclassifier__criterion=entropy, randomforestclassifier__n_estimators=254\n"
     ]
    },
    {
     "output_type": "stream",
     "name": "stderr",
     "text": [
      "/home/hj/.local/share/virtualenvs/Kickstarter-aZ_5KkIK/lib/python3.9/site-packages/xgboost/sklearn.py:1146: UserWarning: The use of label encoder in XGBClassifier is deprecated and will be removed in a future release. To remove this warning, do the following: 1) Pass option use_label_encoder=False when constructing XGBClassifier object; and 2) Encode your labels (y) as integers starting with 0, i.e. 0, 1, 2, ..., [num_class - 1].\n",
      "  warnings.warn(label_encoder_deprecation_msg, UserWarning)\n"
     ]
    },
    {
     "output_type": "stream",
     "name": "stdout",
     "text": [
      "[13:40:43] WARNING: ../src/learner.cc:573: \n",
      "Parameters: { \"label_encoder\", \"randomforestclassifier__criterion\", \"randomforestclassifier__n_estimators\" } might not be used.\n",
      "\n",
      "  This may not be accurate due to some parameters are only used in language bindings but\n",
      "  passed down to XGBoost core.  Or some parameters are not used but slip through this\n",
      "  verification. Please open an issue if you find above cases.\n",
      "\n",
      "\n",
      "[13:40:43] WARNING: ../src/learner.cc:1095: Starting in XGBoost 1.3.0, the default evaluation metric used with the objective 'binary:logistic' was changed from 'error' to 'logloss'. Explicitly set eval_metric if you'd like to restore the old behavior.\n",
      "[CV 3/3; 5/50] END randomforestclassifier__criterion=entropy, randomforestclassifier__n_estimators=178;, score=(train=0.911, test=0.755) total time= 3.3min\n",
      "[CV 3/3; 8/50] START randomforestclassifier__criterion=entropy, randomforestclassifier__n_estimators=254\n"
     ]
    },
    {
     "output_type": "stream",
     "name": "stderr",
     "text": [
      "/home/hj/.local/share/virtualenvs/Kickstarter-aZ_5KkIK/lib/python3.9/site-packages/xgboost/sklearn.py:1146: UserWarning: The use of label encoder in XGBClassifier is deprecated and will be removed in a future release. To remove this warning, do the following: 1) Pass option use_label_encoder=False when constructing XGBClassifier object; and 2) Encode your labels (y) as integers starting with 0, i.e. 0, 1, 2, ..., [num_class - 1].\n",
      "  warnings.warn(label_encoder_deprecation_msg, UserWarning)\n"
     ]
    },
    {
     "output_type": "stream",
     "name": "stdout",
     "text": [
      "[13:40:46] WARNING: ../src/learner.cc:573: \n",
      "Parameters: { \"label_encoder\", \"randomforestclassifier__criterion\", \"randomforestclassifier__n_estimators\" } might not be used.\n",
      "\n",
      "  This may not be accurate due to some parameters are only used in language bindings but\n",
      "  passed down to XGBoost core.  Or some parameters are not used but slip through this\n",
      "  verification. Please open an issue if you find above cases.\n",
      "\n",
      "\n",
      "[13:40:47] WARNING: ../src/learner.cc:1095: Starting in XGBoost 1.3.0, the default evaluation metric used with the objective 'binary:logistic' was changed from 'error' to 'logloss'. Explicitly set eval_metric if you'd like to restore the old behavior.\n",
      "[13:40:51] WARNING: ../src/learner.cc:1095: Starting in XGBoost 1.3.0, the default evaluation metric used with the objective 'binary:logistic' was changed from 'error' to 'logloss'. Explicitly set eval_metric if you'd like to restore the old behavior.\n",
      "[CV 2/3; 6/50] END randomforestclassifier__criterion=entropy, randomforestclassifier__n_estimators=317;, score=(train=0.912, test=0.759) total time= 3.0min\n"
     ]
    },
    {
     "output_type": "stream",
     "name": "stderr",
     "text": [
      "/home/hj/.local/share/virtualenvs/Kickstarter-aZ_5KkIK/lib/python3.9/site-packages/xgboost/sklearn.py:1146: UserWarning: The use of label encoder in XGBClassifier is deprecated and will be removed in a future release. To remove this warning, do the following: 1) Pass option use_label_encoder=False when constructing XGBClassifier object; and 2) Encode your labels (y) as integers starting with 0, i.e. 0, 1, 2, ..., [num_class - 1].\n",
      "  warnings.warn(label_encoder_deprecation_msg, UserWarning)\n"
     ]
    },
    {
     "output_type": "stream",
     "name": "stdout",
     "text": [
      "[CV 1/3; 9/50] START randomforestclassifier__criterion=gini, randomforestclassifier__n_estimators=277\n",
      "[13:43:20] WARNING: ../src/learner.cc:573: \n",
      "Parameters: { \"label_encoder\", \"randomforestclassifier__criterion\", \"randomforestclassifier__n_estimators\" } might not be used.\n",
      "\n",
      "  This may not be accurate due to some parameters are only used in language bindings but\n",
      "  passed down to XGBoost core.  Or some parameters are not used but slip through this\n",
      "  verification. Please open an issue if you find above cases.\n",
      "\n",
      "\n",
      "[CV 3/3; 6/50] END randomforestclassifier__criterion=entropy, randomforestclassifier__n_estimators=317;, score=(train=0.911, test=0.755) total time= 3.0min\n"
     ]
    },
    {
     "output_type": "stream",
     "name": "stderr",
     "text": [
      "/home/hj/.local/share/virtualenvs/Kickstarter-aZ_5KkIK/lib/python3.9/site-packages/xgboost/sklearn.py:1146: UserWarning: The use of label encoder in XGBClassifier is deprecated and will be removed in a future release. To remove this warning, do the following: 1) Pass option use_label_encoder=False when constructing XGBClassifier object; and 2) Encode your labels (y) as integers starting with 0, i.e. 0, 1, 2, ..., [num_class - 1].\n",
      "  warnings.warn(label_encoder_deprecation_msg, UserWarning)\n"
     ]
    },
    {
     "output_type": "stream",
     "name": "stdout",
     "text": [
      "[CV 2/3; 9/50] START randomforestclassifier__criterion=gini, randomforestclassifier__n_estimators=277\n",
      "[13:43:23] WARNING: ../src/learner.cc:573: \n",
      "Parameters: { \"label_encoder\", \"randomforestclassifier__criterion\", \"randomforestclassifier__n_estimators\" } might not be used.\n",
      "\n",
      "  This may not be accurate due to some parameters are only used in language bindings but\n",
      "  passed down to XGBoost core.  Or some parameters are not used but slip through this\n",
      "  verification. Please open an issue if you find above cases.\n",
      "\n",
      "\n",
      "[13:43:23] WARNING: ../src/learner.cc:1095: Starting in XGBoost 1.3.0, the default evaluation metric used with the objective 'binary:logistic' was changed from 'error' to 'logloss'. Explicitly set eval_metric if you'd like to restore the old behavior.\n",
      "[13:43:26] WARNING: ../src/learner.cc:1095: Starting in XGBoost 1.3.0, the default evaluation metric used with the objective 'binary:logistic' was changed from 'error' to 'logloss'. Explicitly set eval_metric if you'd like to restore the old behavior.\n",
      "[CV 2/3; 7/50] END randomforestclassifier__criterion=gini, randomforestclassifier__n_estimators=82;, score=(train=0.912, test=0.759) total time= 3.0min\n",
      "[CV 3/3; 9/50] START randomforestclassifier__criterion=gini, randomforestclassifier__n_estimators=277\n"
     ]
    },
    {
     "output_type": "stream",
     "name": "stderr",
     "text": [
      "/home/hj/.local/share/virtualenvs/Kickstarter-aZ_5KkIK/lib/python3.9/site-packages/xgboost/sklearn.py:1146: UserWarning: The use of label encoder in XGBClassifier is deprecated and will be removed in a future release. To remove this warning, do the following: 1) Pass option use_label_encoder=False when constructing XGBClassifier object; and 2) Encode your labels (y) as integers starting with 0, i.e. 0, 1, 2, ..., [num_class - 1].\n",
      "  warnings.warn(label_encoder_deprecation_msg, UserWarning)\n"
     ]
    },
    {
     "output_type": "stream",
     "name": "stdout",
     "text": [
      "[13:43:31] WARNING: ../src/learner.cc:573: \n",
      "Parameters: { \"label_encoder\", \"randomforestclassifier__criterion\", \"randomforestclassifier__n_estimators\" } might not be used.\n",
      "\n",
      "  This may not be accurate due to some parameters are only used in language bindings but\n",
      "  passed down to XGBoost core.  Or some parameters are not used but slip through this\n",
      "  verification. Please open an issue if you find above cases.\n",
      "\n",
      "\n",
      "[CV 3/3; 7/50] END randomforestclassifier__criterion=gini, randomforestclassifier__n_estimators=82;, score=(train=0.911, test=0.755) total time= 3.0min\n",
      "[CV 1/3; 7/50] END randomforestclassifier__criterion=gini, randomforestclassifier__n_estimators=82;, score=(train=0.912, test=0.757) total time= 3.0min\n"
     ]
    },
    {
     "output_type": "stream",
     "name": "stderr",
     "text": [
      "/home/hj/.local/share/virtualenvs/Kickstarter-aZ_5KkIK/lib/python3.9/site-packages/xgboost/sklearn.py:1146: UserWarning: The use of label encoder in XGBClassifier is deprecated and will be removed in a future release. To remove this warning, do the following: 1) Pass option use_label_encoder=False when constructing XGBClassifier object; and 2) Encode your labels (y) as integers starting with 0, i.e. 0, 1, 2, ..., [num_class - 1].\n",
      "  warnings.warn(label_encoder_deprecation_msg, UserWarning)\n"
     ]
    },
    {
     "output_type": "stream",
     "name": "stdout",
     "text": [
      "[CV 1/3; 10/50] START randomforestclassifier__criterion=gini, randomforestclassifier__n_estimators=238\n",
      "[13:43:33] WARNING: ../src/learner.cc:573: \n",
      "Parameters: { \"label_encoder\", \"randomforestclassifier__criterion\", \"randomforestclassifier__n_estimators\" } might not be used.\n",
      "\n",
      "  This may not be accurate due to some parameters are only used in language bindings but\n",
      "  passed down to XGBoost core.  Or some parameters are not used but slip through this\n",
      "  verification. Please open an issue if you find above cases.\n",
      "\n",
      "\n"
     ]
    },
    {
     "output_type": "stream",
     "name": "stderr",
     "text": [
      "/home/hj/.local/share/virtualenvs/Kickstarter-aZ_5KkIK/lib/python3.9/site-packages/xgboost/sklearn.py:1146: UserWarning: The use of label encoder in XGBClassifier is deprecated and will be removed in a future release. To remove this warning, do the following: 1) Pass option use_label_encoder=False when constructing XGBClassifier object; and 2) Encode your labels (y) as integers starting with 0, i.e. 0, 1, 2, ..., [num_class - 1].\n",
      "  warnings.warn(label_encoder_deprecation_msg, UserWarning)\n"
     ]
    },
    {
     "output_type": "stream",
     "name": "stdout",
     "text": [
      "[13:43:35] WARNING: ../src/learner.cc:1095: Starting in XGBoost 1.3.0, the default evaluation metric used with the objective 'binary:logistic' was changed from 'error' to 'logloss'. Explicitly set eval_metric if you'd like to restore the old behavior.\n",
      "[CV 2/3; 10/50] START randomforestclassifier__criterion=gini, randomforestclassifier__n_estimators=238\n",
      "[13:43:35] WARNING: ../src/learner.cc:573: \n",
      "Parameters: { \"label_encoder\", \"randomforestclassifier__criterion\", \"randomforestclassifier__n_estimators\" } might not be used.\n",
      "\n",
      "  This may not be accurate due to some parameters are only used in language bindings but\n",
      "  passed down to XGBoost core.  Or some parameters are not used but slip through this\n",
      "  verification. Please open an issue if you find above cases.\n",
      "\n",
      "\n",
      "[13:43:37] WARNING: ../src/learner.cc:1095: Starting in XGBoost 1.3.0, the default evaluation metric used with the objective 'binary:logistic' was changed from 'error' to 'logloss'. Explicitly set eval_metric if you'd like to restore the old behavior.\n",
      "[13:43:39] WARNING: ../src/learner.cc:1095: Starting in XGBoost 1.3.0, the default evaluation metric used with the objective 'binary:logistic' was changed from 'error' to 'logloss'. Explicitly set eval_metric if you'd like to restore the old behavior.\n",
      "[CV 1/3; 8/50] END randomforestclassifier__criterion=entropy, randomforestclassifier__n_estimators=254;, score=(train=0.912, test=0.757) total time= 3.0min\n"
     ]
    },
    {
     "output_type": "stream",
     "name": "stderr",
     "text": [
      "/home/hj/.local/share/virtualenvs/Kickstarter-aZ_5KkIK/lib/python3.9/site-packages/xgboost/sklearn.py:1146: UserWarning: The use of label encoder in XGBClassifier is deprecated and will be removed in a future release. To remove this warning, do the following: 1) Pass option use_label_encoder=False when constructing XGBClassifier object; and 2) Encode your labels (y) as integers starting with 0, i.e. 0, 1, 2, ..., [num_class - 1].\n",
      "  warnings.warn(label_encoder_deprecation_msg, UserWarning)\n"
     ]
    },
    {
     "output_type": "stream",
     "name": "stdout",
     "text": [
      "[CV 3/3; 10/50] START randomforestclassifier__criterion=gini, randomforestclassifier__n_estimators=238\n",
      "[13:43:43] WARNING: ../src/learner.cc:573: \n",
      "Parameters: { \"label_encoder\", \"randomforestclassifier__criterion\", \"randomforestclassifier__n_estimators\" } might not be used.\n",
      "\n",
      "  This may not be accurate due to some parameters are only used in language bindings but\n",
      "  passed down to XGBoost core.  Or some parameters are not used but slip through this\n",
      "  verification. Please open an issue if you find above cases.\n",
      "\n",
      "\n",
      "[13:43:47] WARNING: ../src/learner.cc:1095: Starting in XGBoost 1.3.0, the default evaluation metric used with the objective 'binary:logistic' was changed from 'error' to 'logloss'. Explicitly set eval_metric if you'd like to restore the old behavior.\n",
      "[CV 2/3; 8/50] END randomforestclassifier__criterion=entropy, randomforestclassifier__n_estimators=254;, score=(train=0.912, test=0.759) total time= 3.1min\n",
      "[CV 3/3; 8/50] END randomforestclassifier__criterion=entropy, randomforestclassifier__n_estimators=254;, score=(train=0.911, test=0.755) total time= 3.0min\n"
     ]
    },
    {
     "output_type": "stream",
     "name": "stderr",
     "text": [
      "/home/hj/.local/share/virtualenvs/Kickstarter-aZ_5KkIK/lib/python3.9/site-packages/xgboost/sklearn.py:1146: UserWarning: The use of label encoder in XGBClassifier is deprecated and will be removed in a future release. To remove this warning, do the following: 1) Pass option use_label_encoder=False when constructing XGBClassifier object; and 2) Encode your labels (y) as integers starting with 0, i.e. 0, 1, 2, ..., [num_class - 1].\n",
      "  warnings.warn(label_encoder_deprecation_msg, UserWarning)\n"
     ]
    },
    {
     "output_type": "stream",
     "name": "stdout",
     "text": [
      "[CV 1/3; 11/50] START randomforestclassifier__criterion=gini, randomforestclassifier__n_estimators=168\n",
      "[13:43:48] WARNING: ../src/learner.cc:573: \n",
      "Parameters: { \"label_encoder\", \"randomforestclassifier__criterion\", \"randomforestclassifier__n_estimators\" } might not be used.\n",
      "\n",
      "  This may not be accurate due to some parameters are only used in language bindings but\n",
      "  passed down to XGBoost core.  Or some parameters are not used but slip through this\n",
      "  verification. Please open an issue if you find above cases.\n",
      "\n",
      "\n",
      "[CV 2/3; 11/50] START randomforestclassifier__criterion=gini, randomforestclassifier__n_estimators=168\n",
      "[13:43:51] WARNING: ../src/learner.cc:573: \n",
      "Parameters: { \"label_encoder\", \"randomforestclassifier__criterion\", \"randomforestclassifier__n_estimators\" } might not be used.\n",
      "\n",
      "  This may not be accurate due to some parameters are only used in language bindings but\n",
      "  passed down to XGBoost core.  Or some parameters are not used but slip through this\n",
      "  verification. Please open an issue if you find above cases.\n",
      "\n",
      "\n"
     ]
    },
    {
     "output_type": "stream",
     "name": "stderr",
     "text": [
      "/home/hj/.local/share/virtualenvs/Kickstarter-aZ_5KkIK/lib/python3.9/site-packages/xgboost/sklearn.py:1146: UserWarning: The use of label encoder in XGBClassifier is deprecated and will be removed in a future release. To remove this warning, do the following: 1) Pass option use_label_encoder=False when constructing XGBClassifier object; and 2) Encode your labels (y) as integers starting with 0, i.e. 0, 1, 2, ..., [num_class - 1].\n",
      "  warnings.warn(label_encoder_deprecation_msg, UserWarning)\n"
     ]
    },
    {
     "output_type": "stream",
     "name": "stdout",
     "text": [
      "[13:43:53] WARNING: ../src/learner.cc:1095: Starting in XGBoost 1.3.0, the default evaluation metric used with the objective 'binary:logistic' was changed from 'error' to 'logloss'. Explicitly set eval_metric if you'd like to restore the old behavior.\n",
      "[13:43:55] WARNING: ../src/learner.cc:1095: Starting in XGBoost 1.3.0, the default evaluation metric used with the objective 'binary:logistic' was changed from 'error' to 'logloss'. Explicitly set eval_metric if you'd like to restore the old behavior.\n",
      "[CV 1/3; 9/50] END randomforestclassifier__criterion=gini, randomforestclassifier__n_estimators=277;, score=(train=0.912, test=0.757) total time= 2.9min\n",
      "[CV 3/3; 11/50] START randomforestclassifier__criterion=gini, randomforestclassifier__n_estimators=168\n",
      "[13:46:18] WARNING: ../src/learner.cc:573: \n",
      "Parameters: { \"label_encoder\", \"randomforestclassifier__criterion\", \"randomforestclassifier__n_estimators\" } might not be used.\n",
      "\n",
      "  This may not be accurate due to some parameters are only used in language bindings but\n",
      "  passed down to XGBoost core.  Or some parameters are not used but slip through this\n",
      "  verification. Please open an issue if you find above cases.\n",
      "\n",
      "\n"
     ]
    },
    {
     "output_type": "stream",
     "name": "stderr",
     "text": [
      "/home/hj/.local/share/virtualenvs/Kickstarter-aZ_5KkIK/lib/python3.9/site-packages/xgboost/sklearn.py:1146: UserWarning: The use of label encoder in XGBClassifier is deprecated and will be removed in a future release. To remove this warning, do the following: 1) Pass option use_label_encoder=False when constructing XGBClassifier object; and 2) Encode your labels (y) as integers starting with 0, i.e. 0, 1, 2, ..., [num_class - 1].\n",
      "  warnings.warn(label_encoder_deprecation_msg, UserWarning)\n"
     ]
    },
    {
     "output_type": "stream",
     "name": "stdout",
     "text": [
      "[13:46:22] WARNING: ../src/learner.cc:1095: Starting in XGBoost 1.3.0, the default evaluation metric used with the objective 'binary:logistic' was changed from 'error' to 'logloss'. Explicitly set eval_metric if you'd like to restore the old behavior.\n",
      "[CV 2/3; 9/50] END randomforestclassifier__criterion=gini, randomforestclassifier__n_estimators=277;, score=(train=0.912, test=0.759) total time= 3.1min\n",
      "[CV 1/3; 12/50] START randomforestclassifier__criterion=entropy, randomforestclassifier__n_estimators=44\n"
     ]
    },
    {
     "output_type": "stream",
     "name": "stderr",
     "text": [
      "/home/hj/.local/share/virtualenvs/Kickstarter-aZ_5KkIK/lib/python3.9/site-packages/xgboost/sklearn.py:1146: UserWarning: The use of label encoder in XGBClassifier is deprecated and will be removed in a future release. To remove this warning, do the following: 1) Pass option use_label_encoder=False when constructing XGBClassifier object; and 2) Encode your labels (y) as integers starting with 0, i.e. 0, 1, 2, ..., [num_class - 1].\n",
      "  warnings.warn(label_encoder_deprecation_msg, UserWarning)\n"
     ]
    },
    {
     "output_type": "stream",
     "name": "stdout",
     "text": [
      "[13:46:29] WARNING: ../src/learner.cc:573: \n",
      "Parameters: { \"label_encoder\", \"randomforestclassifier__criterion\", \"randomforestclassifier__n_estimators\" } might not be used.\n",
      "\n",
      "  This may not be accurate due to some parameters are only used in language bindings but\n",
      "  passed down to XGBoost core.  Or some parameters are not used but slip through this\n",
      "  verification. Please open an issue if you find above cases.\n",
      "\n",
      "\n",
      "[13:46:33] WARNING: ../src/learner.cc:1095: Starting in XGBoost 1.3.0, the default evaluation metric used with the objective 'binary:logistic' was changed from 'error' to 'logloss'. Explicitly set eval_metric if you'd like to restore the old behavior.\n",
      "[CV 3/3; 9/50] END randomforestclassifier__criterion=gini, randomforestclassifier__n_estimators=277;, score=(train=0.911, test=0.755) total time= 3.0min\n",
      "[CV 2/3; 12/50] START randomforestclassifier__criterion=entropy, randomforestclassifier__n_estimators=44\n"
     ]
    },
    {
     "output_type": "stream",
     "name": "stderr",
     "text": [
      "/home/hj/.local/share/virtualenvs/Kickstarter-aZ_5KkIK/lib/python3.9/site-packages/xgboost/sklearn.py:1146: UserWarning: The use of label encoder in XGBClassifier is deprecated and will be removed in a future release. To remove this warning, do the following: 1) Pass option use_label_encoder=False when constructing XGBClassifier object; and 2) Encode your labels (y) as integers starting with 0, i.e. 0, 1, 2, ..., [num_class - 1].\n",
      "  warnings.warn(label_encoder_deprecation_msg, UserWarning)\n"
     ]
    },
    {
     "output_type": "stream",
     "name": "stdout",
     "text": [
      "[13:46:35] WARNING: ../src/learner.cc:573: \n",
      "Parameters: { \"label_encoder\", \"randomforestclassifier__criterion\", \"randomforestclassifier__n_estimators\" } might not be used.\n",
      "\n",
      "  This may not be accurate due to some parameters are only used in language bindings but\n",
      "  passed down to XGBoost core.  Or some parameters are not used but slip through this\n",
      "  verification. Please open an issue if you find above cases.\n",
      "\n",
      "\n",
      "[CV 2/3; 10/50] END randomforestclassifier__criterion=gini, randomforestclassifier__n_estimators=238;, score=(train=0.912, test=0.759) total time= 3.0min\n",
      "[13:46:39] WARNING: ../src/learner.cc:1095: Starting in XGBoost 1.3.0, the default evaluation metric used with the objective 'binary:logistic' was changed from 'error' to 'logloss'. Explicitly set eval_metric if you'd like to restore the old behavior.\n",
      "[CV 3/3; 12/50] START randomforestclassifier__criterion=entropy, randomforestclassifier__n_estimators=44\n",
      "[13:46:39] WARNING: ../src/learner.cc:573: \n",
      "Parameters: { \"label_encoder\", \"randomforestclassifier__criterion\", \"randomforestclassifier__n_estimators\" } might not be used.\n",
      "\n",
      "  This may not be accurate due to some parameters are only used in language bindings but\n",
      "  passed down to XGBoost core.  Or some parameters are not used but slip through this\n",
      "  verification. Please open an issue if you find above cases.\n",
      "\n",
      "\n"
     ]
    },
    {
     "output_type": "stream",
     "name": "stderr",
     "text": [
      "/home/hj/.local/share/virtualenvs/Kickstarter-aZ_5KkIK/lib/python3.9/site-packages/xgboost/sklearn.py:1146: UserWarning: The use of label encoder in XGBClassifier is deprecated and will be removed in a future release. To remove this warning, do the following: 1) Pass option use_label_encoder=False when constructing XGBClassifier object; and 2) Encode your labels (y) as integers starting with 0, i.e. 0, 1, 2, ..., [num_class - 1].\n",
      "  warnings.warn(label_encoder_deprecation_msg, UserWarning)\n"
     ]
    },
    {
     "output_type": "stream",
     "name": "stdout",
     "text": [
      "[CV 1/3; 10/50] END randomforestclassifier__criterion=gini, randomforestclassifier__n_estimators=238;, score=(train=0.912, test=0.757) total time= 3.1min\n",
      "[CV 1/3; 13/50] START randomforestclassifier__criterion=gini, randomforestclassifier__n_estimators=181\n",
      "[13:46:42] WARNING: ../src/learner.cc:573: \n",
      "Parameters: { \"label_encoder\", \"randomforestclassifier__criterion\", \"randomforestclassifier__n_estimators\" } might not be used.\n",
      "\n",
      "  This may not be accurate due to some parameters are only used in language bindings but\n",
      "  passed down to XGBoost core.  Or some parameters are not used but slip through this\n",
      "  verification. Please open an issue if you find above cases.\n",
      "\n",
      "\n"
     ]
    },
    {
     "output_type": "stream",
     "name": "stderr",
     "text": [
      "/home/hj/.local/share/virtualenvs/Kickstarter-aZ_5KkIK/lib/python3.9/site-packages/xgboost/sklearn.py:1146: UserWarning: The use of label encoder in XGBClassifier is deprecated and will be removed in a future release. To remove this warning, do the following: 1) Pass option use_label_encoder=False when constructing XGBClassifier object; and 2) Encode your labels (y) as integers starting with 0, i.e. 0, 1, 2, ..., [num_class - 1].\n",
      "  warnings.warn(label_encoder_deprecation_msg, UserWarning)\n"
     ]
    },
    {
     "output_type": "stream",
     "name": "stdout",
     "text": [
      "[13:46:43] WARNING: ../src/learner.cc:1095: Starting in XGBoost 1.3.0, the default evaluation metric used with the objective 'binary:logistic' was changed from 'error' to 'logloss'. Explicitly set eval_metric if you'd like to restore the old behavior.\n",
      "[CV 3/3; 10/50] END randomforestclassifier__criterion=gini, randomforestclassifier__n_estimators=238;, score=(train=0.911, test=0.755) total time= 3.0min\n",
      "[13:46:45] WARNING: ../src/learner.cc:1095: Starting in XGBoost 1.3.0, the default evaluation metric used with the objective 'binary:logistic' was changed from 'error' to 'logloss'. Explicitly set eval_metric if you'd like to restore the old behavior.\n",
      "[CV 2/3; 13/50] START randomforestclassifier__criterion=gini, randomforestclassifier__n_estimators=181\n",
      "[CV 1/3; 11/50] END randomforestclassifier__criterion=gini, randomforestclassifier__n_estimators=168;, score=(train=0.912, test=0.757) total time= 2.9min\n",
      "[13:46:46] WARNING: ../src/learner.cc:573: \n",
      "Parameters: { \"label_encoder\", \"randomforestclassifier__criterion\", \"randomforestclassifier__n_estimators\" } might not be used.\n",
      "\n",
      "  This may not be accurate due to some parameters are only used in language bindings but\n",
      "  passed down to XGBoost core.  Or some parameters are not used but slip through this\n",
      "  verification. Please open an issue if you find above cases.\n",
      "\n",
      "\n"
     ]
    },
    {
     "output_type": "stream",
     "name": "stderr",
     "text": [
      "/home/hj/.local/share/virtualenvs/Kickstarter-aZ_5KkIK/lib/python3.9/site-packages/xgboost/sklearn.py:1146: UserWarning: The use of label encoder in XGBClassifier is deprecated and will be removed in a future release. To remove this warning, do the following: 1) Pass option use_label_encoder=False when constructing XGBClassifier object; and 2) Encode your labels (y) as integers starting with 0, i.e. 0, 1, 2, ..., [num_class - 1].\n",
      "  warnings.warn(label_encoder_deprecation_msg, UserWarning)\n"
     ]
    },
    {
     "output_type": "stream",
     "name": "stdout",
     "text": [
      "[CV 3/3; 13/50] START randomforestclassifier__criterion=gini, randomforestclassifier__n_estimators=181\n"
     ]
    },
    {
     "output_type": "stream",
     "name": "stderr",
     "text": [
      "/home/hj/.local/share/virtualenvs/Kickstarter-aZ_5KkIK/lib/python3.9/site-packages/xgboost/sklearn.py:1146: UserWarning: The use of label encoder in XGBClassifier is deprecated and will be removed in a future release. To remove this warning, do the following: 1) Pass option use_label_encoder=False when constructing XGBClassifier object; and 2) Encode your labels (y) as integers starting with 0, i.e. 0, 1, 2, ..., [num_class - 1].\n",
      "  warnings.warn(label_encoder_deprecation_msg, UserWarning)\n"
     ]
    },
    {
     "output_type": "stream",
     "name": "stdout",
     "text": [
      "[13:46:47] WARNING: ../src/learner.cc:573: \n",
      "Parameters: { \"label_encoder\", \"randomforestclassifier__criterion\", \"randomforestclassifier__n_estimators\" } might not be used.\n",
      "\n",
      "  This may not be accurate due to some parameters are only used in language bindings but\n",
      "  passed down to XGBoost core.  Or some parameters are not used but slip through this\n",
      "  verification. Please open an issue if you find above cases.\n",
      "\n",
      "\n",
      "[13:46:49] WARNING: ../src/learner.cc:1095: Starting in XGBoost 1.3.0, the default evaluation metric used with the objective 'binary:logistic' was changed from 'error' to 'logloss'. Explicitly set eval_metric if you'd like to restore the old behavior.\n",
      "[13:46:51] WARNING: ../src/learner.cc:1095: Starting in XGBoost 1.3.0, the default evaluation metric used with the objective 'binary:logistic' was changed from 'error' to 'logloss'. Explicitly set eval_metric if you'd like to restore the old behavior.\n",
      "[CV 2/3; 11/50] END randomforestclassifier__criterion=gini, randomforestclassifier__n_estimators=168;, score=(train=0.912, test=0.759) total time= 3.1min\n",
      "[CV 1/3; 14/50] START randomforestclassifier__criterion=gini, randomforestclassifier__n_estimators=257\n",
      "[13:46:57] WARNING: ../src/learner.cc:573: \n",
      "Parameters: { \"label_encoder\", \"randomforestclassifier__criterion\", \"randomforestclassifier__n_estimators\" } might not be used.\n",
      "\n",
      "  This may not be accurate due to some parameters are only used in language bindings but\n",
      "  passed down to XGBoost core.  Or some parameters are not used but slip through this\n",
      "  verification. Please open an issue if you find above cases.\n",
      "\n",
      "\n"
     ]
    },
    {
     "output_type": "stream",
     "name": "stderr",
     "text": [
      "/home/hj/.local/share/virtualenvs/Kickstarter-aZ_5KkIK/lib/python3.9/site-packages/xgboost/sklearn.py:1146: UserWarning: The use of label encoder in XGBClassifier is deprecated and will be removed in a future release. To remove this warning, do the following: 1) Pass option use_label_encoder=False when constructing XGBClassifier object; and 2) Encode your labels (y) as integers starting with 0, i.e. 0, 1, 2, ..., [num_class - 1].\n",
      "  warnings.warn(label_encoder_deprecation_msg, UserWarning)\n"
     ]
    },
    {
     "output_type": "stream",
     "name": "stdout",
     "text": [
      "[13:47:01] WARNING: ../src/learner.cc:1095: Starting in XGBoost 1.3.0, the default evaluation metric used with the objective 'binary:logistic' was changed from 'error' to 'logloss'. Explicitly set eval_metric if you'd like to restore the old behavior.\n",
      "[CV 3/3; 11/50] END randomforestclassifier__criterion=gini, randomforestclassifier__n_estimators=168;, score=(train=0.911, test=0.755) total time= 3.2min\n",
      "[CV 2/3; 14/50] START randomforestclassifier__criterion=gini, randomforestclassifier__n_estimators=257\n"
     ]
    },
    {
     "output_type": "stream",
     "name": "stderr",
     "text": [
      "/home/hj/.local/share/virtualenvs/Kickstarter-aZ_5KkIK/lib/python3.9/site-packages/xgboost/sklearn.py:1146: UserWarning: The use of label encoder in XGBClassifier is deprecated and will be removed in a future release. To remove this warning, do the following: 1) Pass option use_label_encoder=False when constructing XGBClassifier object; and 2) Encode your labels (y) as integers starting with 0, i.e. 0, 1, 2, ..., [num_class - 1].\n",
      "  warnings.warn(label_encoder_deprecation_msg, UserWarning)\n"
     ]
    },
    {
     "output_type": "stream",
     "name": "stdout",
     "text": [
      "[13:49:32] WARNING: ../src/learner.cc:573: \n",
      "Parameters: { \"label_encoder\", \"randomforestclassifier__criterion\", \"randomforestclassifier__n_estimators\" } might not be used.\n",
      "\n",
      "  This may not be accurate due to some parameters are only used in language bindings but\n",
      "  passed down to XGBoost core.  Or some parameters are not used but slip through this\n",
      "  verification. Please open an issue if you find above cases.\n",
      "\n",
      "\n",
      "[13:49:37] WARNING: ../src/learner.cc:1095: Starting in XGBoost 1.3.0, the default evaluation metric used with the objective 'binary:logistic' was changed from 'error' to 'logloss'. Explicitly set eval_metric if you'd like to restore the old behavior.\n",
      "[CV 2/3; 12/50] END randomforestclassifier__criterion=entropy, randomforestclassifier__n_estimators=44;, score=(train=0.912, test=0.759) total time= 3.0min\n"
     ]
    },
    {
     "output_type": "stream",
     "name": "stderr",
     "text": [
      "/home/hj/.local/share/virtualenvs/Kickstarter-aZ_5KkIK/lib/python3.9/site-packages/xgboost/sklearn.py:1146: UserWarning: The use of label encoder in XGBClassifier is deprecated and will be removed in a future release. To remove this warning, do the following: 1) Pass option use_label_encoder=False when constructing XGBClassifier object; and 2) Encode your labels (y) as integers starting with 0, i.e. 0, 1, 2, ..., [num_class - 1].\n",
      "  warnings.warn(label_encoder_deprecation_msg, UserWarning)\n"
     ]
    },
    {
     "output_type": "stream",
     "name": "stdout",
     "text": [
      "[CV 3/3; 14/50] START randomforestclassifier__criterion=gini, randomforestclassifier__n_estimators=257\n",
      "[13:49:39] WARNING: ../src/learner.cc:573: \n",
      "Parameters: { \"label_encoder\", \"randomforestclassifier__criterion\", \"randomforestclassifier__n_estimators\" } might not be used.\n",
      "\n",
      "  This may not be accurate due to some parameters are only used in language bindings but\n",
      "  passed down to XGBoost core.  Or some parameters are not used but slip through this\n",
      "  verification. Please open an issue if you find above cases.\n",
      "\n",
      "\n",
      "[CV 1/3; 12/50] END randomforestclassifier__criterion=entropy, randomforestclassifier__n_estimators=44;, score=(train=0.912, test=0.757) total time= 3.2min\n",
      "[CV 1/3; 15/50] START randomforestclassifier__criterion=gini, randomforestclassifier__n_estimators=97\n"
     ]
    },
    {
     "output_type": "stream",
     "name": "stderr",
     "text": [
      "/home/hj/.local/share/virtualenvs/Kickstarter-aZ_5KkIK/lib/python3.9/site-packages/xgboost/sklearn.py:1146: UserWarning: The use of label encoder in XGBClassifier is deprecated and will be removed in a future release. To remove this warning, do the following: 1) Pass option use_label_encoder=False when constructing XGBClassifier object; and 2) Encode your labels (y) as integers starting with 0, i.e. 0, 1, 2, ..., [num_class - 1].\n",
      "  warnings.warn(label_encoder_deprecation_msg, UserWarning)\n"
     ]
    },
    {
     "output_type": "stream",
     "name": "stdout",
     "text": [
      "[13:49:41] WARNING: ../src/learner.cc:573: \n",
      "Parameters: { \"label_encoder\", \"randomforestclassifier__criterion\", \"randomforestclassifier__n_estimators\" } might not be used.\n",
      "\n",
      "  This may not be accurate due to some parameters are only used in language bindings but\n",
      "  passed down to XGBoost core.  Or some parameters are not used but slip through this\n",
      "  verification. Please open an issue if you find above cases.\n",
      "\n",
      "\n",
      "[13:49:43] WARNING: ../src/learner.cc:1095: Starting in XGBoost 1.3.0, the default evaluation metric used with the objective 'binary:logistic' was changed from 'error' to 'logloss'. Explicitly set eval_metric if you'd like to restore the old behavior.\n",
      "[13:49:45] WARNING: ../src/learner.cc:1095: Starting in XGBoost 1.3.0, the default evaluation metric used with the objective 'binary:logistic' was changed from 'error' to 'logloss'. Explicitly set eval_metric if you'd like to restore the old behavior.\n",
      "[CV 1/3; 13/50] END randomforestclassifier__criterion=gini, randomforestclassifier__n_estimators=181;, score=(train=0.912, test=0.757) total time= 3.1min\n",
      "[CV 2/3; 15/50] START randomforestclassifier__criterion=gini, randomforestclassifier__n_estimators=97\n"
     ]
    },
    {
     "output_type": "stream",
     "name": "stderr",
     "text": [
      "/home/hj/.local/share/virtualenvs/Kickstarter-aZ_5KkIK/lib/python3.9/site-packages/xgboost/sklearn.py:1146: UserWarning: The use of label encoder in XGBClassifier is deprecated and will be removed in a future release. To remove this warning, do the following: 1) Pass option use_label_encoder=False when constructing XGBClassifier object; and 2) Encode your labels (y) as integers starting with 0, i.e. 0, 1, 2, ..., [num_class - 1].\n",
      "  warnings.warn(label_encoder_deprecation_msg, UserWarning)\n"
     ]
    },
    {
     "output_type": "stream",
     "name": "stdout",
     "text": [
      "[13:49:48] WARNING: ../src/learner.cc:573: \n",
      "Parameters: { \"label_encoder\", \"randomforestclassifier__criterion\", \"randomforestclassifier__n_estimators\" } might not be used.\n",
      "\n",
      "  This may not be accurate due to some parameters are only used in language bindings but\n",
      "  passed down to XGBoost core.  Or some parameters are not used but slip through this\n",
      "  verification. Please open an issue if you find above cases.\n",
      "\n",
      "\n",
      "[CV 3/3; 12/50] END randomforestclassifier__criterion=entropy, randomforestclassifier__n_estimators=44;, score=(train=0.911, test=0.755) total time= 3.1min\n",
      "[CV 2/3; 13/50] END randomforestclassifier__criterion=gini, randomforestclassifier__n_estimators=181;, score=(train=0.912, test=0.759) total time= 3.0min\n",
      "[CV 3/3; 15/50] START randomforestclassifier__criterion=gini, randomforestclassifier__n_estimators=97\n",
      "[13:49:50] WARNING: ../src/learner.cc:573: \n",
      "Parameters: { \"label_encoder\", \"randomforestclassifier__criterion\", \"randomforestclassifier__n_estimators\" } might not be used.\n",
      "\n",
      "  This may not be accurate due to some parameters are only used in language bindings but\n",
      "  passed down to XGBoost core.  Or some parameters are not used but slip through this\n",
      "  verification. Please open an issue if you find above cases.\n",
      "\n",
      "\n"
     ]
    },
    {
     "output_type": "stream",
     "name": "stderr",
     "text": [
      "/home/hj/.local/share/virtualenvs/Kickstarter-aZ_5KkIK/lib/python3.9/site-packages/xgboost/sklearn.py:1146: UserWarning: The use of label encoder in XGBClassifier is deprecated and will be removed in a future release. To remove this warning, do the following: 1) Pass option use_label_encoder=False when constructing XGBClassifier object; and 2) Encode your labels (y) as integers starting with 0, i.e. 0, 1, 2, ..., [num_class - 1].\n",
      "  warnings.warn(label_encoder_deprecation_msg, UserWarning)\n"
     ]
    },
    {
     "output_type": "stream",
     "name": "stdout",
     "text": [
      "[CV 1/3; 16/50] START randomforestclassifier__criterion=gini, randomforestclassifier__n_estimators=100\n"
     ]
    },
    {
     "output_type": "stream",
     "name": "stderr",
     "text": [
      "/home/hj/.local/share/virtualenvs/Kickstarter-aZ_5KkIK/lib/python3.9/site-packages/xgboost/sklearn.py:1146: UserWarning: The use of label encoder in XGBClassifier is deprecated and will be removed in a future release. To remove this warning, do the following: 1) Pass option use_label_encoder=False when constructing XGBClassifier object; and 2) Encode your labels (y) as integers starting with 0, i.e. 0, 1, 2, ..., [num_class - 1].\n",
      "  warnings.warn(label_encoder_deprecation_msg, UserWarning)\n"
     ]
    },
    {
     "output_type": "stream",
     "name": "stdout",
     "text": [
      "[13:49:52] WARNING: ../src/learner.cc:573: \n",
      "Parameters: { \"label_encoder\", \"randomforestclassifier__criterion\", \"randomforestclassifier__n_estimators\" } might not be used.\n",
      "\n",
      "  This may not be accurate due to some parameters are only used in language bindings but\n",
      "  passed down to XGBoost core.  Or some parameters are not used but slip through this\n",
      "  verification. Please open an issue if you find above cases.\n",
      "\n",
      "\n",
      "[13:49:52] WARNING: ../src/learner.cc:1095: Starting in XGBoost 1.3.0, the default evaluation metric used with the objective 'binary:logistic' was changed from 'error' to 'logloss'. Explicitly set eval_metric if you'd like to restore the old behavior.\n",
      "[13:49:54] WARNING: ../src/learner.cc:1095: Starting in XGBoost 1.3.0, the default evaluation metric used with the objective 'binary:logistic' was changed from 'error' to 'logloss'. Explicitly set eval_metric if you'd like to restore the old behavior.\n",
      "[13:49:56] WARNING: ../src/learner.cc:1095: Starting in XGBoost 1.3.0, the default evaluation metric used with the objective 'binary:logistic' was changed from 'error' to 'logloss'. Explicitly set eval_metric if you'd like to restore the old behavior.\n",
      "[CV 3/3; 13/50] END randomforestclassifier__criterion=gini, randomforestclassifier__n_estimators=181;, score=(train=0.911, test=0.755) total time= 3.2min\n"
     ]
    },
    {
     "output_type": "stream",
     "name": "stderr",
     "text": [
      "/home/hj/.local/share/virtualenvs/Kickstarter-aZ_5KkIK/lib/python3.9/site-packages/xgboost/sklearn.py:1146: UserWarning: The use of label encoder in XGBClassifier is deprecated and will be removed in a future release. To remove this warning, do the following: 1) Pass option use_label_encoder=False when constructing XGBClassifier object; and 2) Encode your labels (y) as integers starting with 0, i.e. 0, 1, 2, ..., [num_class - 1].\n",
      "  warnings.warn(label_encoder_deprecation_msg, UserWarning)\n"
     ]
    },
    {
     "output_type": "stream",
     "name": "stdout",
     "text": [
      "[CV 2/3; 16/50] START randomforestclassifier__criterion=gini, randomforestclassifier__n_estimators=100\n",
      "[13:49:59] WARNING: ../src/learner.cc:573: \n",
      "Parameters: { \"label_encoder\", \"randomforestclassifier__criterion\", \"randomforestclassifier__n_estimators\" } might not be used.\n",
      "\n",
      "  This may not be accurate due to some parameters are only used in language bindings but\n",
      "  passed down to XGBoost core.  Or some parameters are not used but slip through this\n",
      "  verification. Please open an issue if you find above cases.\n",
      "\n",
      "\n",
      "[13:50:03] WARNING: ../src/learner.cc:1095: Starting in XGBoost 1.3.0, the default evaluation metric used with the objective 'binary:logistic' was changed from 'error' to 'logloss'. Explicitly set eval_metric if you'd like to restore the old behavior.\n",
      "[CV 1/3; 14/50] END randomforestclassifier__criterion=gini, randomforestclassifier__n_estimators=257;, score=(train=0.912, test=0.757) total time= 3.2min\n",
      "[CV 3/3; 16/50] START randomforestclassifier__criterion=gini, randomforestclassifier__n_estimators=100\n",
      "[13:50:10] WARNING: ../src/learner.cc:573: \n",
      "Parameters: { \"label_encoder\", \"randomforestclassifier__criterion\", \"randomforestclassifier__n_estimators\" } might not be used.\n",
      "\n",
      "  This may not be accurate due to some parameters are only used in language bindings but\n",
      "  passed down to XGBoost core.  Or some parameters are not used but slip through this\n",
      "  verification. Please open an issue if you find above cases.\n",
      "\n",
      "\n"
     ]
    },
    {
     "output_type": "stream",
     "name": "stderr",
     "text": [
      "/home/hj/.local/share/virtualenvs/Kickstarter-aZ_5KkIK/lib/python3.9/site-packages/xgboost/sklearn.py:1146: UserWarning: The use of label encoder in XGBClassifier is deprecated and will be removed in a future release. To remove this warning, do the following: 1) Pass option use_label_encoder=False when constructing XGBClassifier object; and 2) Encode your labels (y) as integers starting with 0, i.e. 0, 1, 2, ..., [num_class - 1].\n",
      "  warnings.warn(label_encoder_deprecation_msg, UserWarning)\n"
     ]
    },
    {
     "output_type": "stream",
     "name": "stdout",
     "text": [
      "[13:50:16] WARNING: ../src/learner.cc:1095: Starting in XGBoost 1.3.0, the default evaluation metric used with the objective 'binary:logistic' was changed from 'error' to 'logloss'. Explicitly set eval_metric if you'd like to restore the old behavior.\n",
      "[CV 2/3; 14/50] END randomforestclassifier__criterion=gini, randomforestclassifier__n_estimators=257;, score=(train=0.912, test=0.759) total time= 3.3min\n"
     ]
    },
    {
     "output_type": "stream",
     "name": "stderr",
     "text": [
      "/home/hj/.local/share/virtualenvs/Kickstarter-aZ_5KkIK/lib/python3.9/site-packages/xgboost/sklearn.py:1146: UserWarning: The use of label encoder in XGBClassifier is deprecated and will be removed in a future release. To remove this warning, do the following: 1) Pass option use_label_encoder=False when constructing XGBClassifier object; and 2) Encode your labels (y) as integers starting with 0, i.e. 0, 1, 2, ..., [num_class - 1].\n",
      "  warnings.warn(label_encoder_deprecation_msg, UserWarning)\n"
     ]
    },
    {
     "output_type": "stream",
     "name": "stdout",
     "text": [
      "[CV 1/3; 17/50] START randomforestclassifier__criterion=gini, randomforestclassifier__n_estimators=185\n",
      "[13:52:51] WARNING: ../src/learner.cc:573: \n",
      "Parameters: { \"label_encoder\", \"randomforestclassifier__criterion\", \"randomforestclassifier__n_estimators\" } might not be used.\n",
      "\n",
      "  This may not be accurate due to some parameters are only used in language bindings but\n",
      "  passed down to XGBoost core.  Or some parameters are not used but slip through this\n",
      "  verification. Please open an issue if you find above cases.\n",
      "\n",
      "\n",
      "[13:52:56] WARNING: ../src/learner.cc:1095: Starting in XGBoost 1.3.0, the default evaluation metric used with the objective 'binary:logistic' was changed from 'error' to 'logloss'. Explicitly set eval_metric if you'd like to restore the old behavior.\n",
      "[CV 3/3; 14/50] END randomforestclassifier__criterion=gini, randomforestclassifier__n_estimators=257;, score=(train=0.911, test=0.755) total time= 3.4min\n"
     ]
    },
    {
     "output_type": "stream",
     "name": "stderr",
     "text": [
      "/home/hj/.local/share/virtualenvs/Kickstarter-aZ_5KkIK/lib/python3.9/site-packages/xgboost/sklearn.py:1146: UserWarning: The use of label encoder in XGBClassifier is deprecated and will be removed in a future release. To remove this warning, do the following: 1) Pass option use_label_encoder=False when constructing XGBClassifier object; and 2) Encode your labels (y) as integers starting with 0, i.e. 0, 1, 2, ..., [num_class - 1].\n",
      "  warnings.warn(label_encoder_deprecation_msg, UserWarning)\n"
     ]
    },
    {
     "output_type": "stream",
     "name": "stdout",
     "text": [
      "[CV 1/3; 15/50] END randomforestclassifier__criterion=gini, randomforestclassifier__n_estimators=97;, score=(train=0.912, test=0.757) total time= 3.4min\n",
      "[CV 2/3; 17/50] START randomforestclassifier__criterion=gini, randomforestclassifier__n_estimators=185\n",
      "[13:53:05] WARNING: ../src/learner.cc:573: \n",
      "Parameters: { \"label_encoder\", \"randomforestclassifier__criterion\", \"randomforestclassifier__n_estimators\" } might not be used.\n",
      "\n",
      "  This may not be accurate due to some parameters are only used in language bindings but\n",
      "  passed down to XGBoost core.  Or some parameters are not used but slip through this\n",
      "  verification. Please open an issue if you find above cases.\n",
      "\n",
      "\n",
      "[CV 3/3; 17/50] START randomforestclassifier__criterion=gini, randomforestclassifier__n_estimators=185\n"
     ]
    },
    {
     "output_type": "stream",
     "name": "stderr",
     "text": [
      "/home/hj/.local/share/virtualenvs/Kickstarter-aZ_5KkIK/lib/python3.9/site-packages/xgboost/sklearn.py:1146: UserWarning: The use of label encoder in XGBClassifier is deprecated and will be removed in a future release. To remove this warning, do the following: 1) Pass option use_label_encoder=False when constructing XGBClassifier object; and 2) Encode your labels (y) as integers starting with 0, i.e. 0, 1, 2, ..., [num_class - 1].\n",
      "  warnings.warn(label_encoder_deprecation_msg, UserWarning)\n"
     ]
    },
    {
     "output_type": "stream",
     "name": "stdout",
     "text": [
      "[13:53:07] WARNING: ../src/learner.cc:573: \n",
      "Parameters: { \"label_encoder\", \"randomforestclassifier__criterion\", \"randomforestclassifier__n_estimators\" } might not be used.\n",
      "\n",
      "  This may not be accurate due to some parameters are only used in language bindings but\n",
      "  passed down to XGBoost core.  Or some parameters are not used but slip through this\n",
      "  verification. Please open an issue if you find above cases.\n",
      "\n",
      "\n",
      "[13:53:09] WARNING: ../src/learner.cc:1095: Starting in XGBoost 1.3.0, the default evaluation metric used with the objective 'binary:logistic' was changed from 'error' to 'logloss'. Explicitly set eval_metric if you'd like to restore the old behavior.\n",
      "[13:53:11] WARNING: ../src/learner.cc:1095: Starting in XGBoost 1.3.0, the default evaluation metric used with the objective 'binary:logistic' was changed from 'error' to 'logloss'. Explicitly set eval_metric if you'd like to restore the old behavior.\n",
      "[CV 3/3; 15/50] END randomforestclassifier__criterion=gini, randomforestclassifier__n_estimators=97;, score=(train=0.911, test=0.755) total time= 3.4min\n",
      "[CV 1/3; 18/50] START randomforestclassifier__criterion=gini, randomforestclassifier__n_estimators=120\n",
      "[13:53:14] WARNING: ../src/learner.cc:573: \n",
      "Parameters: { \"label_encoder\", \"randomforestclassifier__criterion\", \"randomforestclassifier__n_estimators\" } might not be used.\n",
      "\n",
      "  This may not be accurate due to some parameters are only used in language bindings but\n",
      "  passed down to XGBoost core.  Or some parameters are not used but slip through this\n",
      "  verification. Please open an issue if you find above cases.\n",
      "\n",
      "\n"
     ]
    },
    {
     "output_type": "stream",
     "name": "stderr",
     "text": [
      "/home/hj/.local/share/virtualenvs/Kickstarter-aZ_5KkIK/lib/python3.9/site-packages/xgboost/sklearn.py:1146: UserWarning: The use of label encoder in XGBClassifier is deprecated and will be removed in a future release. To remove this warning, do the following: 1) Pass option use_label_encoder=False when constructing XGBClassifier object; and 2) Encode your labels (y) as integers starting with 0, i.e. 0, 1, 2, ..., [num_class - 1].\n",
      "  warnings.warn(label_encoder_deprecation_msg, UserWarning)\n"
     ]
    },
    {
     "output_type": "stream",
     "name": "stdout",
     "text": [
      "[CV 2/3; 15/50] END randomforestclassifier__criterion=gini, randomforestclassifier__n_estimators=97;, score=(train=0.912, test=0.759) total time= 3.5min\n",
      "[13:53:18] WARNING: ../src/learner.cc:1095: Starting in XGBoost 1.3.0, the default evaluation metric used with the objective 'binary:logistic' was changed from 'error' to 'logloss'. Explicitly set eval_metric if you'd like to restore the old behavior.\n",
      "[CV 2/3; 18/50] START randomforestclassifier__criterion=gini, randomforestclassifier__n_estimators=120\n",
      "[13:53:18] WARNING: ../src/learner.cc:573: \n",
      "Parameters: { \"label_encoder\", \"randomforestclassifier__criterion\", \"randomforestclassifier__n_estimators\" } might not be used.\n",
      "\n",
      "  This may not be accurate due to some parameters are only used in language bindings but\n",
      "  passed down to XGBoost core.  Or some parameters are not used but slip through this\n",
      "  verification. Please open an issue if you find above cases.\n",
      "\n",
      "\n"
     ]
    },
    {
     "output_type": "stream",
     "name": "stderr",
     "text": [
      "/home/hj/.local/share/virtualenvs/Kickstarter-aZ_5KkIK/lib/python3.9/site-packages/xgboost/sklearn.py:1146: UserWarning: The use of label encoder in XGBClassifier is deprecated and will be removed in a future release. To remove this warning, do the following: 1) Pass option use_label_encoder=False when constructing XGBClassifier object; and 2) Encode your labels (y) as integers starting with 0, i.e. 0, 1, 2, ..., [num_class - 1].\n",
      "  warnings.warn(label_encoder_deprecation_msg, UserWarning)\n"
     ]
    },
    {
     "output_type": "stream",
     "name": "stdout",
     "text": [
      "[CV 1/3; 16/50] END randomforestclassifier__criterion=gini, randomforestclassifier__n_estimators=100;, score=(train=0.912, test=0.757) total time= 3.4min\n",
      "[CV 3/3; 18/50] START randomforestclassifier__criterion=gini, randomforestclassifier__n_estimators=120\n"
     ]
    },
    {
     "output_type": "stream",
     "name": "stderr",
     "text": [
      "/home/hj/.local/share/virtualenvs/Kickstarter-aZ_5KkIK/lib/python3.9/site-packages/xgboost/sklearn.py:1146: UserWarning: The use of label encoder in XGBClassifier is deprecated and will be removed in a future release. To remove this warning, do the following: 1) Pass option use_label_encoder=False when constructing XGBClassifier object; and 2) Encode your labels (y) as integers starting with 0, i.e. 0, 1, 2, ..., [num_class - 1].\n",
      "  warnings.warn(label_encoder_deprecation_msg, UserWarning)\n"
     ]
    },
    {
     "output_type": "stream",
     "name": "stdout",
     "text": [
      "[13:53:21] WARNING: ../src/learner.cc:573: \n",
      "Parameters: { \"label_encoder\", \"randomforestclassifier__criterion\", \"randomforestclassifier__n_estimators\" } might not be used.\n",
      "\n",
      "  This may not be accurate due to some parameters are only used in language bindings but\n",
      "  passed down to XGBoost core.  Or some parameters are not used but slip through this\n",
      "  verification. Please open an issue if you find above cases.\n",
      "\n",
      "\n",
      "[CV 2/3; 16/50] END randomforestclassifier__criterion=gini, randomforestclassifier__n_estimators=100;, score=(train=0.912, test=0.759) total time= 3.4min\n",
      "[CV 1/3; 19/50] START randomforestclassifier__criterion=entropy, randomforestclassifier__n_estimators=123\n"
     ]
    },
    {
     "output_type": "stream",
     "name": "stderr",
     "text": [
      "/home/hj/.local/share/virtualenvs/Kickstarter-aZ_5KkIK/lib/python3.9/site-packages/xgboost/sklearn.py:1146: UserWarning: The use of label encoder in XGBClassifier is deprecated and will be removed in a future release. To remove this warning, do the following: 1) Pass option use_label_encoder=False when constructing XGBClassifier object; and 2) Encode your labels (y) as integers starting with 0, i.e. 0, 1, 2, ..., [num_class - 1].\n",
      "  warnings.warn(label_encoder_deprecation_msg, UserWarning)\n"
     ]
    },
    {
     "output_type": "stream",
     "name": "stdout",
     "text": [
      "[13:53:24] WARNING: ../src/learner.cc:1095: Starting in XGBoost 1.3.0, the default evaluation metric used with the objective 'binary:logistic' was changed from 'error' to 'logloss'. Explicitly set eval_metric if you'd like to restore the old behavior.\n",
      "[13:53:24] WARNING: ../src/learner.cc:573: \n",
      "Parameters: { \"label_encoder\", \"randomforestclassifier__criterion\", \"randomforestclassifier__n_estimators\" } might not be used.\n",
      "\n",
      "  This may not be accurate due to some parameters are only used in language bindings but\n",
      "  passed down to XGBoost core.  Or some parameters are not used but slip through this\n",
      "  verification. Please open an issue if you find above cases.\n",
      "\n",
      "\n",
      "[13:53:25] WARNING: ../src/learner.cc:1095: Starting in XGBoost 1.3.0, the default evaluation metric used with the objective 'binary:logistic' was changed from 'error' to 'logloss'. Explicitly set eval_metric if you'd like to restore the old behavior.\n",
      "[13:53:28] WARNING: ../src/learner.cc:1095: Starting in XGBoost 1.3.0, the default evaluation metric used with the objective 'binary:logistic' was changed from 'error' to 'logloss'. Explicitly set eval_metric if you'd like to restore the old behavior.\n",
      "[CV 3/3; 16/50] END randomforestclassifier__criterion=gini, randomforestclassifier__n_estimators=100;, score=(train=0.911, test=0.755) total time= 3.5min\n",
      "[CV 2/3; 19/50] START randomforestclassifier__criterion=entropy, randomforestclassifier__n_estimators=123\n",
      "[13:53:42] WARNING: ../src/learner.cc:573: \n",
      "Parameters: { \"label_encoder\", \"randomforestclassifier__criterion\", \"randomforestclassifier__n_estimators\" } might not be used.\n",
      "\n",
      "  This may not be accurate due to some parameters are only used in language bindings but\n",
      "  passed down to XGBoost core.  Or some parameters are not used but slip through this\n",
      "  verification. Please open an issue if you find above cases.\n",
      "\n",
      "\n"
     ]
    },
    {
     "output_type": "stream",
     "name": "stderr",
     "text": [
      "/home/hj/.local/share/virtualenvs/Kickstarter-aZ_5KkIK/lib/python3.9/site-packages/xgboost/sklearn.py:1146: UserWarning: The use of label encoder in XGBClassifier is deprecated and will be removed in a future release. To remove this warning, do the following: 1) Pass option use_label_encoder=False when constructing XGBClassifier object; and 2) Encode your labels (y) as integers starting with 0, i.e. 0, 1, 2, ..., [num_class - 1].\n",
      "  warnings.warn(label_encoder_deprecation_msg, UserWarning)\n"
     ]
    },
    {
     "output_type": "stream",
     "name": "stdout",
     "text": [
      "[13:53:46] WARNING: ../src/learner.cc:1095: Starting in XGBoost 1.3.0, the default evaluation metric used with the objective 'binary:logistic' was changed from 'error' to 'logloss'. Explicitly set eval_metric if you'd like to restore the old behavior.\n",
      "[CV 1/3; 17/50] END randomforestclassifier__criterion=gini, randomforestclassifier__n_estimators=185;, score=(train=0.912, test=0.757) total time= 3.4min\n",
      "[CV 3/3; 19/50] START randomforestclassifier__criterion=entropy, randomforestclassifier__n_estimators=123\n",
      "[13:56:19] WARNING: ../src/learner.cc:573: \n",
      "Parameters: { \"label_encoder\", \"randomforestclassifier__criterion\", \"randomforestclassifier__n_estimators\" } might not be used.\n",
      "\n",
      "  This may not be accurate due to some parameters are only used in language bindings but\n",
      "  passed down to XGBoost core.  Or some parameters are not used but slip through this\n",
      "  verification. Please open an issue if you find above cases.\n",
      "\n",
      "\n"
     ]
    },
    {
     "output_type": "stream",
     "name": "stderr",
     "text": [
      "/home/hj/.local/share/virtualenvs/Kickstarter-aZ_5KkIK/lib/python3.9/site-packages/xgboost/sklearn.py:1146: UserWarning: The use of label encoder in XGBClassifier is deprecated and will be removed in a future release. To remove this warning, do the following: 1) Pass option use_label_encoder=False when constructing XGBClassifier object; and 2) Encode your labels (y) as integers starting with 0, i.e. 0, 1, 2, ..., [num_class - 1].\n",
      "  warnings.warn(label_encoder_deprecation_msg, UserWarning)\n"
     ]
    },
    {
     "output_type": "stream",
     "name": "stdout",
     "text": [
      "[13:56:25] WARNING: ../src/learner.cc:1095: Starting in XGBoost 1.3.0, the default evaluation metric used with the objective 'binary:logistic' was changed from 'error' to 'logloss'. Explicitly set eval_metric if you'd like to restore the old behavior.\n",
      "[CV 2/3; 17/50] END randomforestclassifier__criterion=gini, randomforestclassifier__n_estimators=185;, score=(train=0.912, test=0.759) total time= 3.5min\n",
      "[CV 1/3; 20/50] START randomforestclassifier__criterion=entropy, randomforestclassifier__n_estimators=4\n",
      "[CV 3/3; 17/50] END randomforestclassifier__criterion=gini, randomforestclassifier__n_estimators=185;, score=(train=0.911, test=0.755) total time= 3.5min\n"
     ]
    },
    {
     "output_type": "stream",
     "name": "stderr",
     "text": [
      "/home/hj/.local/share/virtualenvs/Kickstarter-aZ_5KkIK/lib/python3.9/site-packages/xgboost/sklearn.py:1146: UserWarning: The use of label encoder in XGBClassifier is deprecated and will be removed in a future release. To remove this warning, do the following: 1) Pass option use_label_encoder=False when constructing XGBClassifier object; and 2) Encode your labels (y) as integers starting with 0, i.e. 0, 1, 2, ..., [num_class - 1].\n",
      "  warnings.warn(label_encoder_deprecation_msg, UserWarning)\n"
     ]
    },
    {
     "output_type": "stream",
     "name": "stdout",
     "text": [
      "[13:56:39] WARNING: ../src/learner.cc:573: \n",
      "Parameters: { \"label_encoder\", \"randomforestclassifier__criterion\", \"randomforestclassifier__n_estimators\" } might not be used.\n",
      "\n",
      "  This may not be accurate due to some parameters are only used in language bindings but\n",
      "  passed down to XGBoost core.  Or some parameters are not used but slip through this\n",
      "  verification. Please open an issue if you find above cases.\n",
      "\n",
      "\n",
      "[CV 1/3; 18/50] END randomforestclassifier__criterion=gini, randomforestclassifier__n_estimators=120;, score=(train=0.912, test=0.757) total time= 3.4min\n",
      "[CV 2/3; 20/50] START randomforestclassifier__criterion=entropy, randomforestclassifier__n_estimators=4\n"
     ]
    },
    {
     "output_type": "stream",
     "name": "stderr",
     "text": [
      "/home/hj/.local/share/virtualenvs/Kickstarter-aZ_5KkIK/lib/python3.9/site-packages/xgboost/sklearn.py:1146: UserWarning: The use of label encoder in XGBClassifier is deprecated and will be removed in a future release. To remove this warning, do the following: 1) Pass option use_label_encoder=False when constructing XGBClassifier object; and 2) Encode your labels (y) as integers starting with 0, i.e. 0, 1, 2, ..., [num_class - 1].\n",
      "  warnings.warn(label_encoder_deprecation_msg, UserWarning)\n"
     ]
    },
    {
     "output_type": "stream",
     "name": "stdout",
     "text": [
      "[13:56:42] WARNING: ../src/learner.cc:573: \n",
      "Parameters: { \"label_encoder\", \"randomforestclassifier__criterion\", \"randomforestclassifier__n_estimators\" } might not be used.\n",
      "\n",
      "  This may not be accurate due to some parameters are only used in language bindings but\n",
      "  passed down to XGBoost core.  Or some parameters are not used but slip through this\n",
      "  verification. Please open an issue if you find above cases.\n",
      "\n",
      "\n"
     ]
    },
    {
     "output_type": "stream",
     "name": "stderr",
     "text": [
      "/home/hj/.local/share/virtualenvs/Kickstarter-aZ_5KkIK/lib/python3.9/site-packages/xgboost/sklearn.py:1146: UserWarning: The use of label encoder in XGBClassifier is deprecated and will be removed in a future release. To remove this warning, do the following: 1) Pass option use_label_encoder=False when constructing XGBClassifier object; and 2) Encode your labels (y) as integers starting with 0, i.e. 0, 1, 2, ..., [num_class - 1].\n",
      "  warnings.warn(label_encoder_deprecation_msg, UserWarning)\n"
     ]
    },
    {
     "output_type": "stream",
     "name": "stdout",
     "text": [
      "[CV 3/3; 20/50] START randomforestclassifier__criterion=entropy, randomforestclassifier__n_estimators=4\n",
      "[13:56:45] WARNING: ../src/learner.cc:573: \n",
      "Parameters: { \"label_encoder\", \"randomforestclassifier__criterion\", \"randomforestclassifier__n_estimators\" } might not be used.\n",
      "\n",
      "  This may not be accurate due to some parameters are only used in language bindings but\n",
      "  passed down to XGBoost core.  Or some parameters are not used but slip through this\n",
      "  verification. Please open an issue if you find above cases.\n",
      "\n",
      "\n",
      "[13:56:45] WARNING: ../src/learner.cc:1095: Starting in XGBoost 1.3.0, the default evaluation metric used with the objective 'binary:logistic' was changed from 'error' to 'logloss'. Explicitly set eval_metric if you'd like to restore the old behavior.\n",
      "[13:56:50] WARNING: ../src/learner.cc:1095: Starting in XGBoost 1.3.0, the default evaluation metric used with the objective 'binary:logistic' was changed from 'error' to 'logloss'. Explicitly set eval_metric if you'd like to restore the old behavior.\n",
      "[13:56:54] WARNING: ../src/learner.cc:1095: Starting in XGBoost 1.3.0, the default evaluation metric used with the objective 'binary:logistic' was changed from 'error' to 'logloss'. Explicitly set eval_metric if you'd like to restore the old behavior.\n",
      "[CV 3/3; 18/50] END randomforestclassifier__criterion=gini, randomforestclassifier__n_estimators=120;, score=(train=0.911, test=0.755) total time= 3.7min\n"
     ]
    },
    {
     "output_type": "stream",
     "name": "stderr",
     "text": [
      "/home/hj/.local/share/virtualenvs/Kickstarter-aZ_5KkIK/lib/python3.9/site-packages/xgboost/sklearn.py:1146: UserWarning: The use of label encoder in XGBClassifier is deprecated and will be removed in a future release. To remove this warning, do the following: 1) Pass option use_label_encoder=False when constructing XGBClassifier object; and 2) Encode your labels (y) as integers starting with 0, i.e. 0, 1, 2, ..., [num_class - 1].\n",
      "  warnings.warn(label_encoder_deprecation_msg, UserWarning)\n"
     ]
    },
    {
     "output_type": "stream",
     "name": "stdout",
     "text": [
      "[CV 1/3; 21/50] START randomforestclassifier__criterion=gini, randomforestclassifier__n_estimators=10\n",
      "[CV 2/3; 18/50] END randomforestclassifier__criterion=gini, randomforestclassifier__n_estimators=120;, score=(train=0.912, test=0.759) total time= 3.7min\n",
      "[13:57:04] WARNING: ../src/learner.cc:573: \n",
      "Parameters: { \"label_encoder\", \"randomforestclassifier__criterion\", \"randomforestclassifier__n_estimators\" } might not be used.\n",
      "\n",
      "  This may not be accurate due to some parameters are only used in language bindings but\n",
      "  passed down to XGBoost core.  Or some parameters are not used but slip through this\n",
      "  verification. Please open an issue if you find above cases.\n",
      "\n",
      "\n",
      "[CV 2/3; 21/50] START randomforestclassifier__criterion=gini, randomforestclassifier__n_estimators=10\n",
      "[13:57:08] WARNING: ../src/learner.cc:573: \n",
      "Parameters: { \"label_encoder\", \"randomforestclassifier__criterion\", \"randomforestclassifier__n_estimators\" } might not be used.\n",
      "\n",
      "  This may not be accurate due to some parameters are only used in language bindings but\n",
      "  passed down to XGBoost core.  Or some parameters are not used but slip through this\n",
      "  verification. Please open an issue if you find above cases.\n",
      "\n",
      "\n"
     ]
    },
    {
     "output_type": "stream",
     "name": "stderr",
     "text": [
      "/home/hj/.local/share/virtualenvs/Kickstarter-aZ_5KkIK/lib/python3.9/site-packages/xgboost/sklearn.py:1146: UserWarning: The use of label encoder in XGBClassifier is deprecated and will be removed in a future release. To remove this warning, do the following: 1) Pass option use_label_encoder=False when constructing XGBClassifier object; and 2) Encode your labels (y) as integers starting with 0, i.e. 0, 1, 2, ..., [num_class - 1].\n",
      "  warnings.warn(label_encoder_deprecation_msg, UserWarning)\n"
     ]
    },
    {
     "output_type": "stream",
     "name": "stdout",
     "text": [
      "[CV 1/3; 19/50] END randomforestclassifier__criterion=entropy, randomforestclassifier__n_estimators=123;, score=(train=0.912, test=0.757) total time= 3.7min\n",
      "[13:57:11] WARNING: ../src/learner.cc:1095: Starting in XGBoost 1.3.0, the default evaluation metric used with the objective 'binary:logistic' was changed from 'error' to 'logloss'. Explicitly set eval_metric if you'd like to restore the old behavior.\n",
      "[CV 3/3; 21/50] START randomforestclassifier__criterion=gini, randomforestclassifier__n_estimators=10\n",
      "[13:57:12] WARNING: ../src/learner.cc:573: \n",
      "Parameters: { \"label_encoder\", \"randomforestclassifier__criterion\", \"randomforestclassifier__n_estimators\" } might not be used.\n",
      "\n",
      "  This may not be accurate due to some parameters are only used in language bindings but\n",
      "  passed down to XGBoost core.  Or some parameters are not used but slip through this\n",
      "  verification. Please open an issue if you find above cases.\n",
      "\n",
      "\n"
     ]
    },
    {
     "output_type": "stream",
     "name": "stderr",
     "text": [
      "/home/hj/.local/share/virtualenvs/Kickstarter-aZ_5KkIK/lib/python3.9/site-packages/xgboost/sklearn.py:1146: UserWarning: The use of label encoder in XGBClassifier is deprecated and will be removed in a future release. To remove this warning, do the following: 1) Pass option use_label_encoder=False when constructing XGBClassifier object; and 2) Encode your labels (y) as integers starting with 0, i.e. 0, 1, 2, ..., [num_class - 1].\n",
      "  warnings.warn(label_encoder_deprecation_msg, UserWarning)\n"
     ]
    },
    {
     "output_type": "stream",
     "name": "stdout",
     "text": [
      "[13:57:15] WARNING: ../src/learner.cc:1095: Starting in XGBoost 1.3.0, the default evaluation metric used with the objective 'binary:logistic' was changed from 'error' to 'logloss'. Explicitly set eval_metric if you'd like to restore the old behavior.\n",
      "[13:57:20] WARNING: ../src/learner.cc:1095: Starting in XGBoost 1.3.0, the default evaluation metric used with the objective 'binary:logistic' was changed from 'error' to 'logloss'. Explicitly set eval_metric if you'd like to restore the old behavior.\n",
      "[CV 2/3; 19/50] END randomforestclassifier__criterion=entropy, randomforestclassifier__n_estimators=123;, score=(train=0.912, test=0.759) total time= 3.9min\n",
      "[CV 1/3; 22/50] START randomforestclassifier__criterion=entropy, randomforestclassifier__n_estimators=5\n",
      "[13:57:39] WARNING: ../src/learner.cc:573: \n",
      "Parameters: { \"label_encoder\", \"randomforestclassifier__criterion\", \"randomforestclassifier__n_estimators\" } might not be used.\n",
      "\n",
      "  This may not be accurate due to some parameters are only used in language bindings but\n",
      "  passed down to XGBoost core.  Or some parameters are not used but slip through this\n",
      "  verification. Please open an issue if you find above cases.\n",
      "\n",
      "\n"
     ]
    },
    {
     "output_type": "stream",
     "name": "stderr",
     "text": [
      "/home/hj/.local/share/virtualenvs/Kickstarter-aZ_5KkIK/lib/python3.9/site-packages/xgboost/sklearn.py:1146: UserWarning: The use of label encoder in XGBClassifier is deprecated and will be removed in a future release. To remove this warning, do the following: 1) Pass option use_label_encoder=False when constructing XGBClassifier object; and 2) Encode your labels (y) as integers starting with 0, i.e. 0, 1, 2, ..., [num_class - 1].\n",
      "  warnings.warn(label_encoder_deprecation_msg, UserWarning)\n"
     ]
    },
    {
     "output_type": "stream",
     "name": "stdout",
     "text": [
      "[13:57:45] WARNING: ../src/learner.cc:1095: Starting in XGBoost 1.3.0, the default evaluation metric used with the objective 'binary:logistic' was changed from 'error' to 'logloss'. Explicitly set eval_metric if you'd like to restore the old behavior.\n",
      "[CV 3/3; 19/50] END randomforestclassifier__criterion=entropy, randomforestclassifier__n_estimators=123;, score=(train=0.911, test=0.755) total time= 4.1min\n",
      "[CV 1/3; 20/50] END randomforestclassifier__criterion=entropy, randomforestclassifier__n_estimators=4;, score=(train=0.912, test=0.757) total time= 3.8min\n"
     ]
    },
    {
     "output_type": "stream",
     "name": "stderr",
     "text": [
      "/home/hj/.local/share/virtualenvs/Kickstarter-aZ_5KkIK/lib/python3.9/site-packages/xgboost/sklearn.py:1146: UserWarning: The use of label encoder in XGBClassifier is deprecated and will be removed in a future release. To remove this warning, do the following: 1) Pass option use_label_encoder=False when constructing XGBClassifier object; and 2) Encode your labels (y) as integers starting with 0, i.e. 0, 1, 2, ..., [num_class - 1].\n",
      "  warnings.warn(label_encoder_deprecation_msg, UserWarning)\n"
     ]
    },
    {
     "output_type": "stream",
     "name": "stdout",
     "text": [
      "[CV 2/3; 22/50] START randomforestclassifier__criterion=entropy, randomforestclassifier__n_estimators=5\n",
      "[14:00:28] WARNING: ../src/learner.cc:573: \n",
      "Parameters: { \"label_encoder\", \"randomforestclassifier__criterion\", \"randomforestclassifier__n_estimators\" } might not be used.\n",
      "\n",
      "  This may not be accurate due to some parameters are only used in language bindings but\n",
      "  passed down to XGBoost core.  Or some parameters are not used but slip through this\n",
      "  verification. Please open an issue if you find above cases.\n",
      "\n",
      "\n",
      "[CV 3/3; 22/50] START randomforestclassifier__criterion=entropy, randomforestclassifier__n_estimators=5\n"
     ]
    },
    {
     "output_type": "stream",
     "name": "stderr",
     "text": [
      "/home/hj/.local/share/virtualenvs/Kickstarter-aZ_5KkIK/lib/python3.9/site-packages/xgboost/sklearn.py:1146: UserWarning: The use of label encoder in XGBClassifier is deprecated and will be removed in a future release. To remove this warning, do the following: 1) Pass option use_label_encoder=False when constructing XGBClassifier object; and 2) Encode your labels (y) as integers starting with 0, i.e. 0, 1, 2, ..., [num_class - 1].\n",
      "  warnings.warn(label_encoder_deprecation_msg, UserWarning)\n"
     ]
    },
    {
     "output_type": "stream",
     "name": "stdout",
     "text": [
      "[14:00:30] WARNING: ../src/learner.cc:573: \n",
      "Parameters: { \"label_encoder\", \"randomforestclassifier__criterion\", \"randomforestclassifier__n_estimators\" } might not be used.\n",
      "\n",
      "  This may not be accurate due to some parameters are only used in language bindings but\n",
      "  passed down to XGBoost core.  Or some parameters are not used but slip through this\n",
      "  verification. Please open an issue if you find above cases.\n",
      "\n",
      "\n",
      "[14:00:32] WARNING: ../src/learner.cc:1095: Starting in XGBoost 1.3.0, the default evaluation metric used with the objective 'binary:logistic' was changed from 'error' to 'logloss'. Explicitly set eval_metric if you'd like to restore the old behavior.\n",
      "[14:00:35] WARNING: ../src/learner.cc:1095: Starting in XGBoost 1.3.0, the default evaluation metric used with the objective 'binary:logistic' was changed from 'error' to 'logloss'. Explicitly set eval_metric if you'd like to restore the old behavior.\n",
      "[CV 2/3; 20/50] END randomforestclassifier__criterion=entropy, randomforestclassifier__n_estimators=4;, score=(train=0.912, test=0.759) total time= 3.9min\n",
      "[CV 3/3; 20/50] END randomforestclassifier__criterion=entropy, randomforestclassifier__n_estimators=4;, score=(train=0.911, test=0.755) total time= 3.9min\n"
     ]
    },
    {
     "output_type": "stream",
     "name": "stderr",
     "text": [
      "/home/hj/.local/share/virtualenvs/Kickstarter-aZ_5KkIK/lib/python3.9/site-packages/xgboost/sklearn.py:1146: UserWarning: The use of label encoder in XGBClassifier is deprecated and will be removed in a future release. To remove this warning, do the following: 1) Pass option use_label_encoder=False when constructing XGBClassifier object; and 2) Encode your labels (y) as integers starting with 0, i.e. 0, 1, 2, ..., [num_class - 1].\n",
      "  warnings.warn(label_encoder_deprecation_msg, UserWarning)\n",
      "/home/hj/.local/share/virtualenvs/Kickstarter-aZ_5KkIK/lib/python3.9/site-packages/xgboost/sklearn.py:1146: UserWarning: The use of label encoder in XGBClassifier is deprecated and will be removed in a future release. To remove this warning, do the following: 1) Pass option use_label_encoder=False when constructing XGBClassifier object; and 2) Encode your labels (y) as integers starting with 0, i.e. 0, 1, 2, ..., [num_class - 1].\n",
      "  warnings.warn(label_encoder_deprecation_msg, UserWarning)\n"
     ]
    },
    {
     "output_type": "stream",
     "name": "stdout",
     "text": [
      "[CV 1/3; 23/50] START randomforestclassifier__criterion=gini, randomforestclassifier__n_estimators=208\n",
      "[14:00:36] WARNING: ../src/learner.cc:573: \n",
      "Parameters: { \"label_encoder\", \"randomforestclassifier__criterion\", \"randomforestclassifier__n_estimators\" } might not be used.\n",
      "\n",
      "  This may not be accurate due to some parameters are only used in language bindings but\n",
      "  passed down to XGBoost core.  Or some parameters are not used but slip through this\n",
      "  verification. Please open an issue if you find above cases.\n",
      "\n",
      "\n",
      "[CV 2/3; 23/50] START randomforestclassifier__criterion=gini, randomforestclassifier__n_estimators=208\n",
      "[14:00:39] WARNING: ../src/learner.cc:573: \n",
      "Parameters: { \"label_encoder\", \"randomforestclassifier__criterion\", \"randomforestclassifier__n_estimators\" } might not be used.\n",
      "\n",
      "  This may not be accurate due to some parameters are only used in language bindings but\n",
      "  passed down to XGBoost core.  Or some parameters are not used but slip through this\n",
      "  verification. Please open an issue if you find above cases.\n",
      "\n",
      "\n",
      "[14:00:40] WARNING: ../src/learner.cc:1095: Starting in XGBoost 1.3.0, the default evaluation metric used with the objective 'binary:logistic' was changed from 'error' to 'logloss'. Explicitly set eval_metric if you'd like to restore the old behavior.\n",
      "[14:00:43] WARNING: ../src/learner.cc:1095: Starting in XGBoost 1.3.0, the default evaluation metric used with the objective 'binary:logistic' was changed from 'error' to 'logloss'. Explicitly set eval_metric if you'd like to restore the old behavior.\n",
      "[CV 2/3; 21/50] END randomforestclassifier__criterion=gini, randomforestclassifier__n_estimators=10;, score=(train=0.912, test=0.759) total time= 3.7min\n",
      "[CV 3/3; 23/50] START randomforestclassifier__criterion=gini, randomforestclassifier__n_estimators=208\n",
      "[CV 1/3; 21/50] END randomforestclassifier__criterion=gini, randomforestclassifier__n_estimators=10;, score=(train=0.912, test=0.757) total time= 3.8min\n"
     ]
    },
    {
     "output_type": "stream",
     "name": "stderr",
     "text": [
      "/home/hj/.local/share/virtualenvs/Kickstarter-aZ_5KkIK/lib/python3.9/site-packages/xgboost/sklearn.py:1146: UserWarning: The use of label encoder in XGBClassifier is deprecated and will be removed in a future release. To remove this warning, do the following: 1) Pass option use_label_encoder=False when constructing XGBClassifier object; and 2) Encode your labels (y) as integers starting with 0, i.e. 0, 1, 2, ..., [num_class - 1].\n",
      "  warnings.warn(label_encoder_deprecation_msg, UserWarning)\n"
     ]
    },
    {
     "output_type": "stream",
     "name": "stdout",
     "text": [
      "[14:00:53] WARNING: ../src/learner.cc:573: \n",
      "Parameters: { \"label_encoder\", \"randomforestclassifier__criterion\", \"randomforestclassifier__n_estimators\" } might not be used.\n",
      "\n",
      "  This may not be accurate due to some parameters are only used in language bindings but\n",
      "  passed down to XGBoost core.  Or some parameters are not used but slip through this\n",
      "  verification. Please open an issue if you find above cases.\n",
      "\n",
      "\n",
      "[CV 3/3; 21/50] END randomforestclassifier__criterion=gini, randomforestclassifier__n_estimators=10;, score=(train=0.911, test=0.755) total time= 3.7min\n",
      "[CV 1/3; 24/50] START randomforestclassifier__criterion=entropy, randomforestclassifier__n_estimators=122\n"
     ]
    },
    {
     "output_type": "stream",
     "name": "stderr",
     "text": [
      "/home/hj/.local/share/virtualenvs/Kickstarter-aZ_5KkIK/lib/python3.9/site-packages/xgboost/sklearn.py:1146: UserWarning: The use of label encoder in XGBClassifier is deprecated and will be removed in a future release. To remove this warning, do the following: 1) Pass option use_label_encoder=False when constructing XGBClassifier object; and 2) Encode your labels (y) as integers starting with 0, i.e. 0, 1, 2, ..., [num_class - 1].\n",
      "  warnings.warn(label_encoder_deprecation_msg, UserWarning)\n"
     ]
    },
    {
     "output_type": "stream",
     "name": "stdout",
     "text": [
      "[14:00:54] WARNING: ../src/learner.cc:573: \n",
      "Parameters: { \"label_encoder\", \"randomforestclassifier__criterion\", \"randomforestclassifier__n_estimators\" } might not be used.\n",
      "\n",
      "  This may not be accurate due to some parameters are only used in language bindings but\n",
      "  passed down to XGBoost core.  Or some parameters are not used but slip through this\n",
      "  verification. Please open an issue if you find above cases.\n",
      "\n",
      "\n",
      "[CV 2/3; 24/50] START randomforestclassifier__criterion=entropy, randomforestclassifier__n_estimators=122\n"
     ]
    },
    {
     "output_type": "stream",
     "name": "stderr",
     "text": [
      "/home/hj/.local/share/virtualenvs/Kickstarter-aZ_5KkIK/lib/python3.9/site-packages/xgboost/sklearn.py:1146: UserWarning: The use of label encoder in XGBClassifier is deprecated and will be removed in a future release. To remove this warning, do the following: 1) Pass option use_label_encoder=False when constructing XGBClassifier object; and 2) Encode your labels (y) as integers starting with 0, i.e. 0, 1, 2, ..., [num_class - 1].\n",
      "  warnings.warn(label_encoder_deprecation_msg, UserWarning)\n"
     ]
    },
    {
     "output_type": "stream",
     "name": "stdout",
     "text": [
      "[14:00:56] WARNING: ../src/learner.cc:573: \n",
      "Parameters: { \"label_encoder\", \"randomforestclassifier__criterion\", \"randomforestclassifier__n_estimators\" } might not be used.\n",
      "\n",
      "  This may not be accurate due to some parameters are only used in language bindings but\n",
      "  passed down to XGBoost core.  Or some parameters are not used but slip through this\n",
      "  verification. Please open an issue if you find above cases.\n",
      "\n",
      "\n",
      "[14:00:56] WARNING: ../src/learner.cc:1095: Starting in XGBoost 1.3.0, the default evaluation metric used with the objective 'binary:logistic' was changed from 'error' to 'logloss'. Explicitly set eval_metric if you'd like to restore the old behavior.\n",
      "[14:00:59] WARNING: ../src/learner.cc:1095: Starting in XGBoost 1.3.0, the default evaluation metric used with the objective 'binary:logistic' was changed from 'error' to 'logloss'. Explicitly set eval_metric if you'd like to restore the old behavior.\n",
      "[14:01:00] WARNING: ../src/learner.cc:1095: Starting in XGBoost 1.3.0, the default evaluation metric used with the objective 'binary:logistic' was changed from 'error' to 'logloss'. Explicitly set eval_metric if you'd like to restore the old behavior.\n",
      "[CV 1/3; 22/50] END randomforestclassifier__criterion=entropy, randomforestclassifier__n_estimators=5;, score=(train=0.912, test=0.757) total time= 3.4min\n",
      "[CV 3/3; 24/50] START randomforestclassifier__criterion=entropy, randomforestclassifier__n_estimators=122\n"
     ]
    },
    {
     "output_type": "stream",
     "name": "stderr",
     "text": [
      "/home/hj/.local/share/virtualenvs/Kickstarter-aZ_5KkIK/lib/python3.9/site-packages/xgboost/sklearn.py:1146: UserWarning: The use of label encoder in XGBClassifier is deprecated and will be removed in a future release. To remove this warning, do the following: 1) Pass option use_label_encoder=False when constructing XGBClassifier object; and 2) Encode your labels (y) as integers starting with 0, i.e. 0, 1, 2, ..., [num_class - 1].\n",
      "  warnings.warn(label_encoder_deprecation_msg, UserWarning)\n"
     ]
    },
    {
     "output_type": "stream",
     "name": "stdout",
     "text": [
      "[14:01:08] WARNING: ../src/learner.cc:573: \n",
      "Parameters: { \"label_encoder\", \"randomforestclassifier__criterion\", \"randomforestclassifier__n_estimators\" } might not be used.\n",
      "\n",
      "  This may not be accurate due to some parameters are only used in language bindings but\n",
      "  passed down to XGBoost core.  Or some parameters are not used but slip through this\n",
      "  verification. Please open an issue if you find above cases.\n",
      "\n",
      "\n",
      "[14:01:13] WARNING: ../src/learner.cc:1095: Starting in XGBoost 1.3.0, the default evaluation metric used with the objective 'binary:logistic' was changed from 'error' to 'logloss'. Explicitly set eval_metric if you'd like to restore the old behavior.\n",
      "[CV 2/3; 22/50] END randomforestclassifier__criterion=entropy, randomforestclassifier__n_estimators=5;, score=(train=0.912, test=0.759) total time= 3.3min\n",
      "[CV 3/3; 22/50] END randomforestclassifier__criterion=entropy, randomforestclassifier__n_estimators=5;, score=(train=0.911, test=0.755) total time= 3.3min\n",
      "[CV 1/3; 25/50] START randomforestclassifier__criterion=entropy, randomforestclassifier__n_estimators=215\n",
      "[14:03:48] WARNING: ../src/learner.cc:573: \n",
      "Parameters: { \"label_encoder\", \"randomforestclassifier__criterion\", \"randomforestclassifier__n_estimators\" } might not be used.\n",
      "\n",
      "  This may not be accurate due to some parameters are only used in language bindings but\n",
      "  passed down to XGBoost core.  Or some parameters are not used but slip through this\n",
      "  verification. Please open an issue if you find above cases.\n",
      "\n",
      "\n"
     ]
    },
    {
     "output_type": "stream",
     "name": "stderr",
     "text": [
      "/home/hj/.local/share/virtualenvs/Kickstarter-aZ_5KkIK/lib/python3.9/site-packages/xgboost/sklearn.py:1146: UserWarning: The use of label encoder in XGBClassifier is deprecated and will be removed in a future release. To remove this warning, do the following: 1) Pass option use_label_encoder=False when constructing XGBClassifier object; and 2) Encode your labels (y) as integers starting with 0, i.e. 0, 1, 2, ..., [num_class - 1].\n",
      "  warnings.warn(label_encoder_deprecation_msg, UserWarning)\n"
     ]
    },
    {
     "output_type": "stream",
     "name": "stdout",
     "text": [
      "[CV 2/3; 25/50] START randomforestclassifier__criterion=entropy, randomforestclassifier__n_estimators=215\n",
      "[14:03:50] WARNING: ../src/learner.cc:573: \n",
      "Parameters: { \"label_encoder\", \"randomforestclassifier__criterion\", \"randomforestclassifier__n_estimators\" } might not be used.\n",
      "\n",
      "  This may not be accurate due to some parameters are only used in language bindings but\n",
      "  passed down to XGBoost core.  Or some parameters are not used but slip through this\n",
      "  verification. Please open an issue if you find above cases.\n",
      "\n",
      "\n"
     ]
    },
    {
     "output_type": "stream",
     "name": "stderr",
     "text": [
      "/home/hj/.local/share/virtualenvs/Kickstarter-aZ_5KkIK/lib/python3.9/site-packages/xgboost/sklearn.py:1146: UserWarning: The use of label encoder in XGBClassifier is deprecated and will be removed in a future release. To remove this warning, do the following: 1) Pass option use_label_encoder=False when constructing XGBClassifier object; and 2) Encode your labels (y) as integers starting with 0, i.e. 0, 1, 2, ..., [num_class - 1].\n",
      "  warnings.warn(label_encoder_deprecation_msg, UserWarning)\n"
     ]
    },
    {
     "output_type": "stream",
     "name": "stdout",
     "text": [
      "[14:03:52] WARNING: ../src/learner.cc:1095: Starting in XGBoost 1.3.0, the default evaluation metric used with the objective 'binary:logistic' was changed from 'error' to 'logloss'. Explicitly set eval_metric if you'd like to restore the old behavior.\n",
      "[14:03:54] WARNING: ../src/learner.cc:1095: Starting in XGBoost 1.3.0, the default evaluation metric used with the objective 'binary:logistic' was changed from 'error' to 'logloss'. Explicitly set eval_metric if you'd like to restore the old behavior.\n",
      "[CV 2/3; 23/50] END randomforestclassifier__criterion=gini, randomforestclassifier__n_estimators=208;, score=(train=0.912, test=0.759) total time= 3.3min\n",
      "[CV 1/3; 23/50] END randomforestclassifier__criterion=gini, randomforestclassifier__n_estimators=208;, score=(train=0.912, test=0.757) total time= 3.3min\n",
      "[CV 3/3; 25/50] START randomforestclassifier__criterion=entropy, randomforestclassifier__n_estimators=215\n"
     ]
    },
    {
     "output_type": "stream",
     "name": "stderr",
     "text": [
      "/home/hj/.local/share/virtualenvs/Kickstarter-aZ_5KkIK/lib/python3.9/site-packages/xgboost/sklearn.py:1146: UserWarning: The use of label encoder in XGBClassifier is deprecated and will be removed in a future release. To remove this warning, do the following: 1) Pass option use_label_encoder=False when constructing XGBClassifier object; and 2) Encode your labels (y) as integers starting with 0, i.e. 0, 1, 2, ..., [num_class - 1].\n",
      "  warnings.warn(label_encoder_deprecation_msg, UserWarning)\n"
     ]
    },
    {
     "output_type": "stream",
     "name": "stdout",
     "text": [
      "[14:03:58] WARNING: ../src/learner.cc:573: \n",
      "Parameters: { \"label_encoder\", \"randomforestclassifier__criterion\", \"randomforestclassifier__n_estimators\" } might not be used.\n",
      "\n",
      "  This may not be accurate due to some parameters are only used in language bindings but\n",
      "  passed down to XGBoost core.  Or some parameters are not used but slip through this\n",
      "  verification. Please open an issue if you find above cases.\n",
      "\n",
      "\n",
      "[CV 1/3; 26/50] START randomforestclassifier__criterion=gini, randomforestclassifier__n_estimators=274\n",
      "[14:04:00] WARNING: ../src/learner.cc:573: \n",
      "Parameters: { \"label_encoder\", \"randomforestclassifier__criterion\", \"randomforestclassifier__n_estimators\" } might not be used.\n",
      "\n",
      "  This may not be accurate due to some parameters are only used in language bindings but\n",
      "  passed down to XGBoost core.  Or some parameters are not used but slip through this\n",
      "  verification. Please open an issue if you find above cases.\n",
      "\n",
      "\n"
     ]
    },
    {
     "output_type": "stream",
     "name": "stderr",
     "text": [
      "/home/hj/.local/share/virtualenvs/Kickstarter-aZ_5KkIK/lib/python3.9/site-packages/xgboost/sklearn.py:1146: UserWarning: The use of label encoder in XGBClassifier is deprecated and will be removed in a future release. To remove this warning, do the following: 1) Pass option use_label_encoder=False when constructing XGBClassifier object; and 2) Encode your labels (y) as integers starting with 0, i.e. 0, 1, 2, ..., [num_class - 1].\n",
      "  warnings.warn(label_encoder_deprecation_msg, UserWarning)\n"
     ]
    },
    {
     "output_type": "stream",
     "name": "stdout",
     "text": [
      "[14:04:03] WARNING: ../src/learner.cc:1095: Starting in XGBoost 1.3.0, the default evaluation metric used with the objective 'binary:logistic' was changed from 'error' to 'logloss'. Explicitly set eval_metric if you'd like to restore the old behavior.\n",
      "[CV 3/3; 23/50] END randomforestclassifier__criterion=gini, randomforestclassifier__n_estimators=208;, score=(train=0.911, test=0.755) total time= 3.2min\n",
      "[14:04:06] WARNING: ../src/learner.cc:1095: Starting in XGBoost 1.3.0, the default evaluation metric used with the objective 'binary:logistic' was changed from 'error' to 'logloss'. Explicitly set eval_metric if you'd like to restore the old behavior.\n",
      "[CV 2/3; 26/50] START randomforestclassifier__criterion=gini, randomforestclassifier__n_estimators=274\n"
     ]
    },
    {
     "output_type": "stream",
     "name": "stderr",
     "text": [
      "/home/hj/.local/share/virtualenvs/Kickstarter-aZ_5KkIK/lib/python3.9/site-packages/xgboost/sklearn.py:1146: UserWarning: The use of label encoder in XGBClassifier is deprecated and will be removed in a future release. To remove this warning, do the following: 1) Pass option use_label_encoder=False when constructing XGBClassifier object; and 2) Encode your labels (y) as integers starting with 0, i.e. 0, 1, 2, ..., [num_class - 1].\n",
      "  warnings.warn(label_encoder_deprecation_msg, UserWarning)\n"
     ]
    },
    {
     "output_type": "stream",
     "name": "stdout",
     "text": [
      "[14:04:06] WARNING: ../src/learner.cc:573: \n",
      "Parameters: { \"label_encoder\", \"randomforestclassifier__criterion\", \"randomforestclassifier__n_estimators\" } might not be used.\n",
      "\n",
      "  This may not be accurate due to some parameters are only used in language bindings but\n",
      "  passed down to XGBoost core.  Or some parameters are not used but slip through this\n",
      "  verification. Please open an issue if you find above cases.\n",
      "\n",
      "\n",
      "[CV 1/3; 24/50] END randomforestclassifier__criterion=entropy, randomforestclassifier__n_estimators=122;, score=(train=0.912, test=0.757) total time= 3.2min\n",
      "[CV 3/3; 26/50] START randomforestclassifier__criterion=gini, randomforestclassifier__n_estimators=274\n"
     ]
    },
    {
     "output_type": "stream",
     "name": "stderr",
     "text": [
      "/home/hj/.local/share/virtualenvs/Kickstarter-aZ_5KkIK/lib/python3.9/site-packages/xgboost/sklearn.py:1146: UserWarning: The use of label encoder in XGBClassifier is deprecated and will be removed in a future release. To remove this warning, do the following: 1) Pass option use_label_encoder=False when constructing XGBClassifier object; and 2) Encode your labels (y) as integers starting with 0, i.e. 0, 1, 2, ..., [num_class - 1].\n",
      "  warnings.warn(label_encoder_deprecation_msg, UserWarning)\n"
     ]
    },
    {
     "output_type": "stream",
     "name": "stdout",
     "text": [
      "[14:04:10] WARNING: ../src/learner.cc:573: \n",
      "Parameters: { \"label_encoder\", \"randomforestclassifier__criterion\", \"randomforestclassifier__n_estimators\" } might not be used.\n",
      "\n",
      "  This may not be accurate due to some parameters are only used in language bindings but\n",
      "  passed down to XGBoost core.  Or some parameters are not used but slip through this\n",
      "  verification. Please open an issue if you find above cases.\n",
      "\n",
      "\n",
      "[14:04:10] WARNING: ../src/learner.cc:1095: Starting in XGBoost 1.3.0, the default evaluation metric used with the objective 'binary:logistic' was changed from 'error' to 'logloss'. Explicitly set eval_metric if you'd like to restore the old behavior.\n",
      "[CV 2/3; 24/50] END randomforestclassifier__criterion=entropy, randomforestclassifier__n_estimators=122;, score=(train=0.912, test=0.759) total time= 3.2min\n",
      "[CV 1/3; 27/50] START randomforestclassifier__criterion=entropy, randomforestclassifier__n_estimators=117\n"
     ]
    },
    {
     "output_type": "stream",
     "name": "stderr",
     "text": [
      "/home/hj/.local/share/virtualenvs/Kickstarter-aZ_5KkIK/lib/python3.9/site-packages/xgboost/sklearn.py:1146: UserWarning: The use of label encoder in XGBClassifier is deprecated and will be removed in a future release. To remove this warning, do the following: 1) Pass option use_label_encoder=False when constructing XGBClassifier object; and 2) Encode your labels (y) as integers starting with 0, i.e. 0, 1, 2, ..., [num_class - 1].\n",
      "  warnings.warn(label_encoder_deprecation_msg, UserWarning)\n"
     ]
    },
    {
     "output_type": "stream",
     "name": "stdout",
     "text": [
      "[14:04:13] WARNING: ../src/learner.cc:573: \n",
      "Parameters: { \"label_encoder\", \"randomforestclassifier__criterion\", \"randomforestclassifier__n_estimators\" } might not be used.\n",
      "\n",
      "  This may not be accurate due to some parameters are only used in language bindings but\n",
      "  passed down to XGBoost core.  Or some parameters are not used but slip through this\n",
      "  verification. Please open an issue if you find above cases.\n",
      "\n",
      "\n",
      "[14:04:14] WARNING: ../src/learner.cc:1095: Starting in XGBoost 1.3.0, the default evaluation metric used with the objective 'binary:logistic' was changed from 'error' to 'logloss'. Explicitly set eval_metric if you'd like to restore the old behavior.\n",
      "[14:04:17] WARNING: ../src/learner.cc:1095: Starting in XGBoost 1.3.0, the default evaluation metric used with the objective 'binary:logistic' was changed from 'error' to 'logloss'. Explicitly set eval_metric if you'd like to restore the old behavior.\n",
      "[CV 3/3; 24/50] END randomforestclassifier__criterion=entropy, randomforestclassifier__n_estimators=122;, score=(train=0.911, test=0.755) total time= 3.3min\n",
      "[CV 2/3; 27/50] START randomforestclassifier__criterion=entropy, randomforestclassifier__n_estimators=117\n"
     ]
    },
    {
     "output_type": "stream",
     "name": "stderr",
     "text": [
      "/home/hj/.local/share/virtualenvs/Kickstarter-aZ_5KkIK/lib/python3.9/site-packages/xgboost/sklearn.py:1146: UserWarning: The use of label encoder in XGBClassifier is deprecated and will be removed in a future release. To remove this warning, do the following: 1) Pass option use_label_encoder=False when constructing XGBClassifier object; and 2) Encode your labels (y) as integers starting with 0, i.e. 0, 1, 2, ..., [num_class - 1].\n",
      "  warnings.warn(label_encoder_deprecation_msg, UserWarning)\n"
     ]
    },
    {
     "output_type": "stream",
     "name": "stdout",
     "text": [
      "[14:04:25] WARNING: ../src/learner.cc:573: \n",
      "Parameters: { \"label_encoder\", \"randomforestclassifier__criterion\", \"randomforestclassifier__n_estimators\" } might not be used.\n",
      "\n",
      "  This may not be accurate due to some parameters are only used in language bindings but\n",
      "  passed down to XGBoost core.  Or some parameters are not used but slip through this\n",
      "  verification. Please open an issue if you find above cases.\n",
      "\n",
      "\n",
      "[14:04:29] WARNING: ../src/learner.cc:1095: Starting in XGBoost 1.3.0, the default evaluation metric used with the objective 'binary:logistic' was changed from 'error' to 'logloss'. Explicitly set eval_metric if you'd like to restore the old behavior.\n",
      "[CV 2/3; 25/50] END randomforestclassifier__criterion=entropy, randomforestclassifier__n_estimators=215;, score=(train=0.912, test=0.759) total time= 3.1min\n",
      "[CV 1/3; 25/50] END randomforestclassifier__criterion=entropy, randomforestclassifier__n_estimators=215;, score=(train=0.912, test=0.757) total time= 3.2min\n"
     ]
    },
    {
     "output_type": "stream",
     "name": "stderr",
     "text": [
      "/home/hj/.local/share/virtualenvs/Kickstarter-aZ_5KkIK/lib/python3.9/site-packages/xgboost/sklearn.py:1146: UserWarning: The use of label encoder in XGBClassifier is deprecated and will be removed in a future release. To remove this warning, do the following: 1) Pass option use_label_encoder=False when constructing XGBClassifier object; and 2) Encode your labels (y) as integers starting with 0, i.e. 0, 1, 2, ..., [num_class - 1].\n",
      "  warnings.warn(label_encoder_deprecation_msg, UserWarning)\n"
     ]
    },
    {
     "output_type": "stream",
     "name": "stdout",
     "text": [
      "[CV 3/3; 27/50] START randomforestclassifier__criterion=entropy, randomforestclassifier__n_estimators=117\n",
      "[14:07:01] WARNING: ../src/learner.cc:573: \n",
      "Parameters: { \"label_encoder\", \"randomforestclassifier__criterion\", \"randomforestclassifier__n_estimators\" } might not be used.\n",
      "\n",
      "  This may not be accurate due to some parameters are only used in language bindings but\n",
      "  passed down to XGBoost core.  Or some parameters are not used but slip through this\n",
      "  verification. Please open an issue if you find above cases.\n",
      "\n",
      "\n",
      "[CV 1/3; 28/50] START randomforestclassifier__criterion=entropy, randomforestclassifier__n_estimators=280\n",
      "[14:07:03] WARNING: ../src/learner.cc:573: \n",
      "Parameters: { \"label_encoder\", \"randomforestclassifier__criterion\", \"randomforestclassifier__n_estimators\" } might not be used.\n",
      "\n",
      "  This may not be accurate due to some parameters are only used in language bindings but\n",
      "  passed down to XGBoost core.  Or some parameters are not used but slip through this\n",
      "  verification. Please open an issue if you find above cases.\n",
      "\n",
      "\n"
     ]
    },
    {
     "output_type": "stream",
     "name": "stderr",
     "text": [
      "/home/hj/.local/share/virtualenvs/Kickstarter-aZ_5KkIK/lib/python3.9/site-packages/xgboost/sklearn.py:1146: UserWarning: The use of label encoder in XGBClassifier is deprecated and will be removed in a future release. To remove this warning, do the following: 1) Pass option use_label_encoder=False when constructing XGBClassifier object; and 2) Encode your labels (y) as integers starting with 0, i.e. 0, 1, 2, ..., [num_class - 1].\n",
      "  warnings.warn(label_encoder_deprecation_msg, UserWarning)\n"
     ]
    },
    {
     "output_type": "stream",
     "name": "stdout",
     "text": [
      "[14:07:05] WARNING: ../src/learner.cc:1095: Starting in XGBoost 1.3.0, the default evaluation metric used with the objective 'binary:logistic' was changed from 'error' to 'logloss'. Explicitly set eval_metric if you'd like to restore the old behavior.\n",
      "[14:07:06] WARNING: ../src/learner.cc:1095: Starting in XGBoost 1.3.0, the default evaluation metric used with the objective 'binary:logistic' was changed from 'error' to 'logloss'. Explicitly set eval_metric if you'd like to restore the old behavior.\n",
      "[CV 3/3; 25/50] END randomforestclassifier__criterion=entropy, randomforestclassifier__n_estimators=215;, score=(train=0.911, test=0.755) total time= 3.2min\n",
      "[CV 2/3; 28/50] START randomforestclassifier__criterion=entropy, randomforestclassifier__n_estimators=280\n"
     ]
    },
    {
     "output_type": "stream",
     "name": "stderr",
     "text": [
      "/home/hj/.local/share/virtualenvs/Kickstarter-aZ_5KkIK/lib/python3.9/site-packages/xgboost/sklearn.py:1146: UserWarning: The use of label encoder in XGBClassifier is deprecated and will be removed in a future release. To remove this warning, do the following: 1) Pass option use_label_encoder=False when constructing XGBClassifier object; and 2) Encode your labels (y) as integers starting with 0, i.e. 0, 1, 2, ..., [num_class - 1].\n",
      "  warnings.warn(label_encoder_deprecation_msg, UserWarning)\n"
     ]
    },
    {
     "output_type": "stream",
     "name": "stdout",
     "text": [
      "[14:07:13] WARNING: ../src/learner.cc:573: \n",
      "Parameters: { \"label_encoder\", \"randomforestclassifier__criterion\", \"randomforestclassifier__n_estimators\" } might not be used.\n",
      "\n",
      "  This may not be accurate due to some parameters are only used in language bindings but\n",
      "  passed down to XGBoost core.  Or some parameters are not used but slip through this\n",
      "  verification. Please open an issue if you find above cases.\n",
      "\n",
      "\n",
      "[14:07:17] WARNING: ../src/learner.cc:1095: Starting in XGBoost 1.3.0, the default evaluation metric used with the objective 'binary:logistic' was changed from 'error' to 'logloss'. Explicitly set eval_metric if you'd like to restore the old behavior.\n",
      "[CV 1/3; 26/50] END randomforestclassifier__criterion=gini, randomforestclassifier__n_estimators=274;, score=(train=0.912, test=0.757) total time= 3.3min\n",
      "[CV 3/3; 28/50] START randomforestclassifier__criterion=entropy, randomforestclassifier__n_estimators=280\n",
      "[CV 2/3; 26/50] END randomforestclassifier__criterion=gini, randomforestclassifier__n_estimators=274;, score=(train=0.912, test=0.759) total time= 3.2min\n"
     ]
    },
    {
     "output_type": "stream",
     "name": "stderr",
     "text": [
      "/home/hj/.local/share/virtualenvs/Kickstarter-aZ_5KkIK/lib/python3.9/site-packages/xgboost/sklearn.py:1146: UserWarning: The use of label encoder in XGBClassifier is deprecated and will be removed in a future release. To remove this warning, do the following: 1) Pass option use_label_encoder=False when constructing XGBClassifier object; and 2) Encode your labels (y) as integers starting with 0, i.e. 0, 1, 2, ..., [num_class - 1].\n",
      "  warnings.warn(label_encoder_deprecation_msg, UserWarning)\n"
     ]
    },
    {
     "output_type": "stream",
     "name": "stdout",
     "text": [
      "[14:07:19] WARNING: ../src/learner.cc:573: \n",
      "Parameters: { \"label_encoder\", \"randomforestclassifier__criterion\", \"randomforestclassifier__n_estimators\" } might not be used.\n",
      "\n",
      "  This may not be accurate due to some parameters are only used in language bindings but\n",
      "  passed down to XGBoost core.  Or some parameters are not used but slip through this\n",
      "  verification. Please open an issue if you find above cases.\n",
      "\n",
      "\n",
      "[CV 1/3; 29/50] START randomforestclassifier__criterion=gini, randomforestclassifier__n_estimators=13\n",
      "[14:07:21] WARNING: ../src/learner.cc:573: \n",
      "Parameters: { \"label_encoder\", \"randomforestclassifier__criterion\", \"randomforestclassifier__n_estimators\" } might not be used.\n",
      "\n",
      "  This may not be accurate due to some parameters are only used in language bindings but\n",
      "  passed down to XGBoost core.  Or some parameters are not used but slip through this\n",
      "  verification. Please open an issue if you find above cases.\n",
      "\n",
      "\n"
     ]
    },
    {
     "output_type": "stream",
     "name": "stderr",
     "text": [
      "/home/hj/.local/share/virtualenvs/Kickstarter-aZ_5KkIK/lib/python3.9/site-packages/xgboost/sklearn.py:1146: UserWarning: The use of label encoder in XGBClassifier is deprecated and will be removed in a future release. To remove this warning, do the following: 1) Pass option use_label_encoder=False when constructing XGBClassifier object; and 2) Encode your labels (y) as integers starting with 0, i.e. 0, 1, 2, ..., [num_class - 1].\n",
      "  warnings.warn(label_encoder_deprecation_msg, UserWarning)\n"
     ]
    },
    {
     "output_type": "stream",
     "name": "stdout",
     "text": [
      "[14:07:23] WARNING: ../src/learner.cc:1095: Starting in XGBoost 1.3.0, the default evaluation metric used with the objective 'binary:logistic' was changed from 'error' to 'logloss'. Explicitly set eval_metric if you'd like to restore the old behavior.\n",
      "[14:07:25] WARNING: ../src/learner.cc:1095: Starting in XGBoost 1.3.0, the default evaluation metric used with the objective 'binary:logistic' was changed from 'error' to 'logloss'. Explicitly set eval_metric if you'd like to restore the old behavior.\n",
      "[CV 3/3; 26/50] END randomforestclassifier__criterion=gini, randomforestclassifier__n_estimators=274;, score=(train=0.911, test=0.755) total time= 3.3min\n",
      "[CV 2/3; 29/50] START randomforestclassifier__criterion=gini, randomforestclassifier__n_estimators=13\n"
     ]
    },
    {
     "output_type": "stream",
     "name": "stderr",
     "text": [
      "/home/hj/.local/share/virtualenvs/Kickstarter-aZ_5KkIK/lib/python3.9/site-packages/xgboost/sklearn.py:1146: UserWarning: The use of label encoder in XGBClassifier is deprecated and will be removed in a future release. To remove this warning, do the following: 1) Pass option use_label_encoder=False when constructing XGBClassifier object; and 2) Encode your labels (y) as integers starting with 0, i.e. 0, 1, 2, ..., [num_class - 1].\n",
      "  warnings.warn(label_encoder_deprecation_msg, UserWarning)\n"
     ]
    },
    {
     "output_type": "stream",
     "name": "stdout",
     "text": [
      "[14:07:28] WARNING: ../src/learner.cc:573: \n",
      "Parameters: { \"label_encoder\", \"randomforestclassifier__criterion\", \"randomforestclassifier__n_estimators\" } might not be used.\n",
      "\n",
      "  This may not be accurate due to some parameters are only used in language bindings but\n",
      "  passed down to XGBoost core.  Or some parameters are not used but slip through this\n",
      "  verification. Please open an issue if you find above cases.\n",
      "\n",
      "\n",
      "[CV 1/3; 27/50] END randomforestclassifier__criterion=entropy, randomforestclassifier__n_estimators=117;, score=(train=0.912, test=0.757) total time= 3.3min\n",
      "[14:07:32] WARNING: ../src/learner.cc:1095: Starting in XGBoost 1.3.0, the default evaluation metric used with the objective 'binary:logistic' was changed from 'error' to 'logloss'. Explicitly set eval_metric if you'd like to restore the old behavior.\n"
     ]
    },
    {
     "output_type": "stream",
     "name": "stderr",
     "text": [
      "/home/hj/.local/share/virtualenvs/Kickstarter-aZ_5KkIK/lib/python3.9/site-packages/xgboost/sklearn.py:1146: UserWarning: The use of label encoder in XGBClassifier is deprecated and will be removed in a future release. To remove this warning, do the following: 1) Pass option use_label_encoder=False when constructing XGBClassifier object; and 2) Encode your labels (y) as integers starting with 0, i.e. 0, 1, 2, ..., [num_class - 1].\n",
      "  warnings.warn(label_encoder_deprecation_msg, UserWarning)\n"
     ]
    },
    {
     "output_type": "stream",
     "name": "stdout",
     "text": [
      "[CV 3/3; 29/50] START randomforestclassifier__criterion=gini, randomforestclassifier__n_estimators=13\n",
      "[14:07:33] WARNING: ../src/learner.cc:573: \n",
      "Parameters: { \"label_encoder\", \"randomforestclassifier__criterion\", \"randomforestclassifier__n_estimators\" } might not be used.\n",
      "\n",
      "  This may not be accurate due to some parameters are only used in language bindings but\n",
      "  passed down to XGBoost core.  Or some parameters are not used but slip through this\n",
      "  verification. Please open an issue if you find above cases.\n",
      "\n",
      "\n",
      "[14:07:38] WARNING: ../src/learner.cc:1095: Starting in XGBoost 1.3.0, the default evaluation metric used with the objective 'binary:logistic' was changed from 'error' to 'logloss'. Explicitly set eval_metric if you'd like to restore the old behavior.\n",
      "[CV 2/3; 27/50] END randomforestclassifier__criterion=entropy, randomforestclassifier__n_estimators=117;, score=(train=0.912, test=0.759) total time= 3.3min\n",
      "[CV 1/3; 30/50] START randomforestclassifier__criterion=gini, randomforestclassifier__n_estimators=222\n",
      "[14:07:43] WARNING: ../src/learner.cc:573: \n",
      "Parameters: { \"label_encoder\", \"randomforestclassifier__criterion\", \"randomforestclassifier__n_estimators\" } might not be used.\n",
      "\n",
      "  This may not be accurate due to some parameters are only used in language bindings but\n",
      "  passed down to XGBoost core.  Or some parameters are not used but slip through this\n",
      "  verification. Please open an issue if you find above cases.\n",
      "\n",
      "\n"
     ]
    },
    {
     "output_type": "stream",
     "name": "stderr",
     "text": [
      "/home/hj/.local/share/virtualenvs/Kickstarter-aZ_5KkIK/lib/python3.9/site-packages/xgboost/sklearn.py:1146: UserWarning: The use of label encoder in XGBClassifier is deprecated and will be removed in a future release. To remove this warning, do the following: 1) Pass option use_label_encoder=False when constructing XGBClassifier object; and 2) Encode your labels (y) as integers starting with 0, i.e. 0, 1, 2, ..., [num_class - 1].\n",
      "  warnings.warn(label_encoder_deprecation_msg, UserWarning)\n"
     ]
    },
    {
     "output_type": "stream",
     "name": "stdout",
     "text": [
      "[14:07:48] WARNING: ../src/learner.cc:1095: Starting in XGBoost 1.3.0, the default evaluation metric used with the objective 'binary:logistic' was changed from 'error' to 'logloss'. Explicitly set eval_metric if you'd like to restore the old behavior.\n",
      "[CV 3/3; 27/50] END randomforestclassifier__criterion=entropy, randomforestclassifier__n_estimators=117;, score=(train=0.911, test=0.755) total time= 3.3min\n",
      "[CV 2/3; 30/50] START randomforestclassifier__criterion=gini, randomforestclassifier__n_estimators=222\n",
      "[14:10:18] WARNING: ../src/learner.cc:573: \n",
      "Parameters: { \"label_encoder\", \"randomforestclassifier__criterion\", \"randomforestclassifier__n_estimators\" } might not be used.\n",
      "\n",
      "  This may not be accurate due to some parameters are only used in language bindings but\n",
      "  passed down to XGBoost core.  Or some parameters are not used but slip through this\n",
      "  verification. Please open an issue if you find above cases.\n",
      "\n",
      "\n"
     ]
    },
    {
     "output_type": "stream",
     "name": "stderr",
     "text": [
      "/home/hj/.local/share/virtualenvs/Kickstarter-aZ_5KkIK/lib/python3.9/site-packages/xgboost/sklearn.py:1146: UserWarning: The use of label encoder in XGBClassifier is deprecated and will be removed in a future release. To remove this warning, do the following: 1) Pass option use_label_encoder=False when constructing XGBClassifier object; and 2) Encode your labels (y) as integers starting with 0, i.e. 0, 1, 2, ..., [num_class - 1].\n",
      "  warnings.warn(label_encoder_deprecation_msg, UserWarning)\n"
     ]
    },
    {
     "output_type": "stream",
     "name": "stdout",
     "text": [
      "[CV 1/3; 28/50] END randomforestclassifier__criterion=entropy, randomforestclassifier__n_estimators=280;, score=(train=0.912, test=0.757) total time= 3.3min\n",
      "[CV 3/3; 30/50] START randomforestclassifier__criterion=gini, randomforestclassifier__n_estimators=222\n",
      "[14:10:20] WARNING: ../src/learner.cc:573: \n",
      "Parameters: { \"label_encoder\", \"randomforestclassifier__criterion\", \"randomforestclassifier__n_estimators\" } might not be used.\n",
      "\n",
      "  This may not be accurate due to some parameters are only used in language bindings but\n",
      "  passed down to XGBoost core.  Or some parameters are not used but slip through this\n",
      "  verification. Please open an issue if you find above cases.\n",
      "\n",
      "\n"
     ]
    },
    {
     "output_type": "stream",
     "name": "stderr",
     "text": [
      "/home/hj/.local/share/virtualenvs/Kickstarter-aZ_5KkIK/lib/python3.9/site-packages/xgboost/sklearn.py:1146: UserWarning: The use of label encoder in XGBClassifier is deprecated and will be removed in a future release. To remove this warning, do the following: 1) Pass option use_label_encoder=False when constructing XGBClassifier object; and 2) Encode your labels (y) as integers starting with 0, i.e. 0, 1, 2, ..., [num_class - 1].\n",
      "  warnings.warn(label_encoder_deprecation_msg, UserWarning)\n"
     ]
    },
    {
     "output_type": "stream",
     "name": "stdout",
     "text": [
      "[14:10:22] WARNING: ../src/learner.cc:1095: Starting in XGBoost 1.3.0, the default evaluation metric used with the objective 'binary:logistic' was changed from 'error' to 'logloss'. Explicitly set eval_metric if you'd like to restore the old behavior.\n",
      "[14:10:24] WARNING: ../src/learner.cc:1095: Starting in XGBoost 1.3.0, the default evaluation metric used with the objective 'binary:logistic' was changed from 'error' to 'logloss'. Explicitly set eval_metric if you'd like to restore the old behavior.\n",
      "[CV 2/3; 28/50] END randomforestclassifier__criterion=entropy, randomforestclassifier__n_estimators=280;, score=(train=0.912, test=0.759) total time= 3.2min\n",
      "[CV 1/3; 31/50] START randomforestclassifier__criterion=entropy, randomforestclassifier__n_estimators=148\n"
     ]
    },
    {
     "output_type": "stream",
     "name": "stderr",
     "text": [
      "/home/hj/.local/share/virtualenvs/Kickstarter-aZ_5KkIK/lib/python3.9/site-packages/xgboost/sklearn.py:1146: UserWarning: The use of label encoder in XGBClassifier is deprecated and will be removed in a future release. To remove this warning, do the following: 1) Pass option use_label_encoder=False when constructing XGBClassifier object; and 2) Encode your labels (y) as integers starting with 0, i.e. 0, 1, 2, ..., [num_class - 1].\n",
      "  warnings.warn(label_encoder_deprecation_msg, UserWarning)\n"
     ]
    },
    {
     "output_type": "stream",
     "name": "stdout",
     "text": [
      "[14:10:29] WARNING: ../src/learner.cc:573: \n",
      "Parameters: { \"label_encoder\", \"randomforestclassifier__criterion\", \"randomforestclassifier__n_estimators\" } might not be used.\n",
      "\n",
      "  This may not be accurate due to some parameters are only used in language bindings but\n",
      "  passed down to XGBoost core.  Or some parameters are not used but slip through this\n",
      "  verification. Please open an issue if you find above cases.\n",
      "\n",
      "\n",
      "[CV 3/3; 28/50] END randomforestclassifier__criterion=entropy, randomforestclassifier__n_estimators=280;, score=(train=0.911, test=0.755) total time= 3.2min\n",
      "[14:10:33] WARNING: ../src/learner.cc:1095: Starting in XGBoost 1.3.0, the default evaluation metric used with the objective 'binary:logistic' was changed from 'error' to 'logloss'. Explicitly set eval_metric if you'd like to restore the old behavior.\n",
      "[CV 2/3; 31/50] START randomforestclassifier__criterion=entropy, randomforestclassifier__n_estimators=148\n"
     ]
    },
    {
     "output_type": "stream",
     "name": "stderr",
     "text": [
      "/home/hj/.local/share/virtualenvs/Kickstarter-aZ_5KkIK/lib/python3.9/site-packages/xgboost/sklearn.py:1146: UserWarning: The use of label encoder in XGBClassifier is deprecated and will be removed in a future release. To remove this warning, do the following: 1) Pass option use_label_encoder=False when constructing XGBClassifier object; and 2) Encode your labels (y) as integers starting with 0, i.e. 0, 1, 2, ..., [num_class - 1].\n",
      "  warnings.warn(label_encoder_deprecation_msg, UserWarning)\n"
     ]
    },
    {
     "output_type": "stream",
     "name": "stdout",
     "text": [
      "[14:10:34] WARNING: ../src/learner.cc:573: \n",
      "Parameters: { \"label_encoder\", \"randomforestclassifier__criterion\", \"randomforestclassifier__n_estimators\" } might not be used.\n",
      "\n",
      "  This may not be accurate due to some parameters are only used in language bindings but\n",
      "  passed down to XGBoost core.  Or some parameters are not used but slip through this\n",
      "  verification. Please open an issue if you find above cases.\n",
      "\n",
      "\n",
      "[14:10:38] WARNING: ../src/learner.cc:1095: Starting in XGBoost 1.3.0, the default evaluation metric used with the objective 'binary:logistic' was changed from 'error' to 'logloss'. Explicitly set eval_metric if you'd like to restore the old behavior.\n",
      "[CV 2/3; 29/50] END randomforestclassifier__criterion=gini, randomforestclassifier__n_estimators=13;, score=(train=0.912, test=0.759) total time= 3.2min\n",
      "[CV 1/3; 29/50] END randomforestclassifier__criterion=gini, randomforestclassifier__n_estimators=13;, score=(train=0.912, test=0.757) total time= 3.3min\n",
      "[CV 3/3; 31/50] START randomforestclassifier__criterion=entropy, randomforestclassifier__n_estimators=148\n"
     ]
    },
    {
     "output_type": "stream",
     "name": "stderr",
     "text": [
      "/home/hj/.local/share/virtualenvs/Kickstarter-aZ_5KkIK/lib/python3.9/site-packages/xgboost/sklearn.py:1146: UserWarning: The use of label encoder in XGBClassifier is deprecated and will be removed in a future release. To remove this warning, do the following: 1) Pass option use_label_encoder=False when constructing XGBClassifier object; and 2) Encode your labels (y) as integers starting with 0, i.e. 0, 1, 2, ..., [num_class - 1].\n",
      "  warnings.warn(label_encoder_deprecation_msg, UserWarning)\n"
     ]
    },
    {
     "output_type": "stream",
     "name": "stdout",
     "text": [
      "[14:10:42] WARNING: ../src/learner.cc:573: \n",
      "Parameters: { \"label_encoder\", \"randomforestclassifier__criterion\", \"randomforestclassifier__n_estimators\" } might not be used.\n",
      "\n",
      "  This may not be accurate due to some parameters are only used in language bindings but\n",
      "  passed down to XGBoost core.  Or some parameters are not used but slip through this\n",
      "  verification. Please open an issue if you find above cases.\n",
      "\n",
      "\n",
      "[CV 1/3; 32/50] START randomforestclassifier__criterion=gini, randomforestclassifier__n_estimators=224\n"
     ]
    },
    {
     "output_type": "stream",
     "name": "stderr",
     "text": [
      "/home/hj/.local/share/virtualenvs/Kickstarter-aZ_5KkIK/lib/python3.9/site-packages/xgboost/sklearn.py:1146: UserWarning: The use of label encoder in XGBClassifier is deprecated and will be removed in a future release. To remove this warning, do the following: 1) Pass option use_label_encoder=False when constructing XGBClassifier object; and 2) Encode your labels (y) as integers starting with 0, i.e. 0, 1, 2, ..., [num_class - 1].\n",
      "  warnings.warn(label_encoder_deprecation_msg, UserWarning)\n"
     ]
    },
    {
     "output_type": "stream",
     "name": "stdout",
     "text": [
      "[14:10:43] WARNING: ../src/learner.cc:573: \n",
      "Parameters: { \"label_encoder\", \"randomforestclassifier__criterion\", \"randomforestclassifier__n_estimators\" } might not be used.\n",
      "\n",
      "  This may not be accurate due to some parameters are only used in language bindings but\n",
      "  passed down to XGBoost core.  Or some parameters are not used but slip through this\n",
      "  verification. Please open an issue if you find above cases.\n",
      "\n",
      "\n",
      "[14:10:46] WARNING: ../src/learner.cc:1095: Starting in XGBoost 1.3.0, the default evaluation metric used with the objective 'binary:logistic' was changed from 'error' to 'logloss'. Explicitly set eval_metric if you'd like to restore the old behavior.\n",
      "[14:10:47] WARNING: ../src/learner.cc:1095: Starting in XGBoost 1.3.0, the default evaluation metric used with the objective 'binary:logistic' was changed from 'error' to 'logloss'. Explicitly set eval_metric if you'd like to restore the old behavior.\n",
      "[CV 3/3; 29/50] END randomforestclassifier__criterion=gini, randomforestclassifier__n_estimators=13;, score=(train=0.911, test=0.755) total time= 3.2min\n",
      "[CV 2/3; 32/50] START randomforestclassifier__criterion=gini, randomforestclassifier__n_estimators=224\n"
     ]
    },
    {
     "output_type": "stream",
     "name": "stderr",
     "text": [
      "/home/hj/.local/share/virtualenvs/Kickstarter-aZ_5KkIK/lib/python3.9/site-packages/xgboost/sklearn.py:1146: UserWarning: The use of label encoder in XGBClassifier is deprecated and will be removed in a future release. To remove this warning, do the following: 1) Pass option use_label_encoder=False when constructing XGBClassifier object; and 2) Encode your labels (y) as integers starting with 0, i.e. 0, 1, 2, ..., [num_class - 1].\n",
      "  warnings.warn(label_encoder_deprecation_msg, UserWarning)\n"
     ]
    },
    {
     "output_type": "stream",
     "name": "stdout",
     "text": [
      "[14:10:49] WARNING: ../src/learner.cc:573: \n",
      "Parameters: { \"label_encoder\", \"randomforestclassifier__criterion\", \"randomforestclassifier__n_estimators\" } might not be used.\n",
      "\n",
      "  This may not be accurate due to some parameters are only used in language bindings but\n",
      "  passed down to XGBoost core.  Or some parameters are not used but slip through this\n",
      "  verification. Please open an issue if you find above cases.\n",
      "\n",
      "\n",
      "[14:10:54] WARNING: ../src/learner.cc:1095: Starting in XGBoost 1.3.0, the default evaluation metric used with the objective 'binary:logistic' was changed from 'error' to 'logloss'. Explicitly set eval_metric if you'd like to restore the old behavior.\n",
      "[CV 1/3; 30/50] END randomforestclassifier__criterion=gini, randomforestclassifier__n_estimators=222;, score=(train=0.912, test=0.757) total time= 3.2min\n",
      "[CV 3/3; 32/50] START randomforestclassifier__criterion=gini, randomforestclassifier__n_estimators=224"
     ]
    },
    {
     "output_type": "stream",
     "name": "stderr",
     "text": [
      "/home/hj/.local/share/virtualenvs/Kickstarter-aZ_5KkIK/lib/python3.9/site-packages/xgboost/sklearn.py:1146: UserWarning: The use of label encoder in XGBClassifier is deprecated and will be removed in a future release. To remove this warning, do the following: 1) Pass option use_label_encoder=False when constructing XGBClassifier object; and 2) Encode your labels (y) as integers starting with 0, i.e. 0, 1, 2, ..., [num_class - 1].\n",
      "  warnings.warn(label_encoder_deprecation_msg, UserWarning)\n"
     ]
    },
    {
     "output_type": "stream",
     "name": "stdout",
     "text": [
      "\n",
      "[14:10:59] WARNING: ../src/learner.cc:573: \n",
      "Parameters: { \"label_encoder\", \"randomforestclassifier__criterion\", \"randomforestclassifier__n_estimators\" } might not be used.\n",
      "\n",
      "  This may not be accurate due to some parameters are only used in language bindings but\n",
      "  passed down to XGBoost core.  Or some parameters are not used but slip through this\n",
      "  verification. Please open an issue if you find above cases.\n",
      "\n",
      "\n",
      "[14:11:03] WARNING: ../src/learner.cc:1095: Starting in XGBoost 1.3.0, the default evaluation metric used with the objective 'binary:logistic' was changed from 'error' to 'logloss'. Explicitly set eval_metric if you'd like to restore the old behavior.\n",
      "[CV 2/3; 30/50] END randomforestclassifier__criterion=gini, randomforestclassifier__n_estimators=222;, score=(train=0.912, test=0.759) total time= 3.3min\n",
      "[CV 1/3; 33/50] START randomforestclassifier__criterion=gini, randomforestclassifier__n_estimators=169\n"
     ]
    },
    {
     "output_type": "stream",
     "name": "stderr",
     "text": [
      "/home/hj/.local/share/virtualenvs/Kickstarter-aZ_5KkIK/lib/python3.9/site-packages/xgboost/sklearn.py:1146: UserWarning: The use of label encoder in XGBClassifier is deprecated and will be removed in a future release. To remove this warning, do the following: 1) Pass option use_label_encoder=False when constructing XGBClassifier object; and 2) Encode your labels (y) as integers starting with 0, i.e. 0, 1, 2, ..., [num_class - 1].\n",
      "  warnings.warn(label_encoder_deprecation_msg, UserWarning)\n"
     ]
    },
    {
     "output_type": "stream",
     "name": "stdout",
     "text": [
      "[14:13:36] WARNING: ../src/learner.cc:573: \n",
      "Parameters: { \"label_encoder\", \"randomforestclassifier__criterion\", \"randomforestclassifier__n_estimators\" } might not be used.\n",
      "\n",
      "  This may not be accurate due to some parameters are only used in language bindings but\n",
      "  passed down to XGBoost core.  Or some parameters are not used but slip through this\n",
      "  verification. Please open an issue if you find above cases.\n",
      "\n",
      "\n",
      "[CV 3/3; 30/50] END randomforestclassifier__criterion=gini, randomforestclassifier__n_estimators=222;, score=(train=0.911, test=0.755) total time= 3.3min\n"
     ]
    },
    {
     "output_type": "stream",
     "name": "stderr",
     "text": [
      "/home/hj/.local/share/virtualenvs/Kickstarter-aZ_5KkIK/lib/python3.9/site-packages/xgboost/sklearn.py:1146: UserWarning: The use of label encoder in XGBClassifier is deprecated and will be removed in a future release. To remove this warning, do the following: 1) Pass option use_label_encoder=False when constructing XGBClassifier object; and 2) Encode your labels (y) as integers starting with 0, i.e. 0, 1, 2, ..., [num_class - 1].\n",
      "  warnings.warn(label_encoder_deprecation_msg, UserWarning)\n"
     ]
    },
    {
     "output_type": "stream",
     "name": "stdout",
     "text": [
      "[14:13:40] WARNING: ../src/learner.cc:1095: Starting in XGBoost 1.3.0, the default evaluation metric used with the objective 'binary:logistic' was changed from 'error' to 'logloss'. Explicitly set eval_metric if you'd like to restore the old behavior.\n",
      "[CV 2/3; 33/50] START randomforestclassifier__criterion=gini, randomforestclassifier__n_estimators=169\n",
      "[14:13:40] WARNING: ../src/learner.cc:573: \n",
      "Parameters: { \"label_encoder\", \"randomforestclassifier__criterion\", \"randomforestclassifier__n_estimators\" } might not be used.\n",
      "\n",
      "  This may not be accurate due to some parameters are only used in language bindings but\n",
      "  passed down to XGBoost core.  Or some parameters are not used but slip through this\n",
      "  verification. Please open an issue if you find above cases.\n",
      "\n",
      "\n",
      "[14:13:44] WARNING: ../src/learner.cc:1095: Starting in XGBoost 1.3.0, the default evaluation metric used with the objective 'binary:logistic' was changed from 'error' to 'logloss'. Explicitly set eval_metric if you'd like to restore the old behavior.\n",
      "[CV 1/3; 31/50] END randomforestclassifier__criterion=entropy, randomforestclassifier__n_estimators=148;, score=(train=0.912, test=0.757) total time= 3.3min\n",
      "[CV 3/3; 33/50] START randomforestclassifier__criterion=gini, randomforestclassifier__n_estimators=169\n"
     ]
    },
    {
     "output_type": "stream",
     "name": "stderr",
     "text": [
      "/home/hj/.local/share/virtualenvs/Kickstarter-aZ_5KkIK/lib/python3.9/site-packages/xgboost/sklearn.py:1146: UserWarning: The use of label encoder in XGBClassifier is deprecated and will be removed in a future release. To remove this warning, do the following: 1) Pass option use_label_encoder=False when constructing XGBClassifier object; and 2) Encode your labels (y) as integers starting with 0, i.e. 0, 1, 2, ..., [num_class - 1].\n",
      "  warnings.warn(label_encoder_deprecation_msg, UserWarning)\n"
     ]
    },
    {
     "output_type": "stream",
     "name": "stdout",
     "text": [
      "[14:13:49] WARNING: ../src/learner.cc:573: \n",
      "Parameters: { \"label_encoder\", \"randomforestclassifier__criterion\", \"randomforestclassifier__n_estimators\" } might not be used.\n",
      "\n",
      "  This may not be accurate due to some parameters are only used in language bindings but\n",
      "  passed down to XGBoost core.  Or some parameters are not used but slip through this\n",
      "  verification. Please open an issue if you find above cases.\n",
      "\n",
      "\n",
      "[CV 2/3; 31/50] END randomforestclassifier__criterion=entropy, randomforestclassifier__n_estimators=148;, score=(train=0.912, test=0.759) total time= 3.3min\n",
      "[CV 1/3; 34/50] START randomforestclassifier__criterion=entropy, randomforestclassifier__n_estimators=185\n"
     ]
    },
    {
     "output_type": "stream",
     "name": "stderr",
     "text": [
      "/home/hj/.local/share/virtualenvs/Kickstarter-aZ_5KkIK/lib/python3.9/site-packages/xgboost/sklearn.py:1146: UserWarning: The use of label encoder in XGBClassifier is deprecated and will be removed in a future release. To remove this warning, do the following: 1) Pass option use_label_encoder=False when constructing XGBClassifier object; and 2) Encode your labels (y) as integers starting with 0, i.e. 0, 1, 2, ..., [num_class - 1].\n",
      "  warnings.warn(label_encoder_deprecation_msg, UserWarning)\n"
     ]
    },
    {
     "output_type": "stream",
     "name": "stdout",
     "text": [
      "[14:13:51] WARNING: ../src/learner.cc:573: \n",
      "Parameters: { \"label_encoder\", \"randomforestclassifier__criterion\", \"randomforestclassifier__n_estimators\" } might not be used.\n",
      "\n",
      "  This may not be accurate due to some parameters are only used in language bindings but\n",
      "  passed down to XGBoost core.  Or some parameters are not used but slip through this\n",
      "  verification. Please open an issue if you find above cases.\n",
      "\n",
      "\n",
      "[14:13:52] WARNING: ../src/learner.cc:1095: Starting in XGBoost 1.3.0, the default evaluation metric used with the objective 'binary:logistic' was changed from 'error' to 'logloss'. Explicitly set eval_metric if you'd like to restore the old behavior.\n",
      "[14:13:55] WARNING: ../src/learner.cc:1095: Starting in XGBoost 1.3.0, the default evaluation metric used with the objective 'binary:logistic' was changed from 'error' to 'logloss'. Explicitly set eval_metric if you'd like to restore the old behavior.\n",
      "[CV 3/3; 31/50] END randomforestclassifier__criterion=entropy, randomforestclassifier__n_estimators=148;, score=(train=0.911, test=0.755) total time= 3.2min\n",
      "[CV 2/3; 34/50] START randomforestclassifier__criterion=entropy, randomforestclassifier__n_estimators=185\n",
      "[14:13:58] WARNING: ../src/learner.cc:573: \n",
      "Parameters: { \"label_encoder\", \"randomforestclassifier__criterion\", \"randomforestclassifier__n_estimators\" } might not be used.\n",
      "\n",
      "  This may not be accurate due to some parameters are only used in language bindings but\n",
      "  passed down to XGBoost core.  Or some parameters are not used but slip through this\n",
      "  verification. Please open an issue if you find above cases.\n",
      "\n",
      "\n"
     ]
    },
    {
     "output_type": "stream",
     "name": "stderr",
     "text": [
      "/home/hj/.local/share/virtualenvs/Kickstarter-aZ_5KkIK/lib/python3.9/site-packages/xgboost/sklearn.py:1146: UserWarning: The use of label encoder in XGBClassifier is deprecated and will be removed in a future release. To remove this warning, do the following: 1) Pass option use_label_encoder=False when constructing XGBClassifier object; and 2) Encode your labels (y) as integers starting with 0, i.e. 0, 1, 2, ..., [num_class - 1].\n",
      "  warnings.warn(label_encoder_deprecation_msg, UserWarning)\n"
     ]
    },
    {
     "output_type": "stream",
     "name": "stdout",
     "text": [
      "[CV 1/3; 32/50] END randomforestclassifier__criterion=gini, randomforestclassifier__n_estimators=224;, score=(train=0.912, test=0.757) total time= 3.3min\n",
      "[CV 3/3; 34/50] START randomforestclassifier__criterion=entropy, randomforestclassifier__n_estimators=185\n",
      "[14:14:01] WARNING: ../src/learner.cc:573: \n",
      "Parameters: { \"label_encoder\", \"randomforestclassifier__criterion\", \"randomforestclassifier__n_estimators\" } might not be used.\n",
      "\n",
      "  This may not be accurate due to some parameters are only used in language bindings but\n",
      "  passed down to XGBoost core.  Or some parameters are not used but slip through this\n",
      "  verification. Please open an issue if you find above cases.\n",
      "\n",
      "\n"
     ]
    },
    {
     "output_type": "stream",
     "name": "stderr",
     "text": [
      "/home/hj/.local/share/virtualenvs/Kickstarter-aZ_5KkIK/lib/python3.9/site-packages/xgboost/sklearn.py:1146: UserWarning: The use of label encoder in XGBClassifier is deprecated and will be removed in a future release. To remove this warning, do the following: 1) Pass option use_label_encoder=False when constructing XGBClassifier object; and 2) Encode your labels (y) as integers starting with 0, i.e. 0, 1, 2, ..., [num_class - 1].\n",
      "  warnings.warn(label_encoder_deprecation_msg, UserWarning)\n"
     ]
    },
    {
     "output_type": "stream",
     "name": "stdout",
     "text": [
      "[14:14:02] WARNING: ../src/learner.cc:1095: Starting in XGBoost 1.3.0, the default evaluation metric used with the objective 'binary:logistic' was changed from 'error' to 'logloss'. Explicitly set eval_metric if you'd like to restore the old behavior.\n",
      "[14:14:05] WARNING: ../src/learner.cc:1095: Starting in XGBoost 1.3.0, the default evaluation metric used with the objective 'binary:logistic' was changed from 'error' to 'logloss'. Explicitly set eval_metric if you'd like to restore the old behavior.\n",
      "[CV 2/3; 32/50] END randomforestclassifier__criterion=gini, randomforestclassifier__n_estimators=224;, score=(train=0.912, test=0.759) total time= 3.3min\n",
      "[CV 1/3; 35/50] START randomforestclassifier__criterion=entropy, randomforestclassifier__n_estimators=41\n"
     ]
    },
    {
     "output_type": "stream",
     "name": "stderr",
     "text": [
      "/home/hj/.local/share/virtualenvs/Kickstarter-aZ_5KkIK/lib/python3.9/site-packages/xgboost/sklearn.py:1146: UserWarning: The use of label encoder in XGBClassifier is deprecated and will be removed in a future release. To remove this warning, do the following: 1) Pass option use_label_encoder=False when constructing XGBClassifier object; and 2) Encode your labels (y) as integers starting with 0, i.e. 0, 1, 2, ..., [num_class - 1].\n",
      "  warnings.warn(label_encoder_deprecation_msg, UserWarning)\n"
     ]
    },
    {
     "output_type": "stream",
     "name": "stdout",
     "text": [
      "[14:14:14] WARNING: ../src/learner.cc:573: \n",
      "Parameters: { \"label_encoder\", \"randomforestclassifier__criterion\", \"randomforestclassifier__n_estimators\" } might not be used.\n",
      "\n",
      "  This may not be accurate due to some parameters are only used in language bindings but\n",
      "  passed down to XGBoost core.  Or some parameters are not used but slip through this\n",
      "  verification. Please open an issue if you find above cases.\n",
      "\n",
      "\n",
      "[14:14:18] WARNING: ../src/learner.cc:1095: Starting in XGBoost 1.3.0, the default evaluation metric used with the objective 'binary:logistic' was changed from 'error' to 'logloss'. Explicitly set eval_metric if you'd like to restore the old behavior.\n",
      "[CV 3/3; 32/50] END randomforestclassifier__criterion=gini, randomforestclassifier__n_estimators=224;, score=(train=0.911, test=0.755) total time= 3.4min\n"
     ]
    },
    {
     "output_type": "stream",
     "name": "stderr",
     "text": [
      "/home/hj/.local/share/virtualenvs/Kickstarter-aZ_5KkIK/lib/python3.9/site-packages/xgboost/sklearn.py:1146: UserWarning: The use of label encoder in XGBClassifier is deprecated and will be removed in a future release. To remove this warning, do the following: 1) Pass option use_label_encoder=False when constructing XGBClassifier object; and 2) Encode your labels (y) as integers starting with 0, i.e. 0, 1, 2, ..., [num_class - 1].\n",
      "  warnings.warn(label_encoder_deprecation_msg, UserWarning)\n"
     ]
    },
    {
     "output_type": "stream",
     "name": "stdout",
     "text": [
      "[CV 2/3; 35/50] START randomforestclassifier__criterion=entropy, randomforestclassifier__n_estimators=41\n",
      "[14:14:25] WARNING: ../src/learner.cc:573: \n",
      "Parameters: { \"label_encoder\", \"randomforestclassifier__criterion\", \"randomforestclassifier__n_estimators\" } might not be used.\n",
      "\n",
      "  This may not be accurate due to some parameters are only used in language bindings but\n",
      "  passed down to XGBoost core.  Or some parameters are not used but slip through this\n",
      "  verification. Please open an issue if you find above cases.\n",
      "\n",
      "\n",
      "[14:14:29] WARNING: ../src/learner.cc:1095: Starting in XGBoost 1.3.0, the default evaluation metric used with the objective 'binary:logistic' was changed from 'error' to 'logloss'. Explicitly set eval_metric if you'd like to restore the old behavior.\n",
      "[CV 1/3; 33/50] END randomforestclassifier__criterion=gini, randomforestclassifier__n_estimators=169;, score=(train=0.912, test=0.757) total time= 3.2min\n",
      "[CV 2/3; 33/50] END randomforestclassifier__criterion=gini, randomforestclassifier__n_estimators=169;, score=(train=0.912, test=0.759) total time= 3.2min\n",
      "[CV 3/3; 35/50] START randomforestclassifier__criterion=entropy, randomforestclassifier__n_estimators=41\n",
      "[14:16:51] WARNING: ../src/learner.cc:573: \n",
      "Parameters: { \"label_encoder\", \"randomforestclassifier__criterion\", \"randomforestclassifier__n_estimators\" } might not be used.\n",
      "\n",
      "  This may not be accurate due to some parameters are only used in language bindings but\n",
      "  passed down to XGBoost core.  Or some parameters are not used but slip through this\n",
      "  verification. Please open an issue if you find above cases.\n",
      "\n",
      "\n"
     ]
    },
    {
     "output_type": "stream",
     "name": "stderr",
     "text": [
      "/home/hj/.local/share/virtualenvs/Kickstarter-aZ_5KkIK/lib/python3.9/site-packages/xgboost/sklearn.py:1146: UserWarning: The use of label encoder in XGBClassifier is deprecated and will be removed in a future release. To remove this warning, do the following: 1) Pass option use_label_encoder=False when constructing XGBClassifier object; and 2) Encode your labels (y) as integers starting with 0, i.e. 0, 1, 2, ..., [num_class - 1].\n",
      "  warnings.warn(label_encoder_deprecation_msg, UserWarning)\n"
     ]
    },
    {
     "output_type": "stream",
     "name": "stdout",
     "text": [
      "[CV 1/3; 36/50] START randomforestclassifier__criterion=entropy, randomforestclassifier__n_estimators=47\n",
      "[14:16:52] WARNING: ../src/learner.cc:573: \n",
      "Parameters: { \"label_encoder\", \"randomforestclassifier__criterion\", \"randomforestclassifier__n_estimators\" } might not be used.\n",
      "\n",
      "  This may not be accurate due to some parameters are only used in language bindings but\n",
      "  passed down to XGBoost core.  Or some parameters are not used but slip through this\n",
      "  verification. Please open an issue if you find above cases.\n",
      "\n",
      "\n"
     ]
    },
    {
     "output_type": "stream",
     "name": "stderr",
     "text": [
      "/home/hj/.local/share/virtualenvs/Kickstarter-aZ_5KkIK/lib/python3.9/site-packages/xgboost/sklearn.py:1146: UserWarning: The use of label encoder in XGBClassifier is deprecated and will be removed in a future release. To remove this warning, do the following: 1) Pass option use_label_encoder=False when constructing XGBClassifier object; and 2) Encode your labels (y) as integers starting with 0, i.e. 0, 1, 2, ..., [num_class - 1].\n",
      "  warnings.warn(label_encoder_deprecation_msg, UserWarning)\n"
     ]
    },
    {
     "output_type": "stream",
     "name": "stdout",
     "text": [
      "[14:16:55] WARNING: ../src/learner.cc:1095: Starting in XGBoost 1.3.0, the default evaluation metric used with the objective 'binary:logistic' was changed from 'error' to 'logloss'. Explicitly set eval_metric if you'd like to restore the old behavior.\n",
      "[14:16:56] WARNING: ../src/learner.cc:1095: Starting in XGBoost 1.3.0, the default evaluation metric used with the objective 'binary:logistic' was changed from 'error' to 'logloss'. Explicitly set eval_metric if you'd like to restore the old behavior.\n",
      "[CV 3/3; 33/50] END randomforestclassifier__criterion=gini, randomforestclassifier__n_estimators=169;, score=(train=0.911, test=0.755) total time= 3.2min\n",
      "[CV 2/3; 36/50] START randomforestclassifier__criterion=entropy, randomforestclassifier__n_estimators=47\n"
     ]
    },
    {
     "output_type": "stream",
     "name": "stderr",
     "text": [
      "/home/hj/.local/share/virtualenvs/Kickstarter-aZ_5KkIK/lib/python3.9/site-packages/xgboost/sklearn.py:1146: UserWarning: The use of label encoder in XGBClassifier is deprecated and will be removed in a future release. To remove this warning, do the following: 1) Pass option use_label_encoder=False when constructing XGBClassifier object; and 2) Encode your labels (y) as integers starting with 0, i.e. 0, 1, 2, ..., [num_class - 1].\n",
      "  warnings.warn(label_encoder_deprecation_msg, UserWarning)\n"
     ]
    },
    {
     "output_type": "stream",
     "name": "stdout",
     "text": [
      "[14:17:03] WARNING: ../src/learner.cc:573: \n",
      "Parameters: { \"label_encoder\", \"randomforestclassifier__criterion\", \"randomforestclassifier__n_estimators\" } might not be used.\n",
      "\n",
      "  This may not be accurate due to some parameters are only used in language bindings but\n",
      "  passed down to XGBoost core.  Or some parameters are not used but slip through this\n",
      "  verification. Please open an issue if you find above cases.\n",
      "\n",
      "\n",
      "[CV 1/3; 34/50] END randomforestclassifier__criterion=entropy, randomforestclassifier__n_estimators=185;, score=(train=0.912, test=0.757) total time= 3.2min\n"
     ]
    },
    {
     "output_type": "stream",
     "name": "stderr",
     "text": [
      "/home/hj/.local/share/virtualenvs/Kickstarter-aZ_5KkIK/lib/python3.9/site-packages/xgboost/sklearn.py:1146: UserWarning: The use of label encoder in XGBClassifier is deprecated and will be removed in a future release. To remove this warning, do the following: 1) Pass option use_label_encoder=False when constructing XGBClassifier object; and 2) Encode your labels (y) as integers starting with 0, i.e. 0, 1, 2, ..., [num_class - 1].\n",
      "  warnings.warn(label_encoder_deprecation_msg, UserWarning)\n"
     ]
    },
    {
     "output_type": "stream",
     "name": "stdout",
     "text": [
      "[CV 3/3; 36/50] START randomforestclassifier__criterion=entropy, randomforestclassifier__n_estimators=47\n",
      "[14:17:07] WARNING: ../src/learner.cc:573: \n",
      "Parameters: { \"label_encoder\", \"randomforestclassifier__criterion\", \"randomforestclassifier__n_estimators\" } might not be used.\n",
      "\n",
      "  This may not be accurate due to some parameters are only used in language bindings but\n",
      "  passed down to XGBoost core.  Or some parameters are not used but slip through this\n",
      "  verification. Please open an issue if you find above cases.\n",
      "\n",
      "\n",
      "[14:17:07] WARNING: ../src/learner.cc:1095: Starting in XGBoost 1.3.0, the default evaluation metric used with the objective 'binary:logistic' was changed from 'error' to 'logloss'. Explicitly set eval_metric if you'd like to restore the old behavior.\n",
      "[14:17:11] WARNING: ../src/learner.cc:1095: Starting in XGBoost 1.3.0, the default evaluation metric used with the objective 'binary:logistic' was changed from 'error' to 'logloss'. Explicitly set eval_metric if you'd like to restore the old behavior.\n",
      "[CV 3/3; 34/50] END randomforestclassifier__criterion=entropy, randomforestclassifier__n_estimators=185;, score=(train=0.911, test=0.755) total time= 3.2min\n",
      "[CV 1/3; 37/50] START randomforestclassifier__criterion=entropy, randomforestclassifier__n_estimators=242\n",
      "[14:17:18] WARNING: ../src/learner.cc:573: \n",
      "Parameters: { \"label_encoder\", \"randomforestclassifier__criterion\", \"randomforestclassifier__n_estimators\" } might not be used.\n",
      "\n",
      "  This may not be accurate due to some parameters are only used in language bindings but\n",
      "  passed down to XGBoost core.  Or some parameters are not used but slip through this\n",
      "  verification. Please open an issue if you find above cases.\n",
      "\n",
      "\n"
     ]
    },
    {
     "output_type": "stream",
     "name": "stderr",
     "text": [
      "/home/hj/.local/share/virtualenvs/Kickstarter-aZ_5KkIK/lib/python3.9/site-packages/xgboost/sklearn.py:1146: UserWarning: The use of label encoder in XGBClassifier is deprecated and will be removed in a future release. To remove this warning, do the following: 1) Pass option use_label_encoder=False when constructing XGBClassifier object; and 2) Encode your labels (y) as integers starting with 0, i.e. 0, 1, 2, ..., [num_class - 1].\n",
      "  warnings.warn(label_encoder_deprecation_msg, UserWarning)\n"
     ]
    },
    {
     "output_type": "stream",
     "name": "stdout",
     "text": [
      "[CV 2/3; 34/50] END randomforestclassifier__criterion=entropy, randomforestclassifier__n_estimators=185;, score=(train=0.912, test=0.759) total time= 3.3min\n",
      "[CV 2/3; 37/50] START randomforestclassifier__criterion=entropy, randomforestclassifier__n_estimators=242\n"
     ]
    },
    {
     "output_type": "stream",
     "name": "stderr",
     "text": [
      "/home/hj/.local/share/virtualenvs/Kickstarter-aZ_5KkIK/lib/python3.9/site-packages/xgboost/sklearn.py:1146: UserWarning: The use of label encoder in XGBClassifier is deprecated and will be removed in a future release. To remove this warning, do the following: 1) Pass option use_label_encoder=False when constructing XGBClassifier object; and 2) Encode your labels (y) as integers starting with 0, i.e. 0, 1, 2, ..., [num_class - 1].\n",
      "  warnings.warn(label_encoder_deprecation_msg, UserWarning)\n"
     ]
    },
    {
     "output_type": "stream",
     "name": "stdout",
     "text": [
      "[14:17:21] WARNING: ../src/learner.cc:573: \n",
      "Parameters: { \"label_encoder\", \"randomforestclassifier__criterion\", \"randomforestclassifier__n_estimators\" } might not be used.\n",
      "\n",
      "  This may not be accurate due to some parameters are only used in language bindings but\n",
      "  passed down to XGBoost core.  Or some parameters are not used but slip through this\n",
      "  verification. Please open an issue if you find above cases.\n",
      "\n",
      "\n",
      "[14:17:22] WARNING: ../src/learner.cc:1095: Starting in XGBoost 1.3.0, the default evaluation metric used with the objective 'binary:logistic' was changed from 'error' to 'logloss'. Explicitly set eval_metric if you'd like to restore the old behavior.\n",
      "[14:17:25] WARNING: ../src/learner.cc:1095: Starting in XGBoost 1.3.0, the default evaluation metric used with the objective 'binary:logistic' was changed from 'error' to 'logloss'. Explicitly set eval_metric if you'd like to restore the old behavior.\n",
      "[CV 1/3; 35/50] END randomforestclassifier__criterion=entropy, randomforestclassifier__n_estimators=41;, score=(train=0.912, test=0.757) total time= 3.3min\n",
      "[CV 3/3; 37/50] START randomforestclassifier__criterion=entropy, randomforestclassifier__n_estimators=242\n"
     ]
    },
    {
     "output_type": "stream",
     "name": "stderr",
     "text": [
      "/home/hj/.local/share/virtualenvs/Kickstarter-aZ_5KkIK/lib/python3.9/site-packages/xgboost/sklearn.py:1146: UserWarning: The use of label encoder in XGBClassifier is deprecated and will be removed in a future release. To remove this warning, do the following: 1) Pass option use_label_encoder=False when constructing XGBClassifier object; and 2) Encode your labels (y) as integers starting with 0, i.e. 0, 1, 2, ..., [num_class - 1].\n",
      "  warnings.warn(label_encoder_deprecation_msg, UserWarning)\n"
     ]
    },
    {
     "output_type": "stream",
     "name": "stdout",
     "text": [
      "[14:17:35] WARNING: ../src/learner.cc:573: \n",
      "Parameters: { \"label_encoder\", \"randomforestclassifier__criterion\", \"randomforestclassifier__n_estimators\" } might not be used.\n",
      "\n",
      "  This may not be accurate due to some parameters are only used in language bindings but\n",
      "  passed down to XGBoost core.  Or some parameters are not used but slip through this\n",
      "  verification. Please open an issue if you find above cases.\n",
      "\n",
      "\n",
      "[CV 2/3; 35/50] END randomforestclassifier__criterion=entropy, randomforestclassifier__n_estimators=41;, score=(train=0.912, test=0.759) total time= 3.2min\n",
      "[14:17:39] WARNING: ../src/learner.cc:1095: Starting in XGBoost 1.3.0, the default evaluation metric used with the objective 'binary:logistic' was changed from 'error' to 'logloss'. Explicitly set eval_metric if you'd like to restore the old behavior.\n",
      "[CV 1/3; 38/50] START randomforestclassifier__criterion=entropy, randomforestclassifier__n_estimators=284\n",
      "[14:17:40] WARNING: ../src/learner.cc:573: \n",
      "Parameters: { \"label_encoder\", \"randomforestclassifier__criterion\", \"randomforestclassifier__n_estimators\" } might not be used.\n",
      "\n",
      "  This may not be accurate due to some parameters are only used in language bindings but\n",
      "  passed down to XGBoost core.  Or some parameters are not used but slip through this\n",
      "  verification. Please open an issue if you find above cases.\n",
      "\n",
      "\n"
     ]
    },
    {
     "output_type": "stream",
     "name": "stderr",
     "text": [
      "/home/hj/.local/share/virtualenvs/Kickstarter-aZ_5KkIK/lib/python3.9/site-packages/xgboost/sklearn.py:1146: UserWarning: The use of label encoder in XGBClassifier is deprecated and will be removed in a future release. To remove this warning, do the following: 1) Pass option use_label_encoder=False when constructing XGBClassifier object; and 2) Encode your labels (y) as integers starting with 0, i.e. 0, 1, 2, ..., [num_class - 1].\n",
      "  warnings.warn(label_encoder_deprecation_msg, UserWarning)\n"
     ]
    },
    {
     "output_type": "stream",
     "name": "stdout",
     "text": [
      "[14:17:44] WARNING: ../src/learner.cc:1095: Starting in XGBoost 1.3.0, the default evaluation metric used with the objective 'binary:logistic' was changed from 'error' to 'logloss'. Explicitly set eval_metric if you'd like to restore the old behavior.\n",
      "[CV 1/3; 36/50] END randomforestclassifier__criterion=entropy, randomforestclassifier__n_estimators=47;, score=(train=0.912, test=0.757) total time= 3.3min\n"
     ]
    },
    {
     "output_type": "stream",
     "name": "stderr",
     "text": [
      "/home/hj/.local/share/virtualenvs/Kickstarter-aZ_5KkIK/lib/python3.9/site-packages/xgboost/sklearn.py:1146: UserWarning: The use of label encoder in XGBClassifier is deprecated and will be removed in a future release. To remove this warning, do the following: 1) Pass option use_label_encoder=False when constructing XGBClassifier object; and 2) Encode your labels (y) as integers starting with 0, i.e. 0, 1, 2, ..., [num_class - 1].\n",
      "  warnings.warn(label_encoder_deprecation_msg, UserWarning)\n"
     ]
    },
    {
     "output_type": "stream",
     "name": "stdout",
     "text": [
      "[CV 2/3; 38/50] START randomforestclassifier__criterion=entropy, randomforestclassifier__n_estimators=284\n",
      "[14:20:11] WARNING: ../src/learner.cc:573: \n",
      "Parameters: { \"label_encoder\", \"randomforestclassifier__criterion\", \"randomforestclassifier__n_estimators\" } might not be used.\n",
      "\n",
      "  This may not be accurate due to some parameters are only used in language bindings but\n",
      "  passed down to XGBoost core.  Or some parameters are not used but slip through this\n",
      "  verification. Please open an issue if you find above cases.\n",
      "\n",
      "\n",
      "[CV 3/3; 35/50] END randomforestclassifier__criterion=entropy, randomforestclassifier__n_estimators=41;, score=(train=0.911, test=0.755) total time= 3.3min\n",
      "[CV 3/3; 38/50] START randomforestclassifier__criterion=entropy, randomforestclassifier__n_estimators=284\n"
     ]
    },
    {
     "output_type": "stream",
     "name": "stderr",
     "text": [
      "/home/hj/.local/share/virtualenvs/Kickstarter-aZ_5KkIK/lib/python3.9/site-packages/xgboost/sklearn.py:1146: UserWarning: The use of label encoder in XGBClassifier is deprecated and will be removed in a future release. To remove this warning, do the following: 1) Pass option use_label_encoder=False when constructing XGBClassifier object; and 2) Encode your labels (y) as integers starting with 0, i.e. 0, 1, 2, ..., [num_class - 1].\n",
      "  warnings.warn(label_encoder_deprecation_msg, UserWarning)\n"
     ]
    },
    {
     "output_type": "stream",
     "name": "stdout",
     "text": [
      "[14:20:14] WARNING: ../src/learner.cc:573: \n",
      "Parameters: { \"label_encoder\", \"randomforestclassifier__criterion\", \"randomforestclassifier__n_estimators\" } might not be used.\n",
      "\n",
      "  This may not be accurate due to some parameters are only used in language bindings but\n",
      "  passed down to XGBoost core.  Or some parameters are not used but slip through this\n",
      "  verification. Please open an issue if you find above cases.\n",
      "\n",
      "\n",
      "[14:20:15] WARNING: ../src/learner.cc:1095: Starting in XGBoost 1.3.0, the default evaluation metric used with the objective 'binary:logistic' was changed from 'error' to 'logloss'. Explicitly set eval_metric if you'd like to restore the old behavior.\n",
      "[14:20:18] WARNING: ../src/learner.cc:1095: Starting in XGBoost 1.3.0, the default evaluation metric used with the objective 'binary:logistic' was changed from 'error' to 'logloss'. Explicitly set eval_metric if you'd like to restore the old behavior.\n",
      "[CV 3/3; 36/50] END randomforestclassifier__criterion=entropy, randomforestclassifier__n_estimators=47;, score=(train=0.911, test=0.755) total time= 3.4min\n",
      "[CV 1/3; 39/50] START randomforestclassifier__criterion=entropy, randomforestclassifier__n_estimators=13\n",
      "[CV 2/3; 36/50] END randomforestclassifier__criterion=entropy, randomforestclassifier__n_estimators=47;, score=(train=0.912, test=0.759) total time= 3.5min\n"
     ]
    },
    {
     "output_type": "stream",
     "name": "stderr",
     "text": [
      "/home/hj/.local/share/virtualenvs/Kickstarter-aZ_5KkIK/lib/python3.9/site-packages/xgboost/sklearn.py:1146: UserWarning: The use of label encoder in XGBClassifier is deprecated and will be removed in a future release. To remove this warning, do the following: 1) Pass option use_label_encoder=False when constructing XGBClassifier object; and 2) Encode your labels (y) as integers starting with 0, i.e. 0, 1, 2, ..., [num_class - 1].\n",
      "  warnings.warn(label_encoder_deprecation_msg, UserWarning)\n"
     ]
    },
    {
     "output_type": "stream",
     "name": "stdout",
     "text": [
      "[14:20:34] WARNING: ../src/learner.cc:573: \n",
      "Parameters: { \"label_encoder\", \"randomforestclassifier__criterion\", \"randomforestclassifier__n_estimators\" } might not be used.\n",
      "\n",
      "  This may not be accurate due to some parameters are only used in language bindings but\n",
      "  passed down to XGBoost core.  Or some parameters are not used but slip through this\n",
      "  verification. Please open an issue if you find above cases.\n",
      "\n",
      "\n",
      "[CV 2/3; 39/50] START randomforestclassifier__criterion=entropy, randomforestclassifier__n_estimators=13\n"
     ]
    },
    {
     "output_type": "stream",
     "name": "stderr",
     "text": [
      "/home/hj/.local/share/virtualenvs/Kickstarter-aZ_5KkIK/lib/python3.9/site-packages/xgboost/sklearn.py:1146: UserWarning: The use of label encoder in XGBClassifier is deprecated and will be removed in a future release. To remove this warning, do the following: 1) Pass option use_label_encoder=False when constructing XGBClassifier object; and 2) Encode your labels (y) as integers starting with 0, i.e. 0, 1, 2, ..., [num_class - 1].\n",
      "  warnings.warn(label_encoder_deprecation_msg, UserWarning)\n"
     ]
    },
    {
     "output_type": "stream",
     "name": "stdout",
     "text": [
      "[14:20:36] WARNING: ../src/learner.cc:573: \n",
      "Parameters: { \"label_encoder\", \"randomforestclassifier__criterion\", \"randomforestclassifier__n_estimators\" } might not be used.\n",
      "\n",
      "  This may not be accurate due to some parameters are only used in language bindings but\n",
      "  passed down to XGBoost core.  Or some parameters are not used but slip through this\n",
      "  verification. Please open an issue if you find above cases.\n",
      "\n",
      "\n",
      "[14:20:40] WARNING: ../src/learner.cc:1095: Starting in XGBoost 1.3.0, the default evaluation metric used with the objective 'binary:logistic' was changed from 'error' to 'logloss'. Explicitly set eval_metric if you'd like to restore the old behavior.\n",
      "[14:20:40] WARNING: ../src/learner.cc:1095: Starting in XGBoost 1.3.0, the default evaluation metric used with the objective 'binary:logistic' was changed from 'error' to 'logloss'. Explicitly set eval_metric if you'd like to restore the old behavior.\n",
      "[CV 2/3; 37/50] END randomforestclassifier__criterion=entropy, randomforestclassifier__n_estimators=242;, score=(train=0.912, test=0.759) total time= 3.4min\n",
      "[CV 3/3; 39/50] START randomforestclassifier__criterion=entropy, randomforestclassifier__n_estimators=13\n"
     ]
    },
    {
     "output_type": "stream",
     "name": "stderr",
     "text": [
      "/home/hj/.local/share/virtualenvs/Kickstarter-aZ_5KkIK/lib/python3.9/site-packages/xgboost/sklearn.py:1146: UserWarning: The use of label encoder in XGBClassifier is deprecated and will be removed in a future release. To remove this warning, do the following: 1) Pass option use_label_encoder=False when constructing XGBClassifier object; and 2) Encode your labels (y) as integers starting with 0, i.e. 0, 1, 2, ..., [num_class - 1].\n",
      "  warnings.warn(label_encoder_deprecation_msg, UserWarning)\n"
     ]
    },
    {
     "output_type": "stream",
     "name": "stdout",
     "text": [
      "[14:20:49] WARNING: ../src/learner.cc:573: \n",
      "Parameters: { \"label_encoder\", \"randomforestclassifier__criterion\", \"randomforestclassifier__n_estimators\" } might not be used.\n",
      "\n",
      "  This may not be accurate due to some parameters are only used in language bindings but\n",
      "  passed down to XGBoost core.  Or some parameters are not used but slip through this\n",
      "  verification. Please open an issue if you find above cases.\n",
      "\n",
      "\n",
      "[CV 1/3; 37/50] END randomforestclassifier__criterion=entropy, randomforestclassifier__n_estimators=242;, score=(train=0.912, test=0.757) total time= 3.5min\n",
      "[CV 1/3; 40/50] START randomforestclassifier__criterion=entropy, randomforestclassifier__n_estimators=257\n"
     ]
    },
    {
     "output_type": "stream",
     "name": "stderr",
     "text": [
      "/home/hj/.local/share/virtualenvs/Kickstarter-aZ_5KkIK/lib/python3.9/site-packages/xgboost/sklearn.py:1146: UserWarning: The use of label encoder in XGBClassifier is deprecated and will be removed in a future release. To remove this warning, do the following: 1) Pass option use_label_encoder=False when constructing XGBClassifier object; and 2) Encode your labels (y) as integers starting with 0, i.e. 0, 1, 2, ..., [num_class - 1].\n",
      "  warnings.warn(label_encoder_deprecation_msg, UserWarning)\n"
     ]
    },
    {
     "output_type": "stream",
     "name": "stdout",
     "text": [
      "[14:20:51] WARNING: ../src/learner.cc:573: \n",
      "Parameters: { \"label_encoder\", \"randomforestclassifier__criterion\", \"randomforestclassifier__n_estimators\" } might not be used.\n",
      "\n",
      "  This may not be accurate due to some parameters are only used in language bindings but\n",
      "  passed down to XGBoost core.  Or some parameters are not used but slip through this\n",
      "  verification. Please open an issue if you find above cases.\n",
      "\n",
      "\n",
      "[14:20:53] WARNING: ../src/learner.cc:1095: Starting in XGBoost 1.3.0, the default evaluation metric used with the objective 'binary:logistic' was changed from 'error' to 'logloss'. Explicitly set eval_metric if you'd like to restore the old behavior.\n",
      "[14:20:56] WARNING: ../src/learner.cc:1095: Starting in XGBoost 1.3.0, the default evaluation metric used with the objective 'binary:logistic' was changed from 'error' to 'logloss'. Explicitly set eval_metric if you'd like to restore the old behavior.\n",
      "[CV 3/3; 37/50] END randomforestclassifier__criterion=entropy, randomforestclassifier__n_estimators=242;, score=(train=0.911, test=0.755) total time= 3.5min\n"
     ]
    },
    {
     "output_type": "stream",
     "name": "stderr",
     "text": [
      "/home/hj/.local/share/virtualenvs/Kickstarter-aZ_5KkIK/lib/python3.9/site-packages/xgboost/sklearn.py:1146: UserWarning: The use of label encoder in XGBClassifier is deprecated and will be removed in a future release. To remove this warning, do the following: 1) Pass option use_label_encoder=False when constructing XGBClassifier object; and 2) Encode your labels (y) as integers starting with 0, i.e. 0, 1, 2, ..., [num_class - 1].\n",
      "  warnings.warn(label_encoder_deprecation_msg, UserWarning)\n"
     ]
    },
    {
     "output_type": "stream",
     "name": "stdout",
     "text": [
      "[CV 2/3; 40/50] START randomforestclassifier__criterion=entropy, randomforestclassifier__n_estimators=257\n",
      "[14:21:05] WARNING: ../src/learner.cc:573: \n",
      "Parameters: { \"label_encoder\", \"randomforestclassifier__criterion\", \"randomforestclassifier__n_estimators\" } might not be used.\n",
      "\n",
      "  This may not be accurate due to some parameters are only used in language bindings but\n",
      "  passed down to XGBoost core.  Or some parameters are not used but slip through this\n",
      "  verification. Please open an issue if you find above cases.\n",
      "\n",
      "\n",
      "[14:21:10] WARNING: ../src/learner.cc:1095: Starting in XGBoost 1.3.0, the default evaluation metric used with the objective 'binary:logistic' was changed from 'error' to 'logloss'. Explicitly set eval_metric if you'd like to restore the old behavior.\n",
      "[CV 1/3; 38/50] END randomforestclassifier__criterion=entropy, randomforestclassifier__n_estimators=284;, score=(train=0.912, test=0.757) total time= 3.5min\n",
      "[CV 3/3; 40/50] START randomforestclassifier__criterion=entropy, randomforestclassifier__n_estimators=257\n"
     ]
    },
    {
     "output_type": "stream",
     "name": "stderr",
     "text": [
      "/home/hj/.local/share/virtualenvs/Kickstarter-aZ_5KkIK/lib/python3.9/site-packages/xgboost/sklearn.py:1146: UserWarning: The use of label encoder in XGBClassifier is deprecated and will be removed in a future release. To remove this warning, do the following: 1) Pass option use_label_encoder=False when constructing XGBClassifier object; and 2) Encode your labels (y) as integers starting with 0, i.e. 0, 1, 2, ..., [num_class - 1].\n",
      "  warnings.warn(label_encoder_deprecation_msg, UserWarning)\n"
     ]
    },
    {
     "output_type": "stream",
     "name": "stdout",
     "text": [
      "[14:21:14] WARNING: ../src/learner.cc:573: \n",
      "Parameters: { \"label_encoder\", \"randomforestclassifier__criterion\", \"randomforestclassifier__n_estimators\" } might not be used.\n",
      "\n",
      "  This may not be accurate due to some parameters are only used in language bindings but\n",
      "  passed down to XGBoost core.  Or some parameters are not used but slip through this\n",
      "  verification. Please open an issue if you find above cases.\n",
      "\n",
      "\n",
      "[14:21:19] WARNING: ../src/learner.cc:1095: Starting in XGBoost 1.3.0, the default evaluation metric used with the objective 'binary:logistic' was changed from 'error' to 'logloss'. Explicitly set eval_metric if you'd like to restore the old behavior.\n",
      "[CV 2/3; 38/50] END randomforestclassifier__criterion=entropy, randomforestclassifier__n_estimators=284;, score=(train=0.912, test=0.759) total time= 3.5min\n",
      "[CV 1/3; 41/50] START randomforestclassifier__criterion=entropy, randomforestclassifier__n_estimators=190\n",
      "[14:23:43] WARNING: ../src/learner.cc:573: \n",
      "Parameters: { \"label_encoder\", \"randomforestclassifier__criterion\", \"randomforestclassifier__n_estimators\" } might not be used.\n",
      "\n",
      "  This may not be accurate due to some parameters are only used in language bindings but\n",
      "  passed down to XGBoost core.  Or some parameters are not used but slip through this\n",
      "  verification. Please open an issue if you find above cases.\n",
      "\n",
      "\n"
     ]
    },
    {
     "output_type": "stream",
     "name": "stderr",
     "text": [
      "/home/hj/.local/share/virtualenvs/Kickstarter-aZ_5KkIK/lib/python3.9/site-packages/xgboost/sklearn.py:1146: UserWarning: The use of label encoder in XGBClassifier is deprecated and will be removed in a future release. To remove this warning, do the following: 1) Pass option use_label_encoder=False when constructing XGBClassifier object; and 2) Encode your labels (y) as integers starting with 0, i.e. 0, 1, 2, ..., [num_class - 1].\n",
      "  warnings.warn(label_encoder_deprecation_msg, UserWarning)\n"
     ]
    },
    {
     "output_type": "stream",
     "name": "stdout",
     "text": [
      "[CV 3/3; 38/50] END randomforestclassifier__criterion=entropy, randomforestclassifier__n_estimators=284;, score=(train=0.911, test=0.755) total time= 3.5min\n",
      "[14:23:48] WARNING: ../src/learner.cc:1095: Starting in XGBoost 1.3.0, the default evaluation metric used with the objective 'binary:logistic' was changed from 'error' to 'logloss'. Explicitly set eval_metric if you'd like to restore the old behavior.\n",
      "[CV 2/3; 41/50] START randomforestclassifier__criterion=entropy, randomforestclassifier__n_estimators=190\n"
     ]
    },
    {
     "output_type": "stream",
     "name": "stderr",
     "text": [
      "/home/hj/.local/share/virtualenvs/Kickstarter-aZ_5KkIK/lib/python3.9/site-packages/xgboost/sklearn.py:1146: UserWarning: The use of label encoder in XGBClassifier is deprecated and will be removed in a future release. To remove this warning, do the following: 1) Pass option use_label_encoder=False when constructing XGBClassifier object; and 2) Encode your labels (y) as integers starting with 0, i.e. 0, 1, 2, ..., [num_class - 1].\n",
      "  warnings.warn(label_encoder_deprecation_msg, UserWarning)\n"
     ]
    },
    {
     "output_type": "stream",
     "name": "stdout",
     "text": [
      "[14:23:49] WARNING: ../src/learner.cc:573: \n",
      "Parameters: { \"label_encoder\", \"randomforestclassifier__criterion\", \"randomforestclassifier__n_estimators\" } might not be used.\n",
      "\n",
      "  This may not be accurate due to some parameters are only used in language bindings but\n",
      "  passed down to XGBoost core.  Or some parameters are not used but slip through this\n",
      "  verification. Please open an issue if you find above cases.\n",
      "\n",
      "\n",
      "[14:23:53] WARNING: ../src/learner.cc:1095: Starting in XGBoost 1.3.0, the default evaluation metric used with the objective 'binary:logistic' was changed from 'error' to 'logloss'. Explicitly set eval_metric if you'd like to restore the old behavior.\n",
      "[CV 1/3; 39/50] END randomforestclassifier__criterion=entropy, randomforestclassifier__n_estimators=13;, score=(train=0.912, test=0.757) total time= 3.6min\n",
      "[CV 2/3; 39/50] END randomforestclassifier__criterion=entropy, randomforestclassifier__n_estimators=13;, score=(train=0.912, test=0.759) total time= 3.6min\n",
      "[CV 3/3; 41/50] START randomforestclassifier__criterion=entropy, randomforestclassifier__n_estimators=190\n"
     ]
    },
    {
     "output_type": "stream",
     "name": "stderr",
     "text": [
      "/home/hj/.local/share/virtualenvs/Kickstarter-aZ_5KkIK/lib/python3.9/site-packages/xgboost/sklearn.py:1146: UserWarning: The use of label encoder in XGBClassifier is deprecated and will be removed in a future release. To remove this warning, do the following: 1) Pass option use_label_encoder=False when constructing XGBClassifier object; and 2) Encode your labels (y) as integers starting with 0, i.e. 0, 1, 2, ..., [num_class - 1].\n",
      "  warnings.warn(label_encoder_deprecation_msg, UserWarning)\n"
     ]
    },
    {
     "output_type": "stream",
     "name": "stdout",
     "text": [
      "[14:24:12] WARNING: ../src/learner.cc:573: \n",
      "Parameters: { \"label_encoder\", \"randomforestclassifier__criterion\", \"randomforestclassifier__n_estimators\" } might not be used.\n",
      "\n",
      "  This may not be accurate due to some parameters are only used in language bindings but\n",
      "  passed down to XGBoost core.  Or some parameters are not used but slip through this\n",
      "  verification. Please open an issue if you find above cases.\n",
      "\n",
      "\n"
     ]
    },
    {
     "output_type": "stream",
     "name": "stderr",
     "text": [
      "/home/hj/.local/share/virtualenvs/Kickstarter-aZ_5KkIK/lib/python3.9/site-packages/xgboost/sklearn.py:1146: UserWarning: The use of label encoder in XGBClassifier is deprecated and will be removed in a future release. To remove this warning, do the following: 1) Pass option use_label_encoder=False when constructing XGBClassifier object; and 2) Encode your labels (y) as integers starting with 0, i.e. 0, 1, 2, ..., [num_class - 1].\n",
      "  warnings.warn(label_encoder_deprecation_msg, UserWarning)\n"
     ]
    },
    {
     "output_type": "stream",
     "name": "stdout",
     "text": [
      "[CV 1/3; 42/50] START randomforestclassifier__criterion=gini, randomforestclassifier__n_estimators=95\n",
      "[14:24:13] WARNING: ../src/learner.cc:573: \n",
      "Parameters: { \"label_encoder\", \"randomforestclassifier__criterion\", \"randomforestclassifier__n_estimators\" } might not be used.\n",
      "\n",
      "  This may not be accurate due to some parameters are only used in language bindings but\n",
      "  passed down to XGBoost core.  Or some parameters are not used but slip through this\n",
      "  verification. Please open an issue if you find above cases.\n",
      "\n",
      "\n",
      "[14:24:17] WARNING: ../src/learner.cc:1095: Starting in XGBoost 1.3.0, the default evaluation metric used with the objective 'binary:logistic' was changed from 'error' to 'logloss'. Explicitly set eval_metric if you'd like to restore the old behavior.\n",
      "[14:24:17] WARNING: ../src/learner.cc:1095: Starting in XGBoost 1.3.0, the default evaluation metric used with the objective 'binary:logistic' was changed from 'error' to 'logloss'. Explicitly set eval_metric if you'd like to restore the old behavior.\n",
      "[CV 3/3; 39/50] END randomforestclassifier__criterion=entropy, randomforestclassifier__n_estimators=13;, score=(train=0.911, test=0.755) total time= 3.5min\n"
     ]
    },
    {
     "output_type": "stream",
     "name": "stderr",
     "text": [
      "/home/hj/.local/share/virtualenvs/Kickstarter-aZ_5KkIK/lib/python3.9/site-packages/xgboost/sklearn.py:1146: UserWarning: The use of label encoder in XGBClassifier is deprecated and will be removed in a future release. To remove this warning, do the following: 1) Pass option use_label_encoder=False when constructing XGBClassifier object; and 2) Encode your labels (y) as integers starting with 0, i.e. 0, 1, 2, ..., [num_class - 1].\n",
      "  warnings.warn(label_encoder_deprecation_msg, UserWarning)\n"
     ]
    },
    {
     "output_type": "stream",
     "name": "stdout",
     "text": [
      "[CV 2/3; 42/50] START randomforestclassifier__criterion=gini, randomforestclassifier__n_estimators=95\n",
      "[14:24:20] WARNING: ../src/learner.cc:573: \n",
      "Parameters: { \"label_encoder\", \"randomforestclassifier__criterion\", \"randomforestclassifier__n_estimators\" } might not be used.\n",
      "\n",
      "  This may not be accurate due to some parameters are only used in language bindings but\n",
      "  passed down to XGBoost core.  Or some parameters are not used but slip through this\n",
      "  verification. Please open an issue if you find above cases.\n",
      "\n",
      "\n",
      "[CV 1/3; 40/50] END randomforestclassifier__criterion=entropy, randomforestclassifier__n_estimators=257;, score=(train=0.912, test=0.757) total time= 3.5min\n",
      "[CV 3/3; 42/50] START randomforestclassifier__criterion=gini, randomforestclassifier__n_estimators=95\n",
      "[14:24:24] WARNING: ../src/learner.cc:573: \n",
      "Parameters: { \"label_encoder\", \"randomforestclassifier__criterion\", \"randomforestclassifier__n_estimators\" } might not be used.\n",
      "\n",
      "  This may not be accurate due to some parameters are only used in language bindings but\n",
      "  passed down to XGBoost core.  Or some parameters are not used but slip through this\n",
      "  verification. Please open an issue if you find above cases.\n",
      "\n",
      "\n"
     ]
    },
    {
     "output_type": "stream",
     "name": "stderr",
     "text": [
      "/home/hj/.local/share/virtualenvs/Kickstarter-aZ_5KkIK/lib/python3.9/site-packages/xgboost/sklearn.py:1146: UserWarning: The use of label encoder in XGBClassifier is deprecated and will be removed in a future release. To remove this warning, do the following: 1) Pass option use_label_encoder=False when constructing XGBClassifier object; and 2) Encode your labels (y) as integers starting with 0, i.e. 0, 1, 2, ..., [num_class - 1].\n",
      "  warnings.warn(label_encoder_deprecation_msg, UserWarning)\n"
     ]
    },
    {
     "output_type": "stream",
     "name": "stdout",
     "text": [
      "[14:24:24] WARNING: ../src/learner.cc:1095: Starting in XGBoost 1.3.0, the default evaluation metric used with the objective 'binary:logistic' was changed from 'error' to 'logloss'. Explicitly set eval_metric if you'd like to restore the old behavior.\n",
      "[14:24:28] WARNING: ../src/learner.cc:1095: Starting in XGBoost 1.3.0, the default evaluation metric used with the objective 'binary:logistic' was changed from 'error' to 'logloss'. Explicitly set eval_metric if you'd like to restore the old behavior.\n",
      "[CV 2/3; 40/50] END randomforestclassifier__criterion=entropy, randomforestclassifier__n_estimators=257;, score=(train=0.912, test=0.759) total time= 3.5min\n",
      "[CV 1/3; 43/50] START randomforestclassifier__criterion=entropy, randomforestclassifier__n_estimators=228\n",
      "[14:24:39] WARNING: ../src/learner.cc:573: \n",
      "Parameters: { \"label_encoder\", \"randomforestclassifier__criterion\", \"randomforestclassifier__n_estimators\" } might not be used.\n",
      "\n",
      "  This may not be accurate due to some parameters are only used in language bindings but\n",
      "  passed down to XGBoost core.  Or some parameters are not used but slip through this\n",
      "  verification. Please open an issue if you find above cases.\n",
      "\n",
      "\n"
     ]
    },
    {
     "output_type": "stream",
     "name": "stderr",
     "text": [
      "/home/hj/.local/share/virtualenvs/Kickstarter-aZ_5KkIK/lib/python3.9/site-packages/xgboost/sklearn.py:1146: UserWarning: The use of label encoder in XGBClassifier is deprecated and will be removed in a future release. To remove this warning, do the following: 1) Pass option use_label_encoder=False when constructing XGBClassifier object; and 2) Encode your labels (y) as integers starting with 0, i.e. 0, 1, 2, ..., [num_class - 1].\n",
      "  warnings.warn(label_encoder_deprecation_msg, UserWarning)\n"
     ]
    },
    {
     "output_type": "stream",
     "name": "stdout",
     "text": [
      "[14:24:44] WARNING: ../src/learner.cc:1095: Starting in XGBoost 1.3.0, the default evaluation metric used with the objective 'binary:logistic' was changed from 'error' to 'logloss'. Explicitly set eval_metric if you'd like to restore the old behavior.\n",
      "[CV 3/3; 40/50] END randomforestclassifier__criterion=entropy, randomforestclassifier__n_estimators=257;, score=(train=0.911, test=0.755) total time= 3.6min\n"
     ]
    },
    {
     "output_type": "stream",
     "name": "stderr",
     "text": [
      "/home/hj/.local/share/virtualenvs/Kickstarter-aZ_5KkIK/lib/python3.9/site-packages/xgboost/sklearn.py:1146: UserWarning: The use of label encoder in XGBClassifier is deprecated and will be removed in a future release. To remove this warning, do the following: 1) Pass option use_label_encoder=False when constructing XGBClassifier object; and 2) Encode your labels (y) as integers starting with 0, i.e. 0, 1, 2, ..., [num_class - 1].\n",
      "  warnings.warn(label_encoder_deprecation_msg, UserWarning)\n"
     ]
    },
    {
     "output_type": "stream",
     "name": "stdout",
     "text": [
      "[CV 2/3; 43/50] START randomforestclassifier__criterion=entropy, randomforestclassifier__n_estimators=228\n",
      "[14:24:51] WARNING: ../src/learner.cc:573: \n",
      "Parameters: { \"label_encoder\", \"randomforestclassifier__criterion\", \"randomforestclassifier__n_estimators\" } might not be used.\n",
      "\n",
      "  This may not be accurate due to some parameters are only used in language bindings but\n",
      "  passed down to XGBoost core.  Or some parameters are not used but slip through this\n",
      "  verification. Please open an issue if you find above cases.\n",
      "\n",
      "\n",
      "[14:24:55] WARNING: ../src/learner.cc:1095: Starting in XGBoost 1.3.0, the default evaluation metric used with the objective 'binary:logistic' was changed from 'error' to 'logloss'. Explicitly set eval_metric if you'd like to restore the old behavior.\n",
      "[CV 1/3; 41/50] END randomforestclassifier__criterion=entropy, randomforestclassifier__n_estimators=190;, score=(train=0.912, test=0.757) total time= 3.2min\n",
      "[CV 3/3; 43/50] START randomforestclassifier__criterion=entropy, randomforestclassifier__n_estimators=228\n",
      "[14:27:00] WARNING: ../src/learner.cc:573: \n",
      "Parameters: { \"label_encoder\", \"randomforestclassifier__criterion\", \"randomforestclassifier__n_estimators\" } might not be used.\n",
      "\n",
      "  This may not be accurate due to some parameters are only used in language bindings but\n",
      "  passed down to XGBoost core.  Or some parameters are not used but slip through this\n",
      "  verification. Please open an issue if you find above cases.\n",
      "\n",
      "\n"
     ]
    },
    {
     "output_type": "stream",
     "name": "stderr",
     "text": [
      "/home/hj/.local/share/virtualenvs/Kickstarter-aZ_5KkIK/lib/python3.9/site-packages/xgboost/sklearn.py:1146: UserWarning: The use of label encoder in XGBClassifier is deprecated and will be removed in a future release. To remove this warning, do the following: 1) Pass option use_label_encoder=False when constructing XGBClassifier object; and 2) Encode your labels (y) as integers starting with 0, i.e. 0, 1, 2, ..., [num_class - 1].\n",
      "  warnings.warn(label_encoder_deprecation_msg, UserWarning)\n"
     ]
    },
    {
     "output_type": "stream",
     "name": "stdout",
     "text": [
      "[CV 2/3; 41/50] END randomforestclassifier__criterion=entropy, randomforestclassifier__n_estimators=190;, score=(train=0.912, test=0.759) total time= 3.2min\n",
      "[14:27:04] WARNING: ../src/learner.cc:1095: Starting in XGBoost 1.3.0, the default evaluation metric used with the objective 'binary:logistic' was changed from 'error' to 'logloss'. Explicitly set eval_metric if you'd like to restore the old behavior.\n"
     ]
    },
    {
     "output_type": "stream",
     "name": "stderr",
     "text": [
      "/home/hj/.local/share/virtualenvs/Kickstarter-aZ_5KkIK/lib/python3.9/site-packages/xgboost/sklearn.py:1146: UserWarning: The use of label encoder in XGBClassifier is deprecated and will be removed in a future release. To remove this warning, do the following: 1) Pass option use_label_encoder=False when constructing XGBClassifier object; and 2) Encode your labels (y) as integers starting with 0, i.e. 0, 1, 2, ..., [num_class - 1].\n",
      "  warnings.warn(label_encoder_deprecation_msg, UserWarning)\n"
     ]
    },
    {
     "output_type": "stream",
     "name": "stdout",
     "text": [
      "[CV 1/3; 44/50] START randomforestclassifier__criterion=gini, randomforestclassifier__n_estimators=205\n",
      "[14:27:06] WARNING: ../src/learner.cc:573: \n",
      "Parameters: { \"label_encoder\", \"randomforestclassifier__criterion\", \"randomforestclassifier__n_estimators\" } might not be used.\n",
      "\n",
      "  This may not be accurate due to some parameters are only used in language bindings but\n",
      "  passed down to XGBoost core.  Or some parameters are not used but slip through this\n",
      "  verification. Please open an issue if you find above cases.\n",
      "\n",
      "\n",
      "[14:27:09] WARNING: ../src/learner.cc:1095: Starting in XGBoost 1.3.0, the default evaluation metric used with the objective 'binary:logistic' was changed from 'error' to 'logloss'. Explicitly set eval_metric if you'd like to restore the old behavior.\n",
      "[CV 1/3; 42/50] END randomforestclassifier__criterion=gini, randomforestclassifier__n_estimators=95;, score=(train=0.912, test=0.757) total time= 3.1min\n",
      "[CV 3/3; 41/50] END randomforestclassifier__criterion=entropy, randomforestclassifier__n_estimators=190;, score=(train=0.911, test=0.755) total time= 3.1min\n",
      "[CV 2/3; 44/50] START randomforestclassifier__criterion=gini, randomforestclassifier__n_estimators=205\n",
      "[14:27:23] WARNING: ../src/learner.cc:573: \n",
      "Parameters: { \"label_encoder\", \"randomforestclassifier__criterion\", \"randomforestclassifier__n_estimators\" } might not be used.\n",
      "\n",
      "  This may not be accurate due to some parameters are only used in language bindings but\n",
      "  passed down to XGBoost core.  Or some parameters are not used but slip through this\n",
      "  verification. Please open an issue if you find above cases.\n",
      "\n",
      "\n"
     ]
    },
    {
     "output_type": "stream",
     "name": "stderr",
     "text": [
      "/home/hj/.local/share/virtualenvs/Kickstarter-aZ_5KkIK/lib/python3.9/site-packages/xgboost/sklearn.py:1146: UserWarning: The use of label encoder in XGBClassifier is deprecated and will be removed in a future release. To remove this warning, do the following: 1) Pass option use_label_encoder=False when constructing XGBClassifier object; and 2) Encode your labels (y) as integers starting with 0, i.e. 0, 1, 2, ..., [num_class - 1].\n",
      "  warnings.warn(label_encoder_deprecation_msg, UserWarning)\n",
      "/home/hj/.local/share/virtualenvs/Kickstarter-aZ_5KkIK/lib/python3.9/site-packages/xgboost/sklearn.py:1146: UserWarning: The use of label encoder in XGBClassifier is deprecated and will be removed in a future release. To remove this warning, do the following: 1) Pass option use_label_encoder=False when constructing XGBClassifier object; and 2) Encode your labels (y) as integers starting with 0, i.e. 0, 1, 2, ..., [num_class - 1].\n",
      "  warnings.warn(label_encoder_deprecation_msg, UserWarning)\n"
     ]
    },
    {
     "output_type": "stream",
     "name": "stdout",
     "text": [
      "[CV 3/3; 44/50] START randomforestclassifier__criterion=gini, randomforestclassifier__n_estimators=205\n",
      "[14:27:25] WARNING: ../src/learner.cc:573: \n",
      "Parameters: { \"label_encoder\", \"randomforestclassifier__criterion\", \"randomforestclassifier__n_estimators\" } might not be used.\n",
      "\n",
      "  This may not be accurate due to some parameters are only used in language bindings but\n",
      "  passed down to XGBoost core.  Or some parameters are not used but slip through this\n",
      "  verification. Please open an issue if you find above cases.\n",
      "\n",
      "\n",
      "[14:27:26] WARNING: ../src/learner.cc:1095: Starting in XGBoost 1.3.0, the default evaluation metric used with the objective 'binary:logistic' was changed from 'error' to 'logloss'. Explicitly set eval_metric if you'd like to restore the old behavior.\n",
      "[CV 2/3; 42/50] END randomforestclassifier__criterion=gini, randomforestclassifier__n_estimators=95;, score=(train=0.912, test=0.759) total time= 3.1min\n",
      "[14:27:29] WARNING: ../src/learner.cc:1095: Starting in XGBoost 1.3.0, the default evaluation metric used with the objective 'binary:logistic' was changed from 'error' to 'logloss'. Explicitly set eval_metric if you'd like to restore the old behavior.\n",
      "[CV 1/3; 45/50] START randomforestclassifier__criterion=gini, randomforestclassifier__n_estimators=194\n"
     ]
    },
    {
     "output_type": "stream",
     "name": "stderr",
     "text": [
      "/home/hj/.local/share/virtualenvs/Kickstarter-aZ_5KkIK/lib/python3.9/site-packages/xgboost/sklearn.py:1146: UserWarning: The use of label encoder in XGBClassifier is deprecated and will be removed in a future release. To remove this warning, do the following: 1) Pass option use_label_encoder=False when constructing XGBClassifier object; and 2) Encode your labels (y) as integers starting with 0, i.e. 0, 1, 2, ..., [num_class - 1].\n",
      "  warnings.warn(label_encoder_deprecation_msg, UserWarning)\n"
     ]
    },
    {
     "output_type": "stream",
     "name": "stdout",
     "text": [
      "[14:27:30] WARNING: ../src/learner.cc:573: \n",
      "Parameters: { \"label_encoder\", \"randomforestclassifier__criterion\", \"randomforestclassifier__n_estimators\" } might not be used.\n",
      "\n",
      "  This may not be accurate due to some parameters are only used in language bindings but\n",
      "  passed down to XGBoost core.  Or some parameters are not used but slip through this\n",
      "  verification. Please open an issue if you find above cases.\n",
      "\n",
      "\n",
      "[14:27:34] WARNING: ../src/learner.cc:1095: Starting in XGBoost 1.3.0, the default evaluation metric used with the objective 'binary:logistic' was changed from 'error' to 'logloss'. Explicitly set eval_metric if you'd like to restore the old behavior.\n",
      "[CV 3/3; 42/50] END randomforestclassifier__criterion=gini, randomforestclassifier__n_estimators=95;, score=(train=0.911, test=0.755) total time= 3.2min\n",
      "[CV 2/3; 45/50] START randomforestclassifier__criterion=gini, randomforestclassifier__n_estimators=194\n",
      "[14:27:38] WARNING: ../src/learner.cc:573: \n",
      "Parameters: { \"label_encoder\", \"randomforestclassifier__criterion\", \"randomforestclassifier__n_estimators\" } might not be used.\n",
      "\n",
      "  This may not be accurate due to some parameters are only used in language bindings but\n",
      "  passed down to XGBoost core.  Or some parameters are not used but slip through this\n",
      "  verification. Please open an issue if you find above cases.\n",
      "\n",
      "\n"
     ]
    },
    {
     "output_type": "stream",
     "name": "stderr",
     "text": [
      "/home/hj/.local/share/virtualenvs/Kickstarter-aZ_5KkIK/lib/python3.9/site-packages/xgboost/sklearn.py:1146: UserWarning: The use of label encoder in XGBClassifier is deprecated and will be removed in a future release. To remove this warning, do the following: 1) Pass option use_label_encoder=False when constructing XGBClassifier object; and 2) Encode your labels (y) as integers starting with 0, i.e. 0, 1, 2, ..., [num_class - 1].\n",
      "  warnings.warn(label_encoder_deprecation_msg, UserWarning)\n"
     ]
    },
    {
     "output_type": "stream",
     "name": "stdout",
     "text": [
      "[14:27:41] WARNING: ../src/learner.cc:1095: Starting in XGBoost 1.3.0, the default evaluation metric used with the objective 'binary:logistic' was changed from 'error' to 'logloss'. Explicitly set eval_metric if you'd like to restore the old behavior.\n",
      "[CV 1/3; 43/50] END randomforestclassifier__criterion=entropy, randomforestclassifier__n_estimators=228;, score=(train=0.912, test=0.757) total time= 3.1min\n",
      "[CV 3/3; 45/50] START randomforestclassifier__criterion=gini, randomforestclassifier__n_estimators=194\n"
     ]
    },
    {
     "output_type": "stream",
     "name": "stderr",
     "text": [
      "/home/hj/.local/share/virtualenvs/Kickstarter-aZ_5KkIK/lib/python3.9/site-packages/xgboost/sklearn.py:1146: UserWarning: The use of label encoder in XGBClassifier is deprecated and will be removed in a future release. To remove this warning, do the following: 1) Pass option use_label_encoder=False when constructing XGBClassifier object; and 2) Encode your labels (y) as integers starting with 0, i.e. 0, 1, 2, ..., [num_class - 1].\n",
      "  warnings.warn(label_encoder_deprecation_msg, UserWarning)\n"
     ]
    },
    {
     "output_type": "stream",
     "name": "stdout",
     "text": [
      "[14:27:47] WARNING: ../src/learner.cc:573: \n",
      "Parameters: { \"label_encoder\", \"randomforestclassifier__criterion\", \"randomforestclassifier__n_estimators\" } might not be used.\n",
      "\n",
      "  This may not be accurate due to some parameters are only used in language bindings but\n",
      "  passed down to XGBoost core.  Or some parameters are not used but slip through this\n",
      "  verification. Please open an issue if you find above cases.\n",
      "\n",
      "\n",
      "[14:27:51] WARNING: ../src/learner.cc:1095: Starting in XGBoost 1.3.0, the default evaluation metric used with the objective 'binary:logistic' was changed from 'error' to 'logloss'. Explicitly set eval_metric if you'd like to restore the old behavior.\n",
      "[CV 2/3; 43/50] END randomforestclassifier__criterion=entropy, randomforestclassifier__n_estimators=228;, score=(train=0.912, test=0.759) total time= 3.1min\n",
      "[CV 1/3; 46/50] START randomforestclassifier__criterion=entropy, randomforestclassifier__n_estimators=298\n"
     ]
    },
    {
     "output_type": "stream",
     "name": "stderr",
     "text": [
      "/home/hj/.local/share/virtualenvs/Kickstarter-aZ_5KkIK/lib/python3.9/site-packages/xgboost/sklearn.py:1146: UserWarning: The use of label encoder in XGBClassifier is deprecated and will be removed in a future release. To remove this warning, do the following: 1) Pass option use_label_encoder=False when constructing XGBClassifier object; and 2) Encode your labels (y) as integers starting with 0, i.e. 0, 1, 2, ..., [num_class - 1].\n",
      "  warnings.warn(label_encoder_deprecation_msg, UserWarning)\n"
     ]
    },
    {
     "output_type": "stream",
     "name": "stdout",
     "text": [
      "[14:27:59] WARNING: ../src/learner.cc:573: \n",
      "Parameters: { \"label_encoder\", \"randomforestclassifier__criterion\", \"randomforestclassifier__n_estimators\" } might not be used.\n",
      "\n",
      "  This may not be accurate due to some parameters are only used in language bindings but\n",
      "  passed down to XGBoost core.  Or some parameters are not used but slip through this\n",
      "  verification. Please open an issue if you find above cases.\n",
      "\n",
      "\n",
      "[14:28:03] WARNING: ../src/learner.cc:1095: Starting in XGBoost 1.3.0, the default evaluation metric used with the objective 'binary:logistic' was changed from 'error' to 'logloss'. Explicitly set eval_metric if you'd like to restore the old behavior.\n",
      "[CV 3/3; 43/50] END randomforestclassifier__criterion=entropy, randomforestclassifier__n_estimators=228;, score=(train=0.911, test=0.755) total time= 3.0min\n",
      "[CV 2/3; 46/50] START randomforestclassifier__criterion=entropy, randomforestclassifier__n_estimators=298\n",
      "[14:30:03] WARNING: ../src/learner.cc:573: \n",
      "Parameters: { \"label_encoder\", \"randomforestclassifier__criterion\", \"randomforestclassifier__n_estimators\" } might not be used.\n",
      "\n",
      "  This may not be accurate due to some parameters are only used in language bindings but\n",
      "  passed down to XGBoost core.  Or some parameters are not used but slip through this\n",
      "  verification. Please open an issue if you find above cases.\n",
      "\n",
      "\n"
     ]
    },
    {
     "output_type": "stream",
     "name": "stderr",
     "text": [
      "/home/hj/.local/share/virtualenvs/Kickstarter-aZ_5KkIK/lib/python3.9/site-packages/xgboost/sklearn.py:1146: UserWarning: The use of label encoder in XGBClassifier is deprecated and will be removed in a future release. To remove this warning, do the following: 1) Pass option use_label_encoder=False when constructing XGBClassifier object; and 2) Encode your labels (y) as integers starting with 0, i.e. 0, 1, 2, ..., [num_class - 1].\n",
      "  warnings.warn(label_encoder_deprecation_msg, UserWarning)\n"
     ]
    },
    {
     "output_type": "stream",
     "name": "stdout",
     "text": [
      "[CV 1/3; 44/50] END randomforestclassifier__criterion=gini, randomforestclassifier__n_estimators=205;, score=(train=0.912, test=0.757) total time= 3.0min\n",
      "[CV 3/3; 46/50] START randomforestclassifier__criterion=entropy, randomforestclassifier__n_estimators=298\n"
     ]
    },
    {
     "output_type": "stream",
     "name": "stderr",
     "text": [
      "/home/hj/.local/share/virtualenvs/Kickstarter-aZ_5KkIK/lib/python3.9/site-packages/xgboost/sklearn.py:1146: UserWarning: The use of label encoder in XGBClassifier is deprecated and will be removed in a future release. To remove this warning, do the following: 1) Pass option use_label_encoder=False when constructing XGBClassifier object; and 2) Encode your labels (y) as integers starting with 0, i.e. 0, 1, 2, ..., [num_class - 1].\n",
      "  warnings.warn(label_encoder_deprecation_msg, UserWarning)\n"
     ]
    },
    {
     "output_type": "stream",
     "name": "stdout",
     "text": [
      "[14:30:07] WARNING: ../src/learner.cc:573: \n",
      "Parameters: { \"label_encoder\", \"randomforestclassifier__criterion\", \"randomforestclassifier__n_estimators\" } might not be used.\n",
      "\n",
      "  This may not be accurate due to some parameters are only used in language bindings but\n",
      "  passed down to XGBoost core.  Or some parameters are not used but slip through this\n",
      "  verification. Please open an issue if you find above cases.\n",
      "\n",
      "\n",
      "[14:30:08] WARNING: ../src/learner.cc:1095: Starting in XGBoost 1.3.0, the default evaluation metric used with the objective 'binary:logistic' was changed from 'error' to 'logloss'. Explicitly set eval_metric if you'd like to restore the old behavior.\n",
      "[14:30:12] WARNING: ../src/learner.cc:1095: Starting in XGBoost 1.3.0, the default evaluation metric used with the objective 'binary:logistic' was changed from 'error' to 'logloss'. Explicitly set eval_metric if you'd like to restore the old behavior.\n",
      "[CV 3/3; 44/50] END randomforestclassifier__criterion=gini, randomforestclassifier__n_estimators=205;, score=(train=0.911, test=0.755) total time= 3.0min\n",
      "[CV 1/3; 47/50] START randomforestclassifier__criterion=gini, randomforestclassifier__n_estimators=61\n"
     ]
    },
    {
     "output_type": "stream",
     "name": "stderr",
     "text": [
      "/home/hj/.local/share/virtualenvs/Kickstarter-aZ_5KkIK/lib/python3.9/site-packages/xgboost/sklearn.py:1146: UserWarning: The use of label encoder in XGBClassifier is deprecated and will be removed in a future release. To remove this warning, do the following: 1) Pass option use_label_encoder=False when constructing XGBClassifier object; and 2) Encode your labels (y) as integers starting with 0, i.e. 0, 1, 2, ..., [num_class - 1].\n",
      "  warnings.warn(label_encoder_deprecation_msg, UserWarning)\n"
     ]
    },
    {
     "output_type": "stream",
     "name": "stdout",
     "text": [
      "[14:30:27] WARNING: ../src/learner.cc:573: \n",
      "Parameters: { \"label_encoder\", \"randomforestclassifier__criterion\", \"randomforestclassifier__n_estimators\" } might not be used.\n",
      "\n",
      "  This may not be accurate due to some parameters are only used in language bindings but\n",
      "  passed down to XGBoost core.  Or some parameters are not used but slip through this\n",
      "  verification. Please open an issue if you find above cases.\n",
      "\n",
      "\n",
      "[CV 2/3; 44/50] END randomforestclassifier__criterion=gini, randomforestclassifier__n_estimators=205;, score=(train=0.912, test=0.759) total time= 3.1min\n",
      "[14:30:31] WARNING: ../src/learner.cc:1095: Starting in XGBoost 1.3.0, the default evaluation metric used with the objective 'binary:logistic' was changed from 'error' to 'logloss'. Explicitly set eval_metric if you'd like to restore the old behavior.\n"
     ]
    },
    {
     "output_type": "stream",
     "name": "stderr",
     "text": [
      "/home/hj/.local/share/virtualenvs/Kickstarter-aZ_5KkIK/lib/python3.9/site-packages/xgboost/sklearn.py:1146: UserWarning: The use of label encoder in XGBClassifier is deprecated and will be removed in a future release. To remove this warning, do the following: 1) Pass option use_label_encoder=False when constructing XGBClassifier object; and 2) Encode your labels (y) as integers starting with 0, i.e. 0, 1, 2, ..., [num_class - 1].\n",
      "  warnings.warn(label_encoder_deprecation_msg, UserWarning)\n"
     ]
    },
    {
     "output_type": "stream",
     "name": "stdout",
     "text": [
      "[CV 2/3; 47/50] START randomforestclassifier__criterion=gini, randomforestclassifier__n_estimators=61\n",
      "[14:30:32] WARNING: ../src/learner.cc:573: \n",
      "Parameters: { \"label_encoder\", \"randomforestclassifier__criterion\", \"randomforestclassifier__n_estimators\" } might not be used.\n",
      "\n",
      "  This may not be accurate due to some parameters are only used in language bindings but\n",
      "  passed down to XGBoost core.  Or some parameters are not used but slip through this\n",
      "  verification. Please open an issue if you find above cases.\n",
      "\n",
      "\n",
      "[14:30:36] WARNING: ../src/learner.cc:1095: Starting in XGBoost 1.3.0, the default evaluation metric used with the objective 'binary:logistic' was changed from 'error' to 'logloss'. Explicitly set eval_metric if you'd like to restore the old behavior.\n",
      "[CV 1/3; 45/50] END randomforestclassifier__criterion=gini, randomforestclassifier__n_estimators=194;, score=(train=0.912, test=0.757) total time= 3.1min\n",
      "[CV 3/3; 47/50] START randomforestclassifier__criterion=gini, randomforestclassifier__n_estimators=61\n",
      "[14:30:40] WARNING: ../src/learner.cc:573: \n",
      "Parameters: { \"label_encoder\", \"randomforestclassifier__criterion\", \"randomforestclassifier__n_estimators\" } might not be used.\n",
      "\n",
      "  This may not be accurate due to some parameters are only used in language bindings but\n",
      "  passed down to XGBoost core.  Or some parameters are not used but slip through this\n",
      "  verification. Please open an issue if you find above cases.\n",
      "\n",
      "\n"
     ]
    },
    {
     "output_type": "stream",
     "name": "stderr",
     "text": [
      "/home/hj/.local/share/virtualenvs/Kickstarter-aZ_5KkIK/lib/python3.9/site-packages/xgboost/sklearn.py:1146: UserWarning: The use of label encoder in XGBClassifier is deprecated and will be removed in a future release. To remove this warning, do the following: 1) Pass option use_label_encoder=False when constructing XGBClassifier object; and 2) Encode your labels (y) as integers starting with 0, i.e. 0, 1, 2, ..., [num_class - 1].\n",
      "  warnings.warn(label_encoder_deprecation_msg, UserWarning)\n"
     ]
    },
    {
     "output_type": "stream",
     "name": "stdout",
     "text": [
      "[CV 2/3; 45/50] END randomforestclassifier__criterion=gini, randomforestclassifier__n_estimators=194;, score=(train=0.912, test=0.759) total time= 3.0min\n",
      "[CV 1/3; 48/50] START randomforestclassifier__criterion=entropy, randomforestclassifier__n_estimators=12\n",
      "[14:30:42] WARNING: ../src/learner.cc:573: \n",
      "Parameters: { \"label_encoder\", \"randomforestclassifier__criterion\", \"randomforestclassifier__n_estimators\" } might not be used.\n",
      "\n",
      "  This may not be accurate due to some parameters are only used in language bindings but\n",
      "  passed down to XGBoost core.  Or some parameters are not used but slip through this\n",
      "  verification. Please open an issue if you find above cases.\n",
      "\n",
      "\n"
     ]
    },
    {
     "output_type": "stream",
     "name": "stderr",
     "text": [
      "/home/hj/.local/share/virtualenvs/Kickstarter-aZ_5KkIK/lib/python3.9/site-packages/xgboost/sklearn.py:1146: UserWarning: The use of label encoder in XGBClassifier is deprecated and will be removed in a future release. To remove this warning, do the following: 1) Pass option use_label_encoder=False when constructing XGBClassifier object; and 2) Encode your labels (y) as integers starting with 0, i.e. 0, 1, 2, ..., [num_class - 1].\n",
      "  warnings.warn(label_encoder_deprecation_msg, UserWarning)\n"
     ]
    },
    {
     "output_type": "stream",
     "name": "stdout",
     "text": [
      "[14:30:45] WARNING: ../src/learner.cc:1095: Starting in XGBoost 1.3.0, the default evaluation metric used with the objective 'binary:logistic' was changed from 'error' to 'logloss'. Explicitly set eval_metric if you'd like to restore the old behavior.\n",
      "[14:30:47] WARNING: ../src/learner.cc:1095: Starting in XGBoost 1.3.0, the default evaluation metric used with the objective 'binary:logistic' was changed from 'error' to 'logloss'. Explicitly set eval_metric if you'd like to restore the old behavior.\n",
      "[CV 3/3; 45/50] END randomforestclassifier__criterion=gini, randomforestclassifier__n_estimators=194;, score=(train=0.911, test=0.755) total time= 3.3min\n",
      "[CV 2/3; 48/50] START randomforestclassifier__criterion=entropy, randomforestclassifier__n_estimators=12\n",
      "[14:31:06] WARNING: ../src/learner.cc:573: \n",
      "Parameters: { \"label_encoder\", \"randomforestclassifier__criterion\", \"randomforestclassifier__n_estimators\" } might not be used.\n",
      "\n",
      "  This may not be accurate due to some parameters are only used in language bindings but\n",
      "  passed down to XGBoost core.  Or some parameters are not used but slip through this\n",
      "  verification. Please open an issue if you find above cases.\n",
      "\n",
      "\n"
     ]
    },
    {
     "output_type": "stream",
     "name": "stderr",
     "text": [
      "/home/hj/.local/share/virtualenvs/Kickstarter-aZ_5KkIK/lib/python3.9/site-packages/xgboost/sklearn.py:1146: UserWarning: The use of label encoder in XGBClassifier is deprecated and will be removed in a future release. To remove this warning, do the following: 1) Pass option use_label_encoder=False when constructing XGBClassifier object; and 2) Encode your labels (y) as integers starting with 0, i.e. 0, 1, 2, ..., [num_class - 1].\n",
      "  warnings.warn(label_encoder_deprecation_msg, UserWarning)\n"
     ]
    },
    {
     "output_type": "stream",
     "name": "stdout",
     "text": [
      "[CV 1/3; 46/50] END randomforestclassifier__criterion=entropy, randomforestclassifier__n_estimators=298;, score=(train=0.912, test=0.757) total time= 3.2min\n",
      "[CV 3/3; 48/50] START randomforestclassifier__criterion=entropy, randomforestclassifier__n_estimators=12\n",
      "[14:31:10] WARNING: ../src/learner.cc:573: \n",
      "Parameters: { \"label_encoder\", \"randomforestclassifier__criterion\", \"randomforestclassifier__n_estimators\" } might not be used.\n",
      "\n",
      "  This may not be accurate due to some parameters are only used in language bindings but\n",
      "  passed down to XGBoost core.  Or some parameters are not used but slip through this\n",
      "  verification. Please open an issue if you find above cases.\n",
      "\n",
      "\n",
      "[14:31:10] WARNING: ../src/learner.cc:1095: Starting in XGBoost 1.3.0, the default evaluation metric used with the objective 'binary:logistic' was changed from 'error' to 'logloss'. Explicitly set eval_metric if you'd like to restore the old behavior.\n"
     ]
    },
    {
     "output_type": "stream",
     "name": "stderr",
     "text": [
      "/home/hj/.local/share/virtualenvs/Kickstarter-aZ_5KkIK/lib/python3.9/site-packages/xgboost/sklearn.py:1146: UserWarning: The use of label encoder in XGBClassifier is deprecated and will be removed in a future release. To remove this warning, do the following: 1) Pass option use_label_encoder=False when constructing XGBClassifier object; and 2) Encode your labels (y) as integers starting with 0, i.e. 0, 1, 2, ..., [num_class - 1].\n",
      "  warnings.warn(label_encoder_deprecation_msg, UserWarning)\n"
     ]
    },
    {
     "output_type": "stream",
     "name": "stdout",
     "text": [
      "[14:31:14] WARNING: ../src/learner.cc:1095: Starting in XGBoost 1.3.0, the default evaluation metric used with the objective 'binary:logistic' was changed from 'error' to 'logloss'. Explicitly set eval_metric if you'd like to restore the old behavior.\n",
      "[CV 2/3; 46/50] END randomforestclassifier__criterion=entropy, randomforestclassifier__n_estimators=298;, score=(train=0.912, test=0.759) total time= 3.2min\n",
      "[CV 1/3; 49/50] START randomforestclassifier__criterion=gini, randomforestclassifier__n_estimators=147\n"
     ]
    },
    {
     "output_type": "stream",
     "name": "stderr",
     "text": [
      "/home/hj/.local/share/virtualenvs/Kickstarter-aZ_5KkIK/lib/python3.9/site-packages/xgboost/sklearn.py:1146: UserWarning: The use of label encoder in XGBClassifier is deprecated and will be removed in a future release. To remove this warning, do the following: 1) Pass option use_label_encoder=False when constructing XGBClassifier object; and 2) Encode your labels (y) as integers starting with 0, i.e. 0, 1, 2, ..., [num_class - 1].\n",
      "  warnings.warn(label_encoder_deprecation_msg, UserWarning)\n"
     ]
    },
    {
     "output_type": "stream",
     "name": "stdout",
     "text": [
      "[14:33:16] WARNING: ../src/learner.cc:573: \n",
      "Parameters: { \"label_encoder\", \"randomforestclassifier__criterion\", \"randomforestclassifier__n_estimators\" } might not be used.\n",
      "\n",
      "  This may not be accurate due to some parameters are only used in language bindings but\n",
      "  passed down to XGBoost core.  Or some parameters are not used but slip through this\n",
      "  verification. Please open an issue if you find above cases.\n",
      "\n",
      "\n",
      "[14:33:20] WARNING: ../src/learner.cc:1095: Starting in XGBoost 1.3.0, the default evaluation metric used with the objective 'binary:logistic' was changed from 'error' to 'logloss'. Explicitly set eval_metric if you'd like to restore the old behavior.\n",
      "[CV 3/3; 46/50] END randomforestclassifier__criterion=entropy, randomforestclassifier__n_estimators=298;, score=(train=0.911, test=0.755) total time= 3.4min\n",
      "[CV 2/3; 49/50] START randomforestclassifier__criterion=gini, randomforestclassifier__n_estimators=147\n",
      "[14:33:31] WARNING: ../src/learner.cc:573: \n",
      "Parameters: { \"label_encoder\", \"randomforestclassifier__criterion\", \"randomforestclassifier__n_estimators\" } might not be used.\n",
      "\n",
      "  This may not be accurate due to some parameters are only used in language bindings but\n",
      "  passed down to XGBoost core.  Or some parameters are not used but slip through this\n",
      "  verification. Please open an issue if you find above cases.\n",
      "\n",
      "\n"
     ]
    },
    {
     "output_type": "stream",
     "name": "stderr",
     "text": [
      "/home/hj/.local/share/virtualenvs/Kickstarter-aZ_5KkIK/lib/python3.9/site-packages/xgboost/sklearn.py:1146: UserWarning: The use of label encoder in XGBClassifier is deprecated and will be removed in a future release. To remove this warning, do the following: 1) Pass option use_label_encoder=False when constructing XGBClassifier object; and 2) Encode your labels (y) as integers starting with 0, i.e. 0, 1, 2, ..., [num_class - 1].\n",
      "  warnings.warn(label_encoder_deprecation_msg, UserWarning)\n"
     ]
    },
    {
     "output_type": "stream",
     "name": "stdout",
     "text": [
      "[14:33:35] WARNING: ../src/learner.cc:1095: Starting in XGBoost 1.3.0, the default evaluation metric used with the objective 'binary:logistic' was changed from 'error' to 'logloss'. Explicitly set eval_metric if you'd like to restore the old behavior.\n",
      "[CV 1/3; 47/50] END randomforestclassifier__criterion=gini, randomforestclassifier__n_estimators=61;, score=(train=0.912, test=0.757) total time= 3.3min\n",
      "[CV 3/3; 49/50] START randomforestclassifier__criterion=gini, randomforestclassifier__n_estimators=147\n",
      "[14:33:47] WARNING: ../src/learner.cc:573: \n",
      "Parameters: { \"label_encoder\", \"randomforestclassifier__criterion\", \"randomforestclassifier__n_estimators\" } might not be used.\n",
      "\n",
      "  This may not be accurate due to some parameters are only used in language bindings but\n",
      "  passed down to XGBoost core.  Or some parameters are not used but slip through this\n",
      "  verification. Please open an issue if you find above cases.\n",
      "\n",
      "\n"
     ]
    },
    {
     "output_type": "stream",
     "name": "stderr",
     "text": [
      "/home/hj/.local/share/virtualenvs/Kickstarter-aZ_5KkIK/lib/python3.9/site-packages/xgboost/sklearn.py:1146: UserWarning: The use of label encoder in XGBClassifier is deprecated and will be removed in a future release. To remove this warning, do the following: 1) Pass option use_label_encoder=False when constructing XGBClassifier object; and 2) Encode your labels (y) as integers starting with 0, i.e. 0, 1, 2, ..., [num_class - 1].\n",
      "  warnings.warn(label_encoder_deprecation_msg, UserWarning)\n"
     ]
    },
    {
     "output_type": "stream",
     "name": "stdout",
     "text": [
      "[14:33:51] WARNING: ../src/learner.cc:1095: Starting in XGBoost 1.3.0, the default evaluation metric used with the objective 'binary:logistic' was changed from 'error' to 'logloss'. Explicitly set eval_metric if you'd like to restore the old behavior.\n",
      "[CV 1/3; 48/50] END randomforestclassifier__criterion=entropy, randomforestclassifier__n_estimators=12;, score=(train=0.912, test=0.757) total time= 3.2min\n",
      "[CV 2/3; 47/50] END randomforestclassifier__criterion=gini, randomforestclassifier__n_estimators=61;, score=(train=0.912, test=0.759) total time= 3.4min\n",
      "[CV 1/3; 50/50] START randomforestclassifier__criterion=entropy, randomforestclassifier__n_estimators=234\n"
     ]
    },
    {
     "output_type": "stream",
     "name": "stderr",
     "text": [
      "/home/hj/.local/share/virtualenvs/Kickstarter-aZ_5KkIK/lib/python3.9/site-packages/xgboost/sklearn.py:1146: UserWarning: The use of label encoder in XGBClassifier is deprecated and will be removed in a future release. To remove this warning, do the following: 1) Pass option use_label_encoder=False when constructing XGBClassifier object; and 2) Encode your labels (y) as integers starting with 0, i.e. 0, 1, 2, ..., [num_class - 1].\n",
      "  warnings.warn(label_encoder_deprecation_msg, UserWarning)\n"
     ]
    },
    {
     "output_type": "stream",
     "name": "stdout",
     "text": [
      "[14:33:58] WARNING: ../src/learner.cc:573: \n",
      "Parameters: { \"label_encoder\", \"randomforestclassifier__criterion\", \"randomforestclassifier__n_estimators\" } might not be used.\n",
      "\n",
      "  This may not be accurate due to some parameters are only used in language bindings but\n",
      "  passed down to XGBoost core.  Or some parameters are not used but slip through this\n",
      "  verification. Please open an issue if you find above cases.\n",
      "\n",
      "\n",
      "[CV 2/3; 50/50] START randomforestclassifier__criterion=entropy, randomforestclassifier__n_estimators=234\n"
     ]
    },
    {
     "output_type": "stream",
     "name": "stderr",
     "text": [
      "/home/hj/.local/share/virtualenvs/Kickstarter-aZ_5KkIK/lib/python3.9/site-packages/xgboost/sklearn.py:1146: UserWarning: The use of label encoder in XGBClassifier is deprecated and will be removed in a future release. To remove this warning, do the following: 1) Pass option use_label_encoder=False when constructing XGBClassifier object; and 2) Encode your labels (y) as integers starting with 0, i.e. 0, 1, 2, ..., [num_class - 1].\n",
      "  warnings.warn(label_encoder_deprecation_msg, UserWarning)\n"
     ]
    },
    {
     "output_type": "stream",
     "name": "stdout",
     "text": [
      "[14:33:59] WARNING: ../src/learner.cc:573: \n",
      "Parameters: { \"label_encoder\", \"randomforestclassifier__criterion\", \"randomforestclassifier__n_estimators\" } might not be used.\n",
      "\n",
      "  This may not be accurate due to some parameters are only used in language bindings but\n",
      "  passed down to XGBoost core.  Or some parameters are not used but slip through this\n",
      "  verification. Please open an issue if you find above cases.\n",
      "\n",
      "\n",
      "[14:34:01] WARNING: ../src/learner.cc:1095: Starting in XGBoost 1.3.0, the default evaluation metric used with the objective 'binary:logistic' was changed from 'error' to 'logloss'. Explicitly set eval_metric if you'd like to restore the old behavior.\n",
      "[14:34:03] WARNING: ../src/learner.cc:1095: Starting in XGBoost 1.3.0, the default evaluation metric used with the objective 'binary:logistic' was changed from 'error' to 'logloss'. Explicitly set eval_metric if you'd like to restore the old behavior.\n",
      "[CV 3/3; 47/50] END randomforestclassifier__criterion=gini, randomforestclassifier__n_estimators=61;, score=(train=0.911, test=0.755) total time= 3.5min\n",
      "[CV 3/3; 50/50] START randomforestclassifier__criterion=entropy, randomforestclassifier__n_estimators=234\n"
     ]
    },
    {
     "output_type": "stream",
     "name": "stderr",
     "text": [
      "/home/hj/.local/share/virtualenvs/Kickstarter-aZ_5KkIK/lib/python3.9/site-packages/xgboost/sklearn.py:1146: UserWarning: The use of label encoder in XGBClassifier is deprecated and will be removed in a future release. To remove this warning, do the following: 1) Pass option use_label_encoder=False when constructing XGBClassifier object; and 2) Encode your labels (y) as integers starting with 0, i.e. 0, 1, 2, ..., [num_class - 1].\n",
      "  warnings.warn(label_encoder_deprecation_msg, UserWarning)\n"
     ]
    },
    {
     "output_type": "stream",
     "name": "stdout",
     "text": [
      "[14:34:10] WARNING: ../src/learner.cc:573: \n",
      "Parameters: { \"label_encoder\", \"randomforestclassifier__criterion\", \"randomforestclassifier__n_estimators\" } might not be used.\n",
      "\n",
      "  This may not be accurate due to some parameters are only used in language bindings but\n",
      "  passed down to XGBoost core.  Or some parameters are not used but slip through this\n",
      "  verification. Please open an issue if you find above cases.\n",
      "\n",
      "\n",
      "[14:34:14] WARNING: ../src/learner.cc:1095: Starting in XGBoost 1.3.0, the default evaluation metric used with the objective 'binary:logistic' was changed from 'error' to 'logloss'. Explicitly set eval_metric if you'd like to restore the old behavior.\n",
      "[CV 2/3; 48/50] END randomforestclassifier__criterion=entropy, randomforestclassifier__n_estimators=12;, score=(train=0.912, test=0.759) total time= 3.3min\n",
      "[CV 3/3; 48/50] END randomforestclassifier__criterion=entropy, randomforestclassifier__n_estimators=12;, score=(train=0.911, test=0.755) total time= 3.3min\n",
      "[CV 1/3; 49/50] END randomforestclassifier__criterion=gini, randomforestclassifier__n_estimators=147;, score=(train=0.912, test=0.757) total time= 2.6min\n",
      "[CV 2/3; 49/50] END randomforestclassifier__criterion=gini, randomforestclassifier__n_estimators=147;, score=(train=0.912, test=0.759) total time= 2.5min\n",
      "[CV 3/3; 49/50] END randomforestclassifier__criterion=gini, randomforestclassifier__n_estimators=147;, score=(train=0.911, test=0.755) total time= 2.3min\n",
      "[CV 1/3; 50/50] END randomforestclassifier__criterion=entropy, randomforestclassifier__n_estimators=234;, score=(train=0.912, test=0.757) total time= 2.2min\n",
      "[CV 2/3; 50/50] END randomforestclassifier__criterion=entropy, randomforestclassifier__n_estimators=234;, score=(train=0.912, test=0.759) total time= 2.2min\n",
      "[CV 3/3; 50/50] END randomforestclassifier__criterion=entropy, randomforestclassifier__n_estimators=234;, score=(train=0.911, test=0.755) total time= 2.0min\n"
     ]
    },
    {
     "output_type": "stream",
     "name": "stderr",
     "text": [
      "/home/hj/.local/share/virtualenvs/Kickstarter-aZ_5KkIK/lib/python3.9/site-packages/xgboost/sklearn.py:1146: UserWarning: The use of label encoder in XGBClassifier is deprecated and will be removed in a future release. To remove this warning, do the following: 1) Pass option use_label_encoder=False when constructing XGBClassifier object; and 2) Encode your labels (y) as integers starting with 0, i.e. 0, 1, 2, ..., [num_class - 1].\n",
      "  warnings.warn(label_encoder_deprecation_msg, UserWarning)\n"
     ]
    },
    {
     "output_type": "stream",
     "name": "stdout",
     "text": [
      "[14:36:12] WARNING: ../src/learner.cc:573: \n",
      "Parameters: { \"label_encoder\", \"randomforestclassifier__criterion\", \"randomforestclassifier__n_estimators\" } might not be used.\n",
      "\n",
      "  This may not be accurate due to some parameters are only used in language bindings but\n",
      "  passed down to XGBoost core.  Or some parameters are not used but slip through this\n",
      "  verification. Please open an issue if you find above cases.\n",
      "\n",
      "\n",
      "[14:36:13] WARNING: ../src/learner.cc:1095: Starting in XGBoost 1.3.0, the default evaluation metric used with the objective 'binary:logistic' was changed from 'error' to 'logloss'. Explicitly set eval_metric if you'd like to restore the old behavior.\n"
     ]
    }
   ],
   "metadata": {}
  },
  {
   "cell_type": "code",
   "execution_count": 47,
   "source": [
    "training_accuracy = model.score(X_train, y_train)\n",
    "val_accuracy = model.score(X_val, y_val)\n",
    "print(training_accuracy, val_accuracy)"
   ],
   "outputs": [
    {
     "output_type": "stream",
     "name": "stdout",
     "text": [
      "0.8917419577602578 0.7646092934749248\n"
     ]
    }
   ],
   "metadata": {}
  },
  {
   "cell_type": "code",
   "execution_count": 48,
   "source": [
    "# Get feature importances\n",
    "#rf = model.named_steps['randomforestclassifier']\n",
    "importances = pd.Series(model.feature_importances_, X_train.columns)\n",
    "\n",
    "# Plot feature importances\n",
    "%matplotlib inline\n",
    "import matplotlib.pyplot as plt\n",
    "\n",
    "n = 20\n",
    "plt.figure(figsize=(10,n/2))\n",
    "plt.title(f'Top {n} features')\n",
    "importances.sort_values()[-n:].plot.barh(color='grey');"
   ],
   "outputs": [
    {
     "output_type": "display_data",
     "data": {
      "image/png": "[encoded data removed]",
      "text/plain": [
       "<Figure size 720x720 with 1 Axes>"
      ]
     },
     "metadata": {
      "needs_background": "light"
     }
    }
   ],
   "metadata": {}
  },
  {
   "cell_type": "code",
   "execution_count": 50,
   "source": [
    "#giving the prediction values\n",
    "y_pred = model.predict(X_val)"
   ],
   "outputs": [],
   "metadata": {}
  },
  {
   "cell_type": "code",
   "execution_count": 51,
   "source": [
    "def matrix(y_true, y_pred):\n",
    "    data = confusion_matrix(y_true, y_pred)\n",
    "    index = ['Actual 0', 'Actual 1']\n",
    "    columns = ['Predicted 0', 'Predicted 1']\n",
    "    return pd.DataFrame(data, index, columns)\n",
    "                        \n",
    "matrix(y_val, y_pred)"
   ],
   "outputs": [
    {
     "output_type": "execute_result",
     "data": {
      "text/html": [
       "<div>\n",
       "<style scoped>\n",
       "    .dataframe tbody tr th:only-of-type {\n",
       "        vertical-align: middle;\n",
       "    }\n",
       "\n",
       "    .dataframe tbody tr th {\n",
       "        vertical-align: top;\n",
       "    }\n",
       "\n",
       "    .dataframe thead th {\n",
       "        text-align: right;\n",
       "    }\n",
       "</style>\n",
       "<table border=\"1\" class=\"dataframe\">\n",
       "  <thead>\n",
       "    <tr style=\"text-align: right;\">\n",
       "      <th></th>\n",
       "      <th>Predicted 0</th>\n",
       "      <th>Predicted 1</th>\n",
       "    </tr>\n",
       "  </thead>\n",
       "  <tbody>\n",
       "    <tr>\n",
       "      <th>Actual 0</th>\n",
       "      <td>40774</td>\n",
       "      <td>6221</td>\n",
       "    </tr>\n",
       "    <tr>\n",
       "      <th>Actual 1</th>\n",
       "      <td>9118</td>\n",
       "      <td>9051</td>\n",
       "    </tr>\n",
       "  </tbody>\n",
       "</table>\n",
       "</div>"
      ],
      "text/plain": [
       "          Predicted 0  Predicted 1\n",
       "Actual 0        40774         6221\n",
       "Actual 1         9118         9051"
      ]
     },
     "metadata": {},
     "execution_count": 51
    }
   ],
   "metadata": {}
  },
  {
   "cell_type": "code",
   "execution_count": 52,
   "source": [
    "model_drop_features = ['goal', 'month', 'year']\n",
    "\n",
    "model_drop = XGBClassifier(label_encoder = False, random_state=42, n_estimators=50, n_jobs=-1, max_depth=15)\n",
    "model_drop.fit(X_train[model_drop_features], y_train)"
   ],
   "outputs": [
    {
     "output_type": "stream",
     "name": "stderr",
     "text": [
      "/home/hj/.local/share/virtualenvs/Kickstarter-aZ_5KkIK/lib/python3.9/site-packages/xgboost/sklearn.py:1146: UserWarning: The use of label encoder in XGBClassifier is deprecated and will be removed in a future release. To remove this warning, do the following: 1) Pass option use_label_encoder=False when constructing XGBClassifier object; and 2) Encode your labels (y) as integers starting with 0, i.e. 0, 1, 2, ..., [num_class - 1].\n",
      "  warnings.warn(label_encoder_deprecation_msg, UserWarning)\n"
     ]
    },
    {
     "output_type": "stream",
     "name": "stdout",
     "text": [
      "[14:37:46] WARNING: ../src/learner.cc:573: \n",
      "Parameters: { \"label_encoder\" } might not be used.\n",
      "\n",
      "  This may not be accurate due to some parameters are only used in language bindings but\n",
      "  passed down to XGBoost core.  Or some parameters are not used but slip through this\n",
      "  verification. Please open an issue if you find above cases.\n",
      "\n",
      "\n",
      "[14:37:46] WARNING: ../src/learner.cc:1095: Starting in XGBoost 1.3.0, the default evaluation metric used with the objective 'binary:logistic' was changed from 'error' to 'logloss'. Explicitly set eval_metric if you'd like to restore the old behavior.\n"
     ]
    },
    {
     "output_type": "execute_result",
     "data": {
      "text/plain": [
       "XGBClassifier(base_score=0.5, booster='gbtree', colsample_bylevel=1,\n",
       "              colsample_bynode=1, colsample_bytree=1, gamma=0, gpu_id=-1,\n",
       "              importance_type='gain', interaction_constraints='',\n",
       "              label_encoder=False, learning_rate=0.300000012, max_delta_step=0,\n",
       "              max_depth=15, min_child_weight=1, missing=nan,\n",
       "              monotone_constraints='()', n_estimators=50, n_jobs=-1,\n",
       "              num_parallel_tree=1, random_state=42, reg_alpha=0, reg_lambda=1,\n",
       "              scale_pos_weight=1, subsample=1, tree_method='exact',\n",
       "              validate_parameters=1, verbosity=None)"
      ]
     },
     "metadata": {},
     "execution_count": 52
    }
   ],
   "metadata": {}
  },
  {
   "cell_type": "code",
   "execution_count": 53,
   "source": [
    "training_accuracy_drop = model_drop.score(X_train[model_drop_features], y_train)\n",
    "val_accuracy_drop = model_drop.score(X_val[model_drop_features], y_val)\n",
    "print(training_accuracy_drop, val_accuracy_drop)"
   ],
   "outputs": [
    {
     "output_type": "stream",
     "name": "stdout",
     "text": [
      "0.7648347432429841 0.7396108280645756\n"
     ]
    }
   ],
   "metadata": {}
  },
  {
   "cell_type": "code",
   "execution_count": 54,
   "source": [
    "#creating and fitting model2 = LogisticRegression\n",
    "\n",
    "model2 = LogisticRegression(random_state=42, solver='newton-cg')\n",
    "model2.fit(X_train, y_train)"
   ],
   "outputs": [
    {
     "output_type": "stream",
     "name": "stderr",
     "text": [
      "/home/hj/.local/share/virtualenvs/Kickstarter-aZ_5KkIK/lib/python3.9/site-packages/scipy/optimize/linesearch.py:478: LineSearchWarning: The line search algorithm did not converge\n",
      "  warn('The line search algorithm did not converge', LineSearchWarning)\n",
      "/home/hj/.local/share/virtualenvs/Kickstarter-aZ_5KkIK/lib/python3.9/site-packages/scipy/optimize/linesearch.py:327: LineSearchWarning: The line search algorithm did not converge\n",
      "  warn('The line search algorithm did not converge', LineSearchWarning)\n",
      "/home/hj/.local/share/virtualenvs/Kickstarter-aZ_5KkIK/lib/python3.9/site-packages/scipy/optimize/linesearch.py:478: LineSearchWarning: The line search algorithm did not converge\n",
      "  warn('The line search algorithm did not converge', LineSearchWarning)\n",
      "/home/hj/.local/share/virtualenvs/Kickstarter-aZ_5KkIK/lib/python3.9/site-packages/scipy/optimize/linesearch.py:327: LineSearchWarning: The line search algorithm did not converge\n",
      "  warn('The line search algorithm did not converge', LineSearchWarning)\n",
      "/home/hj/.local/share/virtualenvs/Kickstarter-aZ_5KkIK/lib/python3.9/site-packages/scipy/optimize/linesearch.py:478: LineSearchWarning: The line search algorithm did not converge\n",
      "  warn('The line search algorithm did not converge', LineSearchWarning)\n",
      "/home/hj/.local/share/virtualenvs/Kickstarter-aZ_5KkIK/lib/python3.9/site-packages/scipy/optimize/linesearch.py:327: LineSearchWarning: The line search algorithm did not converge\n",
      "  warn('The line search algorithm did not converge', LineSearchWarning)\n",
      "/home/hj/.local/share/virtualenvs/Kickstarter-aZ_5KkIK/lib/python3.9/site-packages/scipy/optimize/linesearch.py:478: LineSearchWarning: The line search algorithm did not converge\n",
      "  warn('The line search algorithm did not converge', LineSearchWarning)\n",
      "/home/hj/.local/share/virtualenvs/Kickstarter-aZ_5KkIK/lib/python3.9/site-packages/scipy/optimize/linesearch.py:327: LineSearchWarning: The line search algorithm did not converge\n",
      "  warn('The line search algorithm did not converge', LineSearchWarning)\n",
      "/home/hj/.local/share/virtualenvs/Kickstarter-aZ_5KkIK/lib/python3.9/site-packages/scipy/optimize/linesearch.py:478: LineSearchWarning: The line search algorithm did not converge\n",
      "  warn('The line search algorithm did not converge', LineSearchWarning)\n",
      "/home/hj/.local/share/virtualenvs/Kickstarter-aZ_5KkIK/lib/python3.9/site-packages/scipy/optimize/linesearch.py:327: LineSearchWarning: The line search algorithm did not converge\n",
      "  warn('The line search algorithm did not converge', LineSearchWarning)\n",
      "/home/hj/.local/share/virtualenvs/Kickstarter-aZ_5KkIK/lib/python3.9/site-packages/scipy/optimize/linesearch.py:478: LineSearchWarning: The line search algorithm did not converge\n",
      "  warn('The line search algorithm did not converge', LineSearchWarning)\n",
      "/home/hj/.local/share/virtualenvs/Kickstarter-aZ_5KkIK/lib/python3.9/site-packages/scipy/optimize/linesearch.py:327: LineSearchWarning: The line search algorithm did not converge\n",
      "  warn('The line search algorithm did not converge', LineSearchWarning)\n",
      "/home/hj/.local/share/virtualenvs/Kickstarter-aZ_5KkIK/lib/python3.9/site-packages/sklearn/utils/optimize.py:202: ConvergenceWarning: newton-cg failed to converge. Increase the number of iterations.\n",
      "  warnings.warn(\"newton-cg failed to converge. Increase the \"\n"
     ]
    },
    {
     "output_type": "execute_result",
     "data": {
      "text/plain": [
       "LogisticRegression(random_state=42, solver='newton-cg')"
      ]
     },
     "metadata": {},
     "execution_count": 54
    }
   ],
   "metadata": {}
  },
  {
   "cell_type": "code",
   "execution_count": 55,
   "source": [
    "training_accuracy2 = model2.score(X_train, y_train)\n",
    "val_accuracy2 = model2.score(X_val, y_val)\n",
    "print(training_accuracy2, val_accuracy2)"
   ],
   "outputs": [
    {
     "output_type": "stream",
     "name": "stdout",
     "text": [
      "0.7359690011701291 0.7375391320360936\n"
     ]
    }
   ],
   "metadata": {}
  },
  {
   "cell_type": "code",
   "execution_count": 56,
   "source": [
    "#creating and fitting model3 = DecisionTree\n",
    "\n",
    "model3 = tree.DecisionTreeClassifier(random_state=42)\n",
    "model3.fit(X_train, y_train)"
   ],
   "outputs": [
    {
     "output_type": "execute_result",
     "data": {
      "text/plain": [
       "DecisionTreeClassifier(random_state=42)"
      ]
     },
     "metadata": {},
     "execution_count": 56
    }
   ],
   "metadata": {}
  },
  {
   "cell_type": "code",
   "execution_count": 57,
   "source": [
    "training_accuracy3 = model3.score(X_train, y_train)\n",
    "val_accuracy3 = model3.score(X_val, y_val)\n",
    "print(training_accuracy3, val_accuracy3)"
   ],
   "outputs": [
    {
     "output_type": "stream",
     "name": "stdout",
     "text": [
      "0.9999923270223092 0.7136916088637898\n"
     ]
    }
   ],
   "metadata": {}
  },
  {
   "cell_type": "code",
   "execution_count": 59,
   "source": [
    "#creating and fitting model4 = RandomForestClassifer\n",
    "\n",
    "model4 = RandomForestClassifier(random_state=42, n_estimators=50, n_jobs=-1)\n",
    "model4.fit(X_train, y_train);"
   ],
   "outputs": [],
   "metadata": {}
  },
  {
   "cell_type": "code",
   "execution_count": 60,
   "source": [
    "training_accuracy4 = model4.score(X_train, y_train)\n",
    "val_accuracy4 = model4.score(X_val, y_val)\n",
    "print(training_accuracy4, val_accuracy4)"
   ],
   "outputs": [
    {
     "output_type": "stream",
     "name": "stdout",
     "text": [
      "0.9997314457808214 0.7547725738137622\n"
     ]
    }
   ],
   "metadata": {}
  },
  {
   "cell_type": "code",
   "execution_count": 61,
   "source": [
    "#creating and fitting model5 = GradientBoostingClassifer\n",
    "model5 = GradientBoostingClassifier(random_state=42)\n",
    "model5.fit(X_train, y_train);"
   ],
   "outputs": [],
   "metadata": {}
  },
  {
   "cell_type": "code",
   "execution_count": 62,
   "source": [
    "\n",
    "training_accuracy5 = model5.score(X_train, y_train)\n",
    "val_accuracy5 = model5.score(X_val, y_val)\n",
    "print(training_accuracy5, val_accuracy5)"
   ],
   "outputs": [
    {
     "output_type": "stream",
     "name": "stdout",
     "text": [
      "0.7665496537568817 0.7667116812964213\n"
     ]
    }
   ],
   "metadata": {}
  },
  {
   "cell_type": "code",
   "execution_count": 63,
   "source": [
    "\n",
    "#perm_imp is set to be permutation importance of boosting model on X_val and y_val\n",
    "perm_imp = permutation_importance(model5, X_val, y_val, random_state=42)\n",
    "#setting data as dict of the permutation importances mean and std.\n",
    "data = {'imp_mean':perm_imp['importances_mean'],\n",
    "        'imp_std':perm_imp['importances_std']}\n",
    "#setting permutation_importances to be data frame with columns in X val to be index and 'data' to be the other columns. Sorting by the mean importance from data.\n",
    "permutation_importances5 = pd.DataFrame(data,index=X_val.columns).sort_values(by='imp_mean')\n",
    "\n",
    "permutation_importances5"
   ],
   "outputs": [
    {
     "output_type": "execute_result",
     "data": {
      "text/html": [
       "<div>\n",
       "<style scoped>\n",
       "    .dataframe tbody tr th:only-of-type {\n",
       "        vertical-align: middle;\n",
       "    }\n",
       "\n",
       "    .dataframe tbody tr th {\n",
       "        vertical-align: top;\n",
       "    }\n",
       "\n",
       "    .dataframe thead th {\n",
       "        text-align: right;\n",
       "    }\n",
       "</style>\n",
       "<table border=\"1\" class=\"dataframe\">\n",
       "  <thead>\n",
       "    <tr style=\"text-align: right;\">\n",
       "      <th></th>\n",
       "      <th>imp_mean</th>\n",
       "      <th>imp_std</th>\n",
       "    </tr>\n",
       "  </thead>\n",
       "  <tbody>\n",
       "    <tr>\n",
       "      <th>month</th>\n",
       "      <td>-0.000249</td>\n",
       "      <td>0.000310</td>\n",
       "    </tr>\n",
       "    <tr>\n",
       "      <th>currency</th>\n",
       "      <td>0.000282</td>\n",
       "      <td>0.000190</td>\n",
       "    </tr>\n",
       "    <tr>\n",
       "      <th>time_since_last_project</th>\n",
       "      <td>0.000623</td>\n",
       "      <td>0.000334</td>\n",
       "    </tr>\n",
       "    <tr>\n",
       "      <th>country</th>\n",
       "      <td>0.003137</td>\n",
       "      <td>0.000466</td>\n",
       "    </tr>\n",
       "    <tr>\n",
       "      <th>duration</th>\n",
       "      <td>0.014649</td>\n",
       "      <td>0.000480</td>\n",
       "    </tr>\n",
       "    <tr>\n",
       "      <th>year</th>\n",
       "      <td>0.014668</td>\n",
       "      <td>0.001005</td>\n",
       "    </tr>\n",
       "    <tr>\n",
       "      <th>main_category</th>\n",
       "      <td>0.019812</td>\n",
       "      <td>0.001006</td>\n",
       "    </tr>\n",
       "    <tr>\n",
       "      <th>goal</th>\n",
       "      <td>0.057225</td>\n",
       "      <td>0.001047</td>\n",
       "    </tr>\n",
       "  </tbody>\n",
       "</table>\n",
       "</div>"
      ],
      "text/plain": [
       "                         imp_mean   imp_std\n",
       "month                   -0.000249  0.000310\n",
       "currency                 0.000282  0.000190\n",
       "time_since_last_project  0.000623  0.000334\n",
       "country                  0.003137  0.000466\n",
       "duration                 0.014649  0.000480\n",
       "year                     0.014668  0.001005\n",
       "main_category            0.019812  0.001006\n",
       "goal                     0.057225  0.001047"
      ]
     },
     "metadata": {},
     "execution_count": 63
    }
   ],
   "metadata": {}
  },
  {
   "cell_type": "code",
   "execution_count": 64,
   "source": [
    "# Get feature importances\n",
    "importances5 = pd.Series(model5.feature_importances_, X_train.columns)\n",
    "\n",
    "# Plot feature importances\n",
    "%matplotlib inline\n",
    "import matplotlib.pyplot as plt\n",
    "\n",
    "n = 20\n",
    "plt.figure(figsize=(10,n/2))\n",
    "plt.title(f'Top {n} features')\n",
    "importances5.sort_values()[-n:].plot.barh(color='grey');"
   ],
   "outputs": [
    {
     "output_type": "display_data",
     "data": {
      "image/png": "[encoded data removed]",
      "text/plain": [
       "<Figure size 720x720 with 1 Axes>"
      ]
     },
     "metadata": {
      "needs_background": "light"
     }
    }
   ],
   "metadata": {}
  },
  {
   "cell_type": "code",
   "execution_count": 66,
   "source": [
    "#testing out the model \n",
    "model_drop_features = ['main_category', 'goal', 'month', 'year','time_since_last_project']\n",
    "model_drop = GradientBoostingClassifier(random_state=42, n_estimators=50, max_depth=15)\n",
    "model_drop.fit(X_train[model_drop_features], y_train)\n",
    "\n",
    "training_accuracy_drop = model_drop.score(X_train[model_drop_features], y_train)\n",
    "val_accuracy_drop = model_drop.score(X_val[model_drop_features], y_val)\n",
    "print(training_accuracy_drop, val_accuracy_drop)"
   ],
   "outputs": [
    {
     "output_type": "stream",
     "name": "stdout",
     "text": [
      "0.8648174790431796 0.7520563501319747\n"
     ]
    }
   ],
   "metadata": {}
  },
  {
   "cell_type": "code",
   "execution_count": 68,
   "source": [
    "#testing out the model if droppped a few columns\n",
    "model_drop_features = ['main_category', 'goal', 'month', 'year','time_since_last_project']\n",
    "model_drop = GradientBoostingClassifier(random_state=42, n_estimators=50, max_depth=15)\n",
    "model_drop.fit(X_train[model_drop_features], y_train)\n",
    "\n",
    "training_accuracy_drop = model_drop.score(X_train[model_drop_features], y_train)\n",
    "val_accuracy_drop = model_drop.score(X_val[model_drop_features], y_val)\n",
    "print(training_accuracy_drop, val_accuracy_drop)"
   ],
   "outputs": [
    {
     "output_type": "stream",
     "name": "stdout",
     "text": [
      "0.8648174790431796 0.7520563501319747\n"
     ]
    }
   ],
   "metadata": {}
  },
  {
   "cell_type": "code",
   "execution_count": 69,
   "source": [
    "#testing out the model if droppped a few columns\n",
    "model_drop_features = ['main_category', 'goal', 'year','time_since_last_project']\n",
    "model_drop = GradientBoostingClassifier(random_state=42, n_estimators=50, max_depth=15)\n",
    "model_drop.fit(X_train[model_drop_features], y_train)\n",
    "\n",
    "training_accuracy_drop = model_drop.score(X_train[model_drop_features], y_train)\n",
    "val_accuracy_drop = model_drop.score(X_val[model_drop_features], y_val)\n",
    "print(training_accuracy_drop, val_accuracy_drop)"
   ],
   "outputs": [
    {
     "output_type": "stream",
     "name": "stdout",
     "text": [
      "0.8435288024400069 0.753023141611933\n"
     ]
    }
   ],
   "metadata": {}
  },
  {
   "cell_type": "code",
   "execution_count": 71,
   "source": [
    "#testing out the model if droppped a few columns\n",
    "model_drop_features = ['main_category', 'goal', 'year', 'month']\n",
    "model_drop = GradientBoostingClassifier(random_state=42, n_estimators=50, max_depth=15)\n",
    "model_drop.fit(X_train[model_drop_features], y_train)\n",
    "\n",
    "training_accuracy_drop = model_drop.score(X_train[model_drop_features], y_train)\n",
    "val_accuracy_drop = model_drop.score(X_val[model_drop_features], y_val)\n",
    "print(training_accuracy_drop, val_accuracy_drop)"
   ],
   "outputs": [
    {
     "output_type": "stream",
     "name": "stdout",
     "text": [
      "0.8122153804837813 0.7561383586029096\n"
     ]
    }
   ],
   "metadata": {}
  },
  {
   "cell_type": "code",
   "execution_count": 93,
   "source": [
    "#testing out the model if droppped a few columns\n",
    "model_drop_features = ['duration', 'main_category', 'goal', 'month', 'year','time_since_last_project', 'country', 'currency']\n",
    "model_drop = GradientBoostingClassifier(random_state=42, n_estimators=50, max_depth=15)\n",
    "model_drop.fit(X_train, y_train)\n",
    "\n",
    "training_accuracy_drop = model_drop.score(X_train, y_train)\n",
    "val_accuracy_drop = model_drop.score(X_val, y_val)\n",
    "print(training_accuracy_drop, val_accuracy_drop)"
   ],
   "outputs": [
    {
     "output_type": "stream",
     "name": "stdout",
     "text": [
      "0.9075713107364141 0.7642409919587503\n"
     ]
    }
   ],
   "metadata": {}
  },
  {
   "cell_type": "code",
   "execution_count": 94,
   "source": [
    "\n",
    "import pickle\n",
    "with open('model.pkl', 'wb') as f:\n",
    "    pickle.dump(model5, f)"
   ],
   "outputs": [],
   "metadata": {}
  },
  {
   "cell_type": "code",
   "execution_count": 95,
   "source": [
    "pickle.load(open('model.pkl', 'rb'))"
   ],
   "outputs": [
    {
     "output_type": "execute_result",
     "data": {
      "text/plain": [
       "GradientBoostingClassifier(random_state=42)"
      ]
     },
     "metadata": {},
     "execution_count": 95
    }
   ],
   "metadata": {}
  },
  {
   "cell_type": "code",
   "execution_count": 96,
   "source": [
    "model5 = pickle.load(open('model.pkl', 'rb'))"
   ],
   "outputs": [],
   "metadata": {}
  },
  {
   "cell_type": "code",
   "execution_count": 97,
   "source": [
    "\n",
    "model5.predict(X_val.to_numpy())"
   ],
   "outputs": [
    {
     "output_type": "execute_result",
     "data": {
      "text/plain": [
       "array([0., 1., 0., ..., 1., 0., 0.])"
      ]
     },
     "metadata": {},
     "execution_count": 97
    }
   ],
   "metadata": {}
  },
  {
   "cell_type": "code",
   "execution_count": 98,
   "source": [
    "X_val.to_numpy()"
   ],
   "outputs": [
    {
     "output_type": "execute_result",
     "data": {
      "text/plain": [
       "array([[9.00000000e+03, 2.00000000e+00, 2.01500000e+03, ...,\n",
       "        1.30000000e+01, 1.00000000e+01, 2.79250000e+00],\n",
       "       [2.00000000e+03, 8.00000000e+00, 2.01300000e+03, ...,\n",
       "        1.30000000e+01, 1.00000000e+01, 7.61900000e+01],\n",
       "       [6.00000000e+02, 8.00000000e+00, 2.01400000e+03, ...,\n",
       "        1.30000000e+01, 1.20000000e+01, 3.12861111e+00],\n",
       "       ...,\n",
       "       [2.60000000e+03, 9.00000000e+00, 2.01300000e+03, ...,\n",
       "        5.00000000e+00, 6.00000000e+00, 6.83055556e+00],\n",
       "       [1.50000000e+04, 8.00000000e+00, 2.01200000e+03, ...,\n",
       "        1.30000000e+01, 1.00000000e+01, 3.06833333e+00],\n",
       "       [1.78370000e+05, 8.00000000e+00, 2.01700000e+03, ...,\n",
       "        1.30000000e+01, 1.30000000e+01, 6.44425000e+01]])"
      ]
     },
     "metadata": {},
     "execution_count": 98
    }
   ],
   "metadata": {}
  },
  {
   "cell_type": "code",
   "execution_count": 99,
   "source": [
    "X_val.shape"
   ],
   "outputs": [
    {
     "output_type": "execute_result",
     "data": {
      "text/plain": [
       "(65164, 8)"
      ]
     },
     "metadata": {},
     "execution_count": 99
    }
   ],
   "metadata": {}
  },
  {
   "cell_type": "code",
   "execution_count": 100,
   "source": [
    "X_val.head()"
   ],
   "outputs": [
    {
     "output_type": "execute_result",
     "data": {
      "text/html": [
       "<div>\n",
       "<style scoped>\n",
       "    .dataframe tbody tr th:only-of-type {\n",
       "        vertical-align: middle;\n",
       "    }\n",
       "\n",
       "    .dataframe tbody tr th {\n",
       "        vertical-align: top;\n",
       "    }\n",
       "\n",
       "    .dataframe thead th {\n",
       "        text-align: right;\n",
       "    }\n",
       "</style>\n",
       "<table border=\"1\" class=\"dataframe\">\n",
       "  <thead>\n",
       "    <tr style=\"text-align: right;\">\n",
       "      <th></th>\n",
       "      <th>goal</th>\n",
       "      <th>month</th>\n",
       "      <th>year</th>\n",
       "      <th>duration</th>\n",
       "      <th>country</th>\n",
       "      <th>currency</th>\n",
       "      <th>main_category</th>\n",
       "      <th>time_since_last_project</th>\n",
       "    </tr>\n",
       "    <tr>\n",
       "      <th>name</th>\n",
       "      <th></th>\n",
       "      <th></th>\n",
       "      <th></th>\n",
       "      <th></th>\n",
       "      <th></th>\n",
       "      <th></th>\n",
       "      <th></th>\n",
       "      <th></th>\n",
       "    </tr>\n",
       "  </thead>\n",
       "  <tbody>\n",
       "    <tr>\n",
       "      <th>Starting from scratch</th>\n",
       "      <td>9000.0</td>\n",
       "      <td>2</td>\n",
       "      <td>2015</td>\n",
       "      <td>59</td>\n",
       "      <td>22</td>\n",
       "      <td>13</td>\n",
       "      <td>10</td>\n",
       "      <td>2.792500</td>\n",
       "    </tr>\n",
       "    <tr>\n",
       "      <th>Dreams of Elysium</th>\n",
       "      <td>2000.0</td>\n",
       "      <td>8</td>\n",
       "      <td>2013</td>\n",
       "      <td>29</td>\n",
       "      <td>22</td>\n",
       "      <td>13</td>\n",
       "      <td>10</td>\n",
       "      <td>76.190000</td>\n",
       "    </tr>\n",
       "    <tr>\n",
       "      <th>The Legends of Christopher Drake: In the Beginning</th>\n",
       "      <td>600.0</td>\n",
       "      <td>8</td>\n",
       "      <td>2014</td>\n",
       "      <td>9</td>\n",
       "      <td>22</td>\n",
       "      <td>13</td>\n",
       "      <td>12</td>\n",
       "      <td>3.128611</td>\n",
       "    </tr>\n",
       "    <tr>\n",
       "      <th>World's Best Doctor Who Inspired TARDIS</th>\n",
       "      <td>1000.0</td>\n",
       "      <td>10</td>\n",
       "      <td>2017</td>\n",
       "      <td>29</td>\n",
       "      <td>22</td>\n",
       "      <td>13</td>\n",
       "      <td>5</td>\n",
       "      <td>29.357778</td>\n",
       "    </tr>\n",
       "    <tr>\n",
       "      <th>Turbo Pot-Cooking for a Sustainable Life Style</th>\n",
       "      <td>15000.0</td>\n",
       "      <td>12</td>\n",
       "      <td>2015</td>\n",
       "      <td>29</td>\n",
       "      <td>22</td>\n",
       "      <td>13</td>\n",
       "      <td>7</td>\n",
       "      <td>0.920000</td>\n",
       "    </tr>\n",
       "  </tbody>\n",
       "</table>\n",
       "</div>"
      ],
      "text/plain": [
       "                                                       goal  month  year  \\\n",
       "name                                                                       \n",
       "Starting from scratch                                9000.0      2  2015   \n",
       "Dreams of Elysium                                    2000.0      8  2013   \n",
       "The Legends of Christopher Drake: In the Beginning    600.0      8  2014   \n",
       "World's Best Doctor Who Inspired TARDIS              1000.0     10  2017   \n",
       "Turbo Pot-Cooking for a Sustainable Life Style      15000.0     12  2015   \n",
       "\n",
       "                                                    duration  country  \\\n",
       "name                                                                    \n",
       "Starting from scratch                                     59       22   \n",
       "Dreams of Elysium                                         29       22   \n",
       "The Legends of Christopher Drake: In the Beginning         9       22   \n",
       "World's Best Doctor Who Inspired TARDIS                   29       22   \n",
       "Turbo Pot-Cooking for a Sustainable Life Style            29       22   \n",
       "\n",
       "                                                    currency  main_category  \\\n",
       "name                                                                          \n",
       "Starting from scratch                                     13             10   \n",
       "Dreams of Elysium                                         13             10   \n",
       "The Legends of Christopher Drake: In the Beginning        13             12   \n",
       "World's Best Doctor Who Inspired TARDIS                   13              5   \n",
       "Turbo Pot-Cooking for a Sustainable Life Style            13              7   \n",
       "\n",
       "                                                    time_since_last_project  \n",
       "name                                                                         \n",
       "Starting from scratch                                              2.792500  \n",
       "Dreams of Elysium                                                 76.190000  \n",
       "The Legends of Christopher Drake: In the Beginning                 3.128611  \n",
       "World's Best Doctor Who Inspired TARDIS                           29.357778  \n",
       "Turbo Pot-Cooking for a Sustainable Life Style                     0.920000  "
      ]
     },
     "metadata": {},
     "execution_count": 100
    }
   ],
   "metadata": {}
  }
 ],
 "metadata": {
  "orig_nbformat": 4,
  "language_info": {
   "name": "python",
   "version": "3.9.6",
   "mimetype": "text/x-python",
   "codemirror_mode": {
    "name": "ipython",
    "version": 3
   },
   "pygments_lexer": "ipython3",
   "nbconvert_exporter": "python",
   "file_extension": ".py"
  },
  "kernelspec": {
   "name": "python3",
   "display_name": "Python 3.9.6 64-bit ('Kickstarter-aZ_5KkIK': venv)"
  },
  "interpreter": {
   "hash": "9258e6ba1bc1f1ecd57e8e97cb20ccbdf55ad08e143487712f008cc24a7e2105"
  }
 },
 "nbformat": 4,
 "nbformat_minor": 2
}